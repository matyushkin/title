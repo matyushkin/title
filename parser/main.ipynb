{
 "cells": [
  {
   "cell_type": "markdown",
   "metadata": {},
   "source": [
    "**Текущие задачи**:\n",
    "- Реализовать проверку новых статей для tproger\n",
    "- Фактически для проверки начала работы, нам достаточно знать лишь `parse_time`\n",
    "- Выгружать датасет из памяти после того, как он был считан. Составлять новый датасет, выводить в csv и конкатенировать сами csv.\n",
    "- Функция обновления views_num (и других показателей)\n",
    "- Функция поиска новых статей и составления по ним записей: сравниваем текущую дату и дату последней статьи, запускаем поочередное обращение к ресурсам\n",
    "- Оформить корпус: csv + zip с файлами полных текстов\n",
    "- Однотипное оформление столбцов\n",
    "- Однотипное оформление файлов"
   ]
  },
  {
   "cell_type": "markdown",
   "metadata": {},
   "source": [
    "Исходные данные собраны посредством `wget` и уже предобработаны. Однако со временем на ресурсах публикуются новые статьи, а старые статьи продолжают набирать просмотры. Сбор и обновление соответствующей информации помогают учесть появление новых технологий.\n",
    "\n",
    "Чтобы не создавать повышенную нагрузку на серверы ресурсов и не вызывать их подозрений, необходимо их опрашивать поочередно. Все необходимые методы содержатся внутри класса `Parser`, а оркестровку парсеров проводит объект класса `ParserComposer`."
   ]
  },
  {
   "cell_type": "code",
   "execution_count": 1,
   "metadata": {},
   "outputs": [],
   "source": [
    "# standard library\n",
    "import datetime\n",
    "import re\n",
    "import uuid\n",
    "import pickle\n",
    "\n",
    "# conections\n",
    "import requests\n",
    "from requests.exceptions import ConnectionError\n",
    "\n",
    "# parsers libraries\n",
    "from bs4 import BeautifulSoup\n",
    "from selenium import webdriver\n",
    "from selenium.common.exceptions import TimeoutException\n",
    "from selenium.webdriver.support.ui import WebDriverWait\n",
    "from selenium.webdriver.support import expected_conditions as EC\n",
    "from selenium.webdriver.common.by import By\n",
    "headers = {'User-Agent': 'Mozilla/5.0 (Macintosh; Intel Mac OS X 10_10_1) AppleWebKit/537.36 (KHTML, like Gecko) Chrome/39.0.2171.95 Safari/537.36'}\n",
    "\n",
    "# data science \n",
    "import pandas as pd\n",
    "from tqdm.notebook import tqdm, trange\n",
    "\n",
    "sources = {\n",
    "    'tproger':\n",
    "        {\n",
    "            'base_url': 'https://tproger.ru',\n",
    "            'first_page_url': 'https://tproger.ru/page/1/'},\n",
    "    'habr':\n",
    "        {\n",
    "            'base_url': 'https://habr.com'\n",
    "        }\n",
    "}\n",
    "\n",
    "for source in sources:\n",
    "    sources[source]['df'] = pd.read_csv(f'../../DATASETS/{source}.csv.zip',\n",
    "                               index_col=0,\n",
    "                               parse_dates=['post_time', 'parse_time'])"
   ]
  },
  {
   "cell_type": "code",
   "execution_count": 4,
   "metadata": {},
   "outputs": [],
   "source": [
    "class Parser:\n",
    "    def __init__(self, source):\n",
    "        self.df = pd.read_csv(f'../../DATASETS/{source}.csv.zip',\n",
    "                         index_col=0,\n",
    "                         parse_dates=['post_time', 'parse_time'])\n",
    "    \n",
    "    def delta_dates_days(self):\n",
    "        today_date = datetime.datetime.now()\n",
    "        last_parse_date = self.df.post_time.max()\n",
    "        today_date = today_date.replace(tzinfo=last_parse_date.tz)\n",
    "        delta_dates = today_date - last_parse_date\n",
    "        return delta_dates.days\n",
    "    \n",
    "    def check_new_articles(self):\n",
    "        '''\n",
    "        Проверяет, появились ли на ресурсе новые публикации,\n",
    "        и если появились, заносит их в план на скачивание.\n",
    "        '''\n",
    "        pass\n",
    "\n",
    "    def update_corpora(self):\n",
    "        '''\n",
    "        Скачивает новые статьи и данные о них для датафрейма.\n",
    "        '''\n",
    "        pass\n",
    "    \n",
    "    def update_views(self):\n",
    "        '''\n",
    "        Обновляет число просмотров у скачанных статей.\n",
    "        '''\n",
    "        pass\n",
    "    \n",
    "    def concat_csv(self):\n",
    "        '''\n",
    "        Соединяет старый csv и тот, что получен из новых данных.\n",
    "        '''\n",
    "        pass\n",
    "    \n",
    "\n",
    "class ParserComposer:\n",
    "    def __init__(self):\n",
    "        pass\n",
    "    \n",
    "    def scheduler(self):\n",
    "        '''\n",
    "        Сортирует задачи таким образом, чтобы\n",
    "        равномерно распределить запросы к внешним ресурсам\n",
    "        '''\n",
    "        pass\n",
    "    \n",
    "    def normal_pipeline(self):\n",
    "        # check_new_articles()\n",
    "        # планировщик\n",
    "        # update_corpora\n",
    "        # update_vies для последних из новых\n",
    "        pass"
   ]
  },
  {
   "cell_type": "code",
   "execution_count": 5,
   "metadata": {},
   "outputs": [],
   "source": [
    "tproger_parser = Parser('tproger')"
   ]
  },
  {
   "cell_type": "code",
   "execution_count": 6,
   "metadata": {},
   "outputs": [
    {
     "data": {
      "text/plain": [
       "14"
      ]
     },
     "execution_count": 6,
     "metadata": {},
     "output_type": "execute_result"
    }
   ],
   "source": [
    "tproger_parser.delta_dates_days()"
   ]
  },
  {
   "cell_type": "code",
   "execution_count": 7,
   "metadata": {},
   "outputs": [],
   "source": [
    "\n",
    "    source = 'tproger'\n",
    "    article_urls = []\n",
    "    page_url = sources[source]['first_page_url']\n",
    "    page = requests.get(url, headers=headers)\n",
    "    soup = BeautifulSoup(page.text, 'html.parser')\n",
    "    post_links = soup.find_all('a', {'class':'article-link'})\n",
    "    article_urls = [url['href'] for url in post_links]"
   ]
  },
  {
   "cell_type": "code",
   "execution_count": null,
   "metadata": {},
   "outputs": [],
   "source": [
    "get"
   ]
  },
  {
   "cell_type": "code",
   "execution_count": null,
   "metadata": {},
   "outputs": [],
   "source": [
    "for i in trange(1, 81):    \n",
    "    for url in tqdm(urls):\n",
    "        if url in data[source]:\n",
    "            continue\n",
    "        else:\n",
    "            try:\n",
    "                get_data_from_tproger_article(data, source, url)\n",
    "            except ConnectionError:\n",
    "                time.sleep(60)"
   ]
  },
  {
   "cell_type": "code",
   "execution_count": 101,
   "metadata": {},
   "outputs": [
    {
     "data": {
      "text/plain": [
       "{'tproger': {'base_url': 'https://tproger.ru',\n",
       "  'first_page_url': 'https://tproger.ru/page/1'},\n",
       " 'habr': {'base_url': 'https://habr.com'}}"
      ]
     },
     "execution_count": 101,
     "metadata": {},
     "output_type": "execute_result"
    }
   ],
   "source": [
    "sources"
   ]
  },
  {
   "cell_type": "code",
   "execution_count": 148,
   "metadata": {},
   "outputs": [
    {
     "data": {
      "text/plain": [
       "{'https://tproger.ru/articles/5-sposobov-pobedit-vygoranie-u-programmistov/',\n",
       " 'https://tproger.ru/articles/6-sposobov-bolshe-uznat-pro-algoritmy/',\n",
       " 'https://tproger.ru/articles/8-jazykov-programmirovanija-dlja-android-razrabotchika/',\n",
       " 'https://tproger.ru/articles/chto-novogo-v-java-16-i-kak-na-jeto-otreagirovali-razrabotchiki/',\n",
       " 'https://tproger.ru/articles/chto-pochitat-nachinajushhemu-testirovshhiku/',\n",
       " 'https://tproger.ru/articles/kak-programmistu-sdelat-horoshij-ux/',\n",
       " 'https://tproger.ru/articles/kakoj-samyj-bezopasnyj-messendzher-dlja-polzovatelej/',\n",
       " 'https://tproger.ru/articles/kejs-habib-vs-makgregor-ili-raspoznavanie-lic-na-python/',\n",
       " 'https://tproger.ru/articles/metanavyki-chto-jeto-takoe-i-zachem-ih-uchit/',\n",
       " 'https://tproger.ru/articles/moja-istorija-v-it-ot-programmirovanija-s-otcom-do-mezhdunarodnogo-proekta/',\n",
       " 'https://tproger.ru/articles/opyt-v-menedzhmente-ili-v-it-chto-vazhnee-kogda-hochesh-stat-prodzhekt-menedzherom/',\n",
       " 'https://tproger.ru/articles/osnovnoj-nabor-povsednevnyh-instrumentov-devops-inzhenera/',\n",
       " 'https://tproger.ru/articles/pochemu-vam-stoit-vybrat-node-js-dlja-razrabotki-servernyh-prilozhenij/',\n",
       " 'https://tproger.ru/articles/postojannyj-kalendar-mechta-programmista/',\n",
       " 'https://tproger.ru/articles/reaktivnye-formy-v-angular/',\n",
       " 'https://tproger.ru/articles/sozdanie-pet-proekta-na-flutter-i-firebase-pochemu-sdelali-takoj-vybor/',\n",
       " 'https://tproger.ru/articles/stoit-prochitat-vospominanija-introvertov-izmenivshih-mir/',\n",
       " 'https://tproger.ru/articles/test-ugadajte-mobilnuju-os-po-skrinshotu/',\n",
       " 'https://tproger.ru/articles/tochka-s-zapjatoj-v-javascript-typescript-za-i-protiv/',\n",
       " 'https://tproger.ru/books/stoit-prochitat-obzor-knigi-charlza-petcolda-kod-tajnyj-jazyk-informatiki/',\n",
       " 'https://tproger.ru/books/stoit-prochitat-obzor-knigi-medzhui-mehdi-nepreryvnoe-razvitie-api-pravilnye-reshenija-v-izmenchivom-tehnologicheskom-landshafte/',\n",
       " 'https://tproger.ru/interactive/narrativ-ot-tipichnogo-programmista-i-ngenix/',\n",
       " 'https://tproger.ru/translations/vzaimodejstvie-python-i-fuguesql-v-jupiter-notebooks/'}"
      ]
     },
     "execution_count": 148,
     "metadata": {},
     "output_type": "execute_result"
    }
   ],
   "source": [
    "page_new_articles_urls"
   ]
  },
  {
   "cell_type": "code",
   "execution_count": 8,
   "metadata": {},
   "outputs": [
    {
     "data": {
      "text/plain": [
       "True"
      ]
     },
     "execution_count": 8,
     "metadata": {},
     "output_type": "execute_result"
    }
   ],
   "source": [
    "all_new_urls = set()\n",
    "page_count = 1\n"
   ]
  },
  {
   "cell_type": "code",
   "execution_count": 10,
   "metadata": {},
   "outputs": [
    {
     "name": "stdout",
     "output_type": "stream",
     "text": [
      "{'https://tproger.ru/articles/6-sposobov-bolshe-uznat-pro-algoritmy/', 'https://tproger.ru/articles/moja-istorija-v-it-ot-programmirovanija-s-otcom-do-mezhdunarodnogo-proekta/', 'https://tproger.ru/articles/pochemu-vam-stoit-vybrat-node-js-dlja-razrabotki-servernyh-prilozhenij/', 'https://tproger.ru/articles/reaktivnye-formy-v-angular/', 'https://tproger.ru/articles/5-sposobov-pobedit-vygoranie-u-programmistov/', 'https://tproger.ru/articles/kak-programmistu-sdelat-horoshij-ux/', 'https://tproger.ru/articles/kakoj-samyj-bezopasnyj-messendzher-dlja-polzovatelej/', 'https://tproger.ru/books/stoit-prochitat-obzor-knigi-medzhui-mehdi-nepreryvnoe-razvitie-api-pravilnye-reshenija-v-izmenchivom-tehnologicheskom-landshafte/', 'https://tproger.ru/articles/metanavyki-chto-jeto-takoe-i-zachem-ih-uchit/', 'https://tproger.ru/articles/stoit-prochitat-vospominanija-introvertov-izmenivshih-mir/', 'https://tproger.ru/articles/postojannyj-kalendar-mechta-programmista/', 'https://tproger.ru/articles/test-ugadajte-mobilnuju-os-po-skrinshotu/', 'https://tproger.ru/articles/chto-novogo-v-java-16-i-kak-na-jeto-otreagirovali-razrabotchiki/', 'https://tproger.ru/articles/chto-pochitat-nachinajushhemu-testirovshhiku/', 'https://tproger.ru/articles/sozdanie-pet-proekta-na-flutter-i-firebase-pochemu-sdelali-takoj-vybor/', 'https://tproger.ru/translations/vzaimodejstvie-python-i-fuguesql-v-jupiter-notebooks/', 'https://tproger.ru/books/stoit-prochitat-obzor-knigi-charlza-petcolda-kod-tajnyj-jazyk-informatiki/', 'https://tproger.ru/articles/osnovnoj-nabor-povsednevnyh-instrumentov-devops-inzhenera/', 'https://tproger.ru/articles/opyt-v-menedzhmente-ili-v-it-chto-vazhnee-kogda-hochesh-stat-prodzhekt-menedzherom/', 'https://tproger.ru/articles/kejs-habib-vs-makgregor-ili-raspoznavanie-lic-na-python/', 'https://tproger.ru/articles/8-jazykov-programmirovanija-dlja-android-razrabotchika/', 'https://tproger.ru/interactive/narrativ-ot-tipichnogo-programmista-i-ngenix/', 'https://tproger.ru/articles/tochka-s-zapjatoj-v-javascript-typescript-za-i-protiv/'}\n",
      "\n"
     ]
    }
   ],
   "source": [
    "def check_new_articles_tproger(source='tproger'):\n",
    "    all_new_urls, page_count, source = set(), 1, source   \n",
    "    while True:   \n",
    "        page_url = sources[source]['first_page_url'].replace('1', str(page_count))\n",
    "        page = requests.get(page_url, headers=headers)\n",
    "        soup = BeautifulSoup(page.text, 'html.parser')\n",
    "        article_links = soup.find_all('a', {'class':'article-link'})\n",
    "        urls = {url['href'] for url in article_links}\n",
    "        old_urls = set(sources[source]['df'].index.to_list())\n",
    "        new_urls = urls - old_urls\n",
    "        all_new_urls = all_new_urls | new_urls\n",
    "        if len(new_urls) < len(urls):\n",
    "            print(f\"{len(all_new_urls)} new urls for {source}.\")\n",
    "            break\n",
    "        else:\n",
    "            page_count += 1"
   ]
  },
  {
   "cell_type": "code",
   "execution_count": 140,
   "metadata": {},
   "outputs": [],
   "source": [
    "a = set([1]).update(set([2]))\n",
    "a"
   ]
  },
  {
   "cell_type": "code",
   "execution_count": 128,
   "metadata": {},
   "outputs": [
    {
     "data": {
      "text/plain": [
       "{'https://tproger.ru/articles/5-sposobov-pobedit-vygoranie-u-programmistov/',\n",
       " 'https://tproger.ru/articles/6-sposobov-bolshe-uznat-pro-algoritmy/',\n",
       " 'https://tproger.ru/articles/8-jazykov-programmirovanija-dlja-android-razrabotchika/',\n",
       " 'https://tproger.ru/articles/chto-novogo-v-java-16-i-kak-na-jeto-otreagirovali-razrabotchiki/',\n",
       " 'https://tproger.ru/articles/chto-pochitat-nachinajushhemu-testirovshhiku/',\n",
       " 'https://tproger.ru/articles/kak-programmistu-sdelat-horoshij-ux/',\n",
       " 'https://tproger.ru/articles/kakoj-samyj-bezopasnyj-messendzher-dlja-polzovatelej/',\n",
       " 'https://tproger.ru/articles/kejs-habib-vs-makgregor-ili-raspoznavanie-lic-na-python/',\n",
       " 'https://tproger.ru/articles/metanavyki-chto-jeto-takoe-i-zachem-ih-uchit/',\n",
       " 'https://tproger.ru/articles/moja-istorija-v-it-ot-programmirovanija-s-otcom-do-mezhdunarodnogo-proekta/',\n",
       " 'https://tproger.ru/articles/opyt-v-menedzhmente-ili-v-it-chto-vazhnee-kogda-hochesh-stat-prodzhekt-menedzherom/',\n",
       " 'https://tproger.ru/articles/osnovnoj-nabor-povsednevnyh-instrumentov-devops-inzhenera/',\n",
       " 'https://tproger.ru/articles/pochemu-vam-stoit-vybrat-node-js-dlja-razrabotki-servernyh-prilozhenij/',\n",
       " 'https://tproger.ru/articles/postojannyj-kalendar-mechta-programmista/',\n",
       " 'https://tproger.ru/articles/reaktivnye-formy-v-angular/',\n",
       " 'https://tproger.ru/articles/sozdanie-pet-proekta-na-flutter-i-firebase-pochemu-sdelali-takoj-vybor/',\n",
       " 'https://tproger.ru/articles/stoit-prochitat-vospominanija-introvertov-izmenivshih-mir/',\n",
       " 'https://tproger.ru/articles/test-ugadajte-mobilnuju-os-po-skrinshotu/',\n",
       " 'https://tproger.ru/articles/tochka-s-zapjatoj-v-javascript-typescript-za-i-protiv/',\n",
       " 'https://tproger.ru/books/stoit-prochitat-obzor-knigi-charlza-petcolda-kod-tajnyj-jazyk-informatiki/',\n",
       " 'https://tproger.ru/books/stoit-prochitat-obzor-knigi-medzhui-mehdi-nepreryvnoe-razvitie-api-pravilnye-reshenija-v-izmenchivom-tehnologicheskom-landshafte/',\n",
       " 'https://tproger.ru/interactive/narrativ-ot-tipichnogo-programmista-i-ngenix/',\n",
       " 'https://tproger.ru/translations/vzaimodejstvie-python-i-fuguesql-v-jupiter-notebooks/'}"
      ]
     },
     "execution_count": 128,
     "metadata": {},
     "output_type": "execute_result"
    }
   ],
   "source": [
    " - test"
   ]
  },
  {
   "cell_type": "code",
   "execution_count": null,
   "metadata": {},
   "outputs": [],
   "source": []
  }
 ],
 "metadata": {
  "kernelspec": {
   "display_name": "Python 3",
   "language": "python",
   "name": "python3"
  },
  "language_info": {
   "codemirror_mode": {
    "name": "ipython",
    "version": 3
   },
   "file_extension": ".py",
   "mimetype": "text/x-python",
   "name": "python",
   "nbconvert_exporter": "python",
   "pygments_lexer": "ipython3",
   "version": "3.8.5"
  }
 },
 "nbformat": 4,
 "nbformat_minor": 4
}
