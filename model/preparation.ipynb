{
 "cells": [
  {
   "cell_type": "markdown",
   "metadata": {},
   "source": [
    "# Подготовка данных для модели оценки заголовка\n",
    "\n",
    "Введенные или сгенерированные заголовки нужно как-то оценивать. Так как главной целью обычно является увеличение количества просмотров, то в качестве критерия нужно использовать число просмотров у ранее опубликованных статей. То есть перед нами стоит задача **регрессии**: на входе заголовок, на выходе число (балл от 0.0 до 10.0 с точностью 0.1)."
   ]
  },
  {
   "cell_type": "code",
   "execution_count": 1,
   "metadata": {},
   "outputs": [],
   "source": [
    "import warnings\n",
    "warnings.filterwarnings('ignore')\n",
    "\n",
    "# standard libraries\n",
    "import gc\n",
    "import pickle\n",
    "import io\n",
    "\n",
    "# data processing libraries\n",
    "import numpy as np\n",
    "import pandas as pd\n",
    "\n",
    "from sklearn.pipeline import make_pipeline\n",
    "from sklearn.preprocessing import StandardScaler\n",
    "from sklearn.ensemble import RandomForestRegressor\n",
    "from sklearn.metrics import mean_squared_error as mse\n",
    "\n",
    "# make numpy printouts easier to read\n",
    "np.set_printoptions(precision=3, suppress=True)\n",
    "\n",
    "# data processing progress bar\n",
    "from tqdm.auto import tqdm\n",
    "tqdm.pandas()\n",
    "\n",
    "# visualization\n",
    "import matplotlib.pyplot as plt\n",
    "import seaborn as sns\n",
    "\n",
    "# пути к датасетам\n",
    "DATASETS_PATH = \"/home/leo/DATASETS\"\n",
    "\n",
    "# общий для приложений словарь с источником данных и их характеристиками\n",
    "with open('../sources.pickle', 'rb') as f:\n",
    "    sources = pickle.load(f)\n",
    "\n",
    "%matplotlib inline"
   ]
  },
  {
   "cell_type": "markdown",
   "metadata": {},
   "source": [
    "# Подготовка данных\n",
    "## 1. Соединение датафреймов\n",
    "\n",
    "В нашем распоряжении имеется множество данных, полученных в результате парсинга. Объединим их в один большой датасет для построения модели оценки заголовков. Для построения будем использовать те датасеты (сайты), которые содержат информацию о количестве просмотров статей."
   ]
  },
  {
   "cell_type": "code",
   "execution_count": 2,
   "metadata": {},
   "outputs": [
    {
     "data": {
      "text/html": [
       "<div>\n",
       "<style scoped>\n",
       "    .dataframe tbody tr th:only-of-type {\n",
       "        vertical-align: middle;\n",
       "    }\n",
       "\n",
       "    .dataframe tbody tr th {\n",
       "        vertical-align: top;\n",
       "    }\n",
       "\n",
       "    .dataframe thead th {\n",
       "        text-align: right;\n",
       "    }\n",
       "</style>\n",
       "<table border=\"1\" class=\"dataframe\">\n",
       "  <thead>\n",
       "    <tr style=\"text-align: right;\">\n",
       "      <th></th>\n",
       "      <th>title</th>\n",
       "      <th>post_time</th>\n",
       "      <th>short_text</th>\n",
       "      <th>views_num</th>\n",
       "      <th>parse_time</th>\n",
       "      <th>filename</th>\n",
       "      <th>source</th>\n",
       "      <th>likes_num</th>\n",
       "      <th>favs_num</th>\n",
       "      <th>comments_num</th>\n",
       "    </tr>\n",
       "  </thead>\n",
       "  <tbody>\n",
       "    <tr>\n",
       "      <th>https://tproger.ru/articles/kak-bystro-razvernut-hranilishhe-i-analitiku-dannyh-dlja-biznesa/</th>\n",
       "      <td>Как быстро развернуть хранилище и аналитику да...</td>\n",
       "      <td>2021-03-01 12:32:23+03:00</td>\n",
       "      <td>Сегодня хочу рассказать историю проекта по зап...</td>\n",
       "      <td>7825</td>\n",
       "      <td>2021-03-14</td>\n",
       "      <td>59a7ab25-11f7-502a-b63a-bbdcb121f488</td>\n",
       "      <td>tproger</td>\n",
       "      <td>NaN</td>\n",
       "      <td>NaN</td>\n",
       "      <td>NaN</td>\n",
       "    </tr>\n",
       "    <tr>\n",
       "      <th>https://tproger.ru/articles/7-prakticheskih-zadanij-s-sobesedovanija-na-poziciju-junior-java-developer/</th>\n",
       "      <td>7 практических заданий с собеседования на пози...</td>\n",
       "      <td>2021-03-01 09:05:11+03:00</td>\n",
       "      <td>Для начинающего разработчика очень важно не то...</td>\n",
       "      <td>6741</td>\n",
       "      <td>2021-03-14</td>\n",
       "      <td>80f10716-5243-55ca-a67d-4dfe77cd27a5</td>\n",
       "      <td>tproger</td>\n",
       "      <td>NaN</td>\n",
       "      <td>NaN</td>\n",
       "      <td>NaN</td>\n",
       "    </tr>\n",
       "    <tr>\n",
       "      <th>https://tproger.ru/quiz/test-chto-mozhet-jeta-nejroset/</th>\n",
       "      <td>Тест: что реально, а что создала нейросеть?</td>\n",
       "      <td>2021-02-26 19:39:50+03:00</td>\n",
       "      <td>Сегодня нейронные сети используются в сельском...</td>\n",
       "      <td>4032</td>\n",
       "      <td>2021-03-14</td>\n",
       "      <td>aaffd2c5-592f-5d7b-b972-95073d0da49a</td>\n",
       "      <td>tproger</td>\n",
       "      <td>NaN</td>\n",
       "      <td>NaN</td>\n",
       "      <td>NaN</td>\n",
       "    </tr>\n",
       "    <tr>\n",
       "      <th>https://tproger.ru/articles/kak-najti-dejstvitelno-horoshij-kurs-po-razrabotke-8-shagov-na-puti-k-pravilnomu-vyboru/</th>\n",
       "      <td>Как найти действительно хороший курс по разраб...</td>\n",
       "      <td>2021-02-26 17:29:00+03:00</td>\n",
       "      <td>Сразу хочется пошутить и предложить разработат...</td>\n",
       "      <td>1121</td>\n",
       "      <td>2021-03-14</td>\n",
       "      <td>16f80dbb-8e7c-5a5b-9025-b2fdef30bfd0</td>\n",
       "      <td>tproger</td>\n",
       "      <td>NaN</td>\n",
       "      <td>NaN</td>\n",
       "      <td>NaN</td>\n",
       "    </tr>\n",
       "    <tr>\n",
       "      <th>https://tproger.ru/articles/blackbox-skanery-v-processe-ocenki-bezopasnosti-prilozhenija/</th>\n",
       "      <td>Blackbox-сканеры в процессе оценки безопасност...</td>\n",
       "      <td>2021-02-26 15:16:46+03:00</td>\n",
       "      <td>Профиль задач quality engineer (QE) достаточно...</td>\n",
       "      <td>187</td>\n",
       "      <td>2021-03-14</td>\n",
       "      <td>9d58bde6-7aaf-57a4-b381-25171b9a368f</td>\n",
       "      <td>tproger</td>\n",
       "      <td>NaN</td>\n",
       "      <td>NaN</td>\n",
       "      <td>NaN</td>\n",
       "    </tr>\n",
       "  </tbody>\n",
       "</table>\n",
       "</div>"
      ],
      "text/plain": [
       "                                                                                                title  \\\n",
       "https://tproger.ru/articles/kak-bystro-razvernu...  Как быстро развернуть хранилище и аналитику да...   \n",
       "https://tproger.ru/articles/7-prakticheskih-zad...  7 практических заданий с собеседования на пози...   \n",
       "https://tproger.ru/quiz/test-chto-mozhet-jeta-n...        Тест: что реально, а что создала нейросеть?   \n",
       "https://tproger.ru/articles/kak-najti-dejstvite...  Как найти действительно хороший курс по разраб...   \n",
       "https://tproger.ru/articles/blackbox-skanery-v-...  Blackbox-сканеры в процессе оценки безопасност...   \n",
       "\n",
       "                                                                    post_time  \\\n",
       "https://tproger.ru/articles/kak-bystro-razvernu...  2021-03-01 12:32:23+03:00   \n",
       "https://tproger.ru/articles/7-prakticheskih-zad...  2021-03-01 09:05:11+03:00   \n",
       "https://tproger.ru/quiz/test-chto-mozhet-jeta-n...  2021-02-26 19:39:50+03:00   \n",
       "https://tproger.ru/articles/kak-najti-dejstvite...  2021-02-26 17:29:00+03:00   \n",
       "https://tproger.ru/articles/blackbox-skanery-v-...  2021-02-26 15:16:46+03:00   \n",
       "\n",
       "                                                                                           short_text  \\\n",
       "https://tproger.ru/articles/kak-bystro-razvernu...  Сегодня хочу рассказать историю проекта по зап...   \n",
       "https://tproger.ru/articles/7-prakticheskih-zad...  Для начинающего разработчика очень важно не то...   \n",
       "https://tproger.ru/quiz/test-chto-mozhet-jeta-n...  Сегодня нейронные сети используются в сельском...   \n",
       "https://tproger.ru/articles/kak-najti-dejstvite...  Сразу хочется пошутить и предложить разработат...   \n",
       "https://tproger.ru/articles/blackbox-skanery-v-...  Профиль задач quality engineer (QE) достаточно...   \n",
       "\n",
       "                                                    views_num parse_time  \\\n",
       "https://tproger.ru/articles/kak-bystro-razvernu...       7825 2021-03-14   \n",
       "https://tproger.ru/articles/7-prakticheskih-zad...       6741 2021-03-14   \n",
       "https://tproger.ru/quiz/test-chto-mozhet-jeta-n...       4032 2021-03-14   \n",
       "https://tproger.ru/articles/kak-najti-dejstvite...       1121 2021-03-14   \n",
       "https://tproger.ru/articles/blackbox-skanery-v-...        187 2021-03-14   \n",
       "\n",
       "                                                                                filename  \\\n",
       "https://tproger.ru/articles/kak-bystro-razvernu...  59a7ab25-11f7-502a-b63a-bbdcb121f488   \n",
       "https://tproger.ru/articles/7-prakticheskih-zad...  80f10716-5243-55ca-a67d-4dfe77cd27a5   \n",
       "https://tproger.ru/quiz/test-chto-mozhet-jeta-n...  aaffd2c5-592f-5d7b-b972-95073d0da49a   \n",
       "https://tproger.ru/articles/kak-najti-dejstvite...  16f80dbb-8e7c-5a5b-9025-b2fdef30bfd0   \n",
       "https://tproger.ru/articles/blackbox-skanery-v-...  9d58bde6-7aaf-57a4-b381-25171b9a368f   \n",
       "\n",
       "                                                     source  likes_num  \\\n",
       "https://tproger.ru/articles/kak-bystro-razvernu...  tproger        NaN   \n",
       "https://tproger.ru/articles/7-prakticheskih-zad...  tproger        NaN   \n",
       "https://tproger.ru/quiz/test-chto-mozhet-jeta-n...  tproger        NaN   \n",
       "https://tproger.ru/articles/kak-najti-dejstvite...  tproger        NaN   \n",
       "https://tproger.ru/articles/blackbox-skanery-v-...  tproger        NaN   \n",
       "\n",
       "                                                    favs_num  comments_num  \n",
       "https://tproger.ru/articles/kak-bystro-razvernu...       NaN           NaN  \n",
       "https://tproger.ru/articles/7-prakticheskih-zad...       NaN           NaN  \n",
       "https://tproger.ru/quiz/test-chto-mozhet-jeta-n...       NaN           NaN  \n",
       "https://tproger.ru/articles/kak-najti-dejstvite...       NaN           NaN  \n",
       "https://tproger.ru/articles/blackbox-skanery-v-...       NaN           NaN  "
      ]
     },
     "execution_count": 2,
     "metadata": {},
     "output_type": "execute_result"
    }
   ],
   "source": [
    "# соединяем датасеты в один общий датасет с именем df\n",
    "dfs = dict()\n",
    "\n",
    "for source in sources:\n",
    "    dfs[source] = pd.read_csv(f\"{DATASETS_PATH}/{source}.csv\",\n",
    "                              index_col=0,\n",
    "                              parse_dates=['post_time', 'parse_time'])\n",
    "    dfs[source]['source'] = source\n",
    "    \n",
    "df = pd.concat(dfs[key] for key in dfs)\n",
    "\n",
    "# преобразуем количество просмотров\n",
    "df.views_num = df.views_num.apply(lambda x: int(''.join(filter(str.isdigit, str(x)))))\n",
    "\n",
    "# удаляем закрытые и недоступные статьи\n",
    "df = df.drop(df[df.views_num == 0.0].index)\n",
    "\n",
    "# удаляем дубликаты\n",
    "df = df.drop_duplicates()\n",
    "df = df.loc[~df.index.duplicated(keep='last')]\n",
    "df.head()"
   ]
  },
  {
   "cell_type": "code",
   "execution_count": null,
   "metadata": {},
   "outputs": [],
   "source": [
    "# Добавить дату парсинга к остальным датасетам, для небольших можно адаптировать и извлечение текста"
   ]
  },
  {
   "cell_type": "code",
   "execution_count": 72,
   "metadata": {},
   "outputs": [],
   "source": []
  },
  {
   "cell_type": "code",
   "execution_count": 40,
   "metadata": {},
   "outputs": [],
   "source": []
  },
  {
   "cell_type": "markdown",
   "metadata": {},
   "source": [
    "## 2. Коррекция случаев заниженного числа просмотров\n",
    "Число просмотров на сайтах иногда существуенно отстает от предполагаемого или не всегда корректно рассчитано. Особенно это заметно на когда количество просмотров меньше числа лайков и добавлений в избранные статьи. Чтобы скорректировать такие значения, построим простую  регрессионную SGD-модель на данных, внушающих доверие и экстраполируем результат на «подозрительные» данные о числе просмотров."
   ]
  },
  {
   "cell_type": "code",
   "execution_count": 3,
   "metadata": {},
   "outputs": [],
   "source": [
    "df['post_time'] = pd.to_datetime(df['post_time'], utc=True)\n",
    "df['mln_secs_to_now'] = (pd.Timestamp.now(tz='UTC') - df['post_time']).apply(lambda x: x.total_seconds())*1e-6\n",
    "df_tmp = df[['likes_num', 'favs_num', 'comments_num', 'views_num']].dropna()\n",
    "df_tmp['suspicious'] = [False]*df_tmp.shape[0]\n",
    "for col in ('likes', 'favs', 'comments'):\n",
    "    df_tmp['suspicious'] += df_tmp[f'{col}_num'] > 0.1*df_tmp['views_num']\n",
    "\n",
    "df_tmp_susp = df_tmp[df_tmp['suspicious'] == True]\n",
    "df_tmp = df_tmp[df_tmp['suspicious'] == False]\n",
    "df_tmp = df_tmp.drop(columns=['suspicious'])\n",
    "df_tmp_susp = df_tmp_susp.drop(columns=['suspicious'])\n",
    "\n",
    "y = df_tmp['views_num']\n",
    "X = df_tmp.drop(columns=['views_num'])\n",
    "reg = make_pipeline(StandardScaler(),\n",
    "                    RandomForestRegressor(n_jobs=20))\n",
    "reg.fit(X, y)\n",
    "df_tmp_susp['views_num'] = reg.predict(df_tmp_susp.drop(columns=['views_num']))\n",
    "df_tmp_susp['views_num'] = df_tmp_susp['views_num'].apply(round)\n",
    "df_tmp = pd.concat([df_tmp, df_tmp_susp])\n",
    "df.update(df_tmp)"
   ]
  },
  {
   "cell_type": "markdown",
   "metadata": {},
   "source": [
    "## 3. Преобразование целевой переменной: от числа просмотров к рейтингу\n",
    "Оставим только данные, которые используются для построения модели: текст заголовка (`X`) и число просмотров (`y`). Отсортируем статьи по количеству просмотров и зададим для каждой позиции рейтинг `score`, равномерно распределенных между 0 для непросматриваемой статьи и 100 для самой просматриваемой. Таким образом, оценка в 90 означает, что подобные заголовки имели не меньшее число просмотров, чем 90% иследованного набора данных. Впоследствии эти баллы будут использоваться для отображения шкалы 0-100 в 0.0-10.0."
   ]
  },
  {
   "cell_type": "code",
   "execution_count": 109,
   "metadata": {},
   "outputs": [],
   "source": [
    "Xy = df[['title', 'views_num']]\n",
    "Xy['title'] = Xy['title'].apply(str)\n",
    "#max_title_length = Xy.title.apply(len).max()\n",
    "Xy.sort_values(by='views_num', inplace=True)\n",
    "\n",
    "bound = round(Xy.shape[0]*0.2)\n",
    "Xy['score'] = 0\n",
    "Xy.score.iloc[-bound:] = 1\n",
    "Xy['score'] = Xy['score'].astype('int8')\n",
    "Xy.drop(columns='views_num', inplace=True)"
   ]
  },
  {
   "cell_type": "code",
   "execution_count": 110,
   "metadata": {},
   "outputs": [
    {
     "name": "stdout",
     "output_type": "stream",
     "text": [
      "<class 'pandas.core.frame.DataFrame'>\n",
      "Index: 229192 entries, https://habr.com/ru/post/81826 to https://habr.com/ru/post/491974\n",
      "Data columns (total 2 columns):\n",
      " #   Column  Non-Null Count   Dtype \n",
      "---  ------  --------------   ----- \n",
      " 0   title   229192 non-null  object\n",
      " 1   score   229192 non-null  int8  \n",
      "dtypes: int8(1), object(1)\n",
      "memory usage: 3.7+ MB\n"
     ]
    }
   ],
   "source": [
    "Xy.info()"
   ]
  },
  {
   "cell_type": "code",
   "execution_count": 111,
   "metadata": {},
   "outputs": [
    {
     "data": {
      "text/plain": [
       "<matplotlib.axes._subplots.AxesSubplot at 0x7f139ab875b0>"
      ]
     },
     "execution_count": 111,
     "metadata": {},
     "output_type": "execute_result"
    },
    {
     "data": {
      "image/png": "[encoded data removed]",
      "text/plain": [
       "<Figure size 432x288 with 1 Axes>"
      ]
     },
     "metadata": {
      "needs_background": "light"
     },
     "output_type": "display_data"
    }
   ],
   "source": [
    "Xy.score.hist()"
   ]
  },
  {
   "cell_type": "code",
   "execution_count": 112,
   "metadata": {},
   "outputs": [],
   "source": [
    "Xy.to_pickle('Xy.pickle', compression='gzip', protocol=4)"
   ]
  },
  {
   "cell_type": "markdown",
   "metadata": {},
   "source": [
    "# XXX Archive & Drafts XXX"
   ]
  },
  {
   "cell_type": "code",
   "execution_count": null,
   "metadata": {},
   "outputs": [],
   "source": [
    "# парсинг сайтов с помощью расширения web scrapy\n",
    "\n",
    "# import datetime\n",
    "\n",
    "# df_tmp = pd.read_csv(f'{DATASETS_PATH}/xakep.csv')\n",
    "# df_tmp = df_tmp.drop(columns=['web-scraper-order', 'web-scraper-start-url'])\n",
    "# df_tmp = df_tmp.set_index('title-href')\n",
    "# #df_tmp = df_tmp.fillna(0)\n",
    "\n",
    "# def find_digit(s):\n",
    "#     digit_string = re.findall(r'\\d+', s)\n",
    "#     if digit_string:\n",
    "#         return int(digit_string[0])\n",
    "#     else:\n",
    "#         return 0\n",
    "\n",
    "# df_tmp.comments_num = df_tmp.comments_num.apply(find_digit)\n",
    "# df_tmp['parse_time'] = datetime.datetime.now()\n",
    "# df_tmp['comments_num'] = df_tmp['comments_num'].replace('Обсудить', '0')\n",
    "# df_tmp['comments_num'] = df_tmp['comments_num'].astype('int8')\n",
    "# df_tmp['likes_num'] = df_tmp['likes_num'].astype('int8')\n",
    "# df_tmp['favs_num'] = df_tmp['favs_num'].astype('int8')\n",
    "# df_tmp.set_index('url-href').to_csv(f'{DATASETS_PATH}/thecode.csv')"
   ]
  },
  {
   "cell_type": "code",
   "execution_count": null,
   "metadata": {},
   "outputs": [],
   "source": [
    "# генерация дополнительных признаков\n",
    "# Xy.loc[:, ['title']] = Xy.title.apply(str)\n",
    "\n",
    "# Xy.loc[:, ['doc']] = Xy.title.progress_apply(nlp)\n",
    "\n",
    "# длина заголовка в символах\n",
    "# Xy.loc[:, ['len']] = Xy.title.apply(len)\n",
    "\n",
    "# количество токенов\n",
    "# Xy.loc[:, ['tokens_num']] = Xy.tokens.apply(lambda x: len(x))\n",
    "\n",
    "# Токенизация большого числа заголовков — затратная по времени операция.\n",
    "# Поэтому предварительно токенизированные заголовки хранятся в виде\n",
    "# сжатого датафрайма\n",
    "#tokenized_titles = pd.read_pickle(TOKENIZED_TITLES_PATH, compression='gzip')\n",
    "\n",
    "# for i in [3, 8, 9]:\n",
    "#     spacy.displacy.render(tokenized_titles.iloc[i], style='ent', jupyter=True)\n",
    "\n",
    "# tokenized_titles.to_pickle(path=TOKENIZED_TITLES_PATH, compression='gzip')"
   ]
  }
 ],
 "metadata": {
  "kernelspec": {
   "display_name": "Python 3",
   "language": "python",
   "name": "python3"
  },
  "language_info": {
   "codemirror_mode": {
    "name": "ipython",
    "version": 3
   },
   "file_extension": ".py",
   "mimetype": "text/x-python",
   "name": "python",
   "nbconvert_exporter": "python",
   "pygments_lexer": "ipython3",
   "version": "3.8.5"
  }
 },
 "nbformat": 4,
 "nbformat_minor": 4
}
