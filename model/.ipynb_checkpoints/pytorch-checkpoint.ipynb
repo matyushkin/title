{
 "cells": [
  {
   "cell_type": "markdown",
   "metadata": {},
   "source": [
    "Идеи:\n",
    "# Применить идеалогию изображений: использовать вектора слов как строки или столбцы"
   ]
  },
  {
   "cell_type": "markdown",
   "metadata": {},
   "source": [
    "# Модель оценки заголовка\n",
    "\n",
    "Введенные или сгенерированные заголовки нужно как-то оценивать. Так как главной целью обычно является увеличение количества просмотров, то в качестве критерия можно использовать число просмотров у ранее опубликованных статей.\n",
    "\n",
    "Таким образом, перед нами стоит задача регрессии: на входе заголовок, на выходе число (балл от 0 до 10 с точностью 0.1).\n",
    "\n",
    "В качестве библиотеки, реализующей модель русского языка, мы используем spaCy (в первую очередь из соображений скорости)."
   ]
  },
  {
   "cell_type": "markdown",
   "metadata": {},
   "source": [
    "## 1. Подготовка датасета\n",
    "\n",
    "В нашем распоряжении множество данных, полученных в результате парсинга. Объединим их в один большой датасет для построения модели оценки заголовков. Для его построения нам нужны те датасеты (сайты), для которых имеется информация о количестве просмотров статьи."
   ]
  },
  {
   "cell_type": "code",
   "execution_count": 5,
   "metadata": {},
   "outputs": [],
   "source": [
    "# standard libraries\n",
    "import pickle\n",
    "\n",
    "# data processing libraries\n",
    "import numpy as np\n",
    "import pandas as pd\n",
    "\n",
    "# Make numpy printouts easier to read.\n",
    "np.set_printoptions(precision=3, suppress=True)\n",
    "\n",
    "# data processing progress bar\n",
    "from tqdm.auto import tqdm\n",
    "tqdm.pandas()\n",
    "\n",
    "# visualization\n",
    "import matplotlib.pyplot as plt\n",
    "import seaborn as sns"
   ]
  },
  {
   "cell_type": "code",
   "execution_count": 6,
   "metadata": {},
   "outputs": [],
   "source": [
    "# обработка естественного языка\n",
    "import spacy\n",
    "spacy.prefer_gpu()\n",
    "nlp = spacy.load(\"ru_core_news_lg\")"
   ]
  },
  {
   "cell_type": "code",
   "execution_count": 7,
   "metadata": {},
   "outputs": [
    {
     "name": "stdout",
     "output_type": "stream",
     "text": [
      "2.4.1\n"
     ]
    }
   ],
   "source": [
    "# библиотеки для машинного и глубокого обучения\n",
    "from sklearn.model_selection import train_test_split\n",
    "from sklearn.metrics import mean_squared_error as mse\n",
    "from catboost import CatBoostRegressor\n",
    "\n",
    "import torch\n",
    "use_cuda = torch.cuda.is_available()\n",
    "device = torch.device(\"cuda\" if use_cuda else \"cpu\")\n",
    "\n",
    "import tensorflow as tf\n",
    "from tensorflow import keras\n",
    "from tensorflow.keras import layers\n",
    "from tensorflow.keras.layers.experimental import preprocessing\n",
    "print(tf.__version__)"
   ]
  },
  {
   "cell_type": "code",
   "execution_count": 8,
   "metadata": {},
   "outputs": [],
   "source": [
    "# пути к датасетам\n",
    "DATASETS_PATH = \"/home/leo/DATASETS\"\n",
    "TOKENIZED_TITLES_PATH = f\"{DATASETS_PATH}/tokenized_titles.pickle\""
   ]
  },
  {
   "cell_type": "code",
   "execution_count": 9,
   "metadata": {},
   "outputs": [],
   "source": [
    "# словарь с источником данных и их характеристиками\n",
    "with open('../sources.pickle', 'rb') as f:\n",
    "    sources = pickle.load(f)"
   ]
  },
  {
   "cell_type": "code",
   "execution_count": 10,
   "metadata": {},
   "outputs": [],
   "source": [
    "# Токенизация большого числа заголовков — затратная по времени операция.\n",
    "# Поэтому предварительно токенизированные заголовки хранятся в виде\n",
    "# сжатого датафрайма\n",
    "tokenized_titles = pd.read_pickle(TOKENIZED_TITLES_PATH, compression='gzip')"
   ]
  },
  {
   "cell_type": "code",
   "execution_count": 11,
   "metadata": {},
   "outputs": [],
   "source": [
    "# tokenized_titles.to_pickle(path=TOKENIZED_TITLES_PATH, compression='gzip')"
   ]
  },
  {
   "cell_type": "code",
   "execution_count": 12,
   "metadata": {},
   "outputs": [
    {
     "name": "stderr",
     "output_type": "stream",
     "text": [
      "/home/leo/.local/lib/python3.8/site-packages/pandas/core/arraylike.py:358: RuntimeWarning: divide by zero encountered in log\n",
      "  result = getattr(ufunc, method)(*inputs, **kwargs)\n"
     ]
    }
   ],
   "source": [
    "# соединяем датасеты в один общий датасет с именем df\n",
    "dfs = dict()\n",
    "\n",
    "for source in sources:\n",
    "    dfs[source] = pd.read_csv(f\"{DATASETS_PATH}/{source}.csv\",\n",
    "                              index_col=0,\n",
    "                              parse_dates=['post_time', 'parse_time'])\n",
    "    dfs[source]['source'] = source\n",
    "    \n",
    "df = pd.concat(dfs[key] for key in dfs)\n",
    "\n",
    "# удаляем дубликаты\n",
    "df = df.drop_duplicates()\n",
    "\n",
    "# преобразуем количество просмотров к текстовому значению\n",
    "df.views_num = df.views_num.apply(lambda x: int(''.join(filter(str.isdigit, str(x)))))\n",
    "\n",
    "# приводим число просмотров к нормированной логарифмической шкале\n",
    "df.views_num = np.log(df.views_num)/np.log(df.views_num.max())\n",
    "\n",
    "# удаляем записи без просмотров (обычно это закрытые и недоступные статьи)\n",
    "df = df.drop(df[df.views_num == np.NINF].index)"
   ]
  },
  {
   "cell_type": "code",
   "execution_count": 13,
   "metadata": {},
   "outputs": [],
   "source": [
    "# объединим датасет с токенизированные заголовки\n",
    "df = df.join(tokenized_titles)\n",
    "df = df.loc[~df.index.duplicated(keep='last')]"
   ]
  },
  {
   "cell_type": "code",
   "execution_count": 14,
   "metadata": {},
   "outputs": [
    {
     "data": {
      "text/html": [
       "<div>\n",
       "<style scoped>\n",
       "    .dataframe tbody tr th:only-of-type {\n",
       "        vertical-align: middle;\n",
       "    }\n",
       "\n",
       "    .dataframe tbody tr th {\n",
       "        vertical-align: top;\n",
       "    }\n",
       "\n",
       "    .dataframe thead th {\n",
       "        text-align: right;\n",
       "    }\n",
       "</style>\n",
       "<table border=\"1\" class=\"dataframe\">\n",
       "  <thead>\n",
       "    <tr style=\"text-align: right;\">\n",
       "      <th></th>\n",
       "      <th>title</th>\n",
       "      <th>post_time</th>\n",
       "      <th>short_text</th>\n",
       "      <th>views_num</th>\n",
       "      <th>parse_time</th>\n",
       "      <th>filename</th>\n",
       "      <th>source</th>\n",
       "      <th>likes_num</th>\n",
       "      <th>favs_num</th>\n",
       "      <th>comments_num</th>\n",
       "      <th>doc</th>\n",
       "    </tr>\n",
       "  </thead>\n",
       "  <tbody>\n",
       "    <tr>\n",
       "      <th>https://habr.com/ru/company/2035_university/blog/550390/</th>\n",
       "      <td>Университет 20.35: инструкция к применению</td>\n",
       "      <td>2021-04-02 12:24:00</td>\n",
       "      <td>NaN</td>\n",
       "      <td>0.405759</td>\n",
       "      <td>2021-04-03 12:50:49.824755</td>\n",
       "      <td>a659ebb5-8f09-5258-b7ce-d49be6c73f73</td>\n",
       "      <td>habr</td>\n",
       "      <td>1.0</td>\n",
       "      <td>6.0</td>\n",
       "      <td>3.0</td>\n",
       "      <td>(Университет, 20.35, :, инструкция, к, примене...</td>\n",
       "    </tr>\n",
       "    <tr>\n",
       "      <th>https://habr.com/ru/company/JetBrains-education/blog/547768/</th>\n",
       "      <td>Полезные материалы для разработчика</td>\n",
       "      <td>2021-03-19 09:02:00</td>\n",
       "      <td>NaN</td>\n",
       "      <td>0.545704</td>\n",
       "      <td>2021-04-05 22:41:25.590225</td>\n",
       "      <td>1b81698c-3101-5086-8326-d153f823a983</td>\n",
       "      <td>habr</td>\n",
       "      <td>8.0</td>\n",
       "      <td>146.0</td>\n",
       "      <td>0.0</td>\n",
       "      <td>(Полезные, материалы, для, разработчика)</td>\n",
       "    </tr>\n",
       "    <tr>\n",
       "      <th>https://habr.com/ru/company/JetBrains-education/blog/548334/</th>\n",
       "      <td>Как провести лето с пользой: стажировки в JetB...</td>\n",
       "      <td>2021-03-22 12:16:00</td>\n",
       "      <td>NaN</td>\n",
       "      <td>0.575289</td>\n",
       "      <td>2021-04-05 22:38:39.566842</td>\n",
       "      <td>8d215bfa-7d56-52df-b0c9-19d0daf7cdee</td>\n",
       "      <td>habr</td>\n",
       "      <td>14.0</td>\n",
       "      <td>7.0</td>\n",
       "      <td>4.0</td>\n",
       "      <td>(Как, провести, лето, с, пользой, :, стажировк...</td>\n",
       "    </tr>\n",
       "    <tr>\n",
       "      <th>https://habr.com/ru/company/JetBrains-education/blog/548762/</th>\n",
       "      <td>Computer Science Center открыл приём заявок на...</td>\n",
       "      <td>2021-03-24 13:09:00</td>\n",
       "      <td>NaN</td>\n",
       "      <td>0.482559</td>\n",
       "      <td>2021-04-05 22:41:15.104612</td>\n",
       "      <td>81c0f89d-dbb8-591e-b940-aeb251efc139</td>\n",
       "      <td>habr</td>\n",
       "      <td>8.0</td>\n",
       "      <td>31.0</td>\n",
       "      <td>1.0</td>\n",
       "      <td>(Computer, Science, Center, открыл, приём, зая...</td>\n",
       "    </tr>\n",
       "    <tr>\n",
       "      <th>https://habr.com/ru/company/JetBrains-education/blog/550274/</th>\n",
       "      <td>О стажировках для тех, кто еще не :) Эпизод 1</td>\n",
       "      <td>2021-04-01 18:57:00</td>\n",
       "      <td>NaN</td>\n",
       "      <td>0.501080</td>\n",
       "      <td>2021-04-05 22:41:31.372370</td>\n",
       "      <td>c80e97ca-da04-5b9a-9a95-6e6d487c6a55</td>\n",
       "      <td>habr</td>\n",
       "      <td>1.0</td>\n",
       "      <td>9.0</td>\n",
       "      <td>0.0</td>\n",
       "      <td>(О, стажировках, для, тех, ,, кто, еще, не, :)...</td>\n",
       "    </tr>\n",
       "    <tr>\n",
       "      <th>...</th>\n",
       "      <td>...</td>\n",
       "      <td>...</td>\n",
       "      <td>...</td>\n",
       "      <td>...</td>\n",
       "      <td>...</td>\n",
       "      <td>...</td>\n",
       "      <td>...</td>\n",
       "      <td>...</td>\n",
       "      <td>...</td>\n",
       "      <td>...</td>\n",
       "      <td>...</td>\n",
       "    </tr>\n",
       "    <tr>\n",
       "      <th>https://tproger.ru/video/web-development-for-beginners/?autoplay=1</th>\n",
       "      <td>Курс «Основы веб-разработки»</td>\n",
       "      <td>2017-05-02 22:53:24+03:00</td>\n",
       "      <td>Совместный курс Технотрек Mail.Ru Group и МФТИ...</td>\n",
       "      <td>0.546544</td>\n",
       "      <td>2021-03-14 00:00:00.000000</td>\n",
       "      <td>5f54f5bb-5243-52c2-9fb1-30a1416cffd7</td>\n",
       "      <td>tproger</td>\n",
       "      <td>NaN</td>\n",
       "      <td>NaN</td>\n",
       "      <td>NaN</td>\n",
       "      <td>(Курс, «, Основы, веб, -, разработки, »)</td>\n",
       "    </tr>\n",
       "    <tr>\n",
       "      <th>https://tproger.ru/video/web-service-development-java/?autoplay=1</th>\n",
       "      <td>Курс «Разработка веб-сервиса на Java»</td>\n",
       "      <td>2017-10-04 15:37:39+03:00</td>\n",
       "      <td>Русскоязычный курс, посвященный изучению языка...</td>\n",
       "      <td>0.509727</td>\n",
       "      <td>2021-03-14 00:00:00.000000</td>\n",
       "      <td>bf54f362-23fe-524e-b3fd-3abe7a97703f</td>\n",
       "      <td>tproger</td>\n",
       "      <td>NaN</td>\n",
       "      <td>NaN</td>\n",
       "      <td>NaN</td>\n",
       "      <td>(Курс, «, Разработка, веб, -, сервиса, на, Jav...</td>\n",
       "    </tr>\n",
       "    <tr>\n",
       "      <th>https://tproger.ru/video/web-technostream-django/?autoplay=1</th>\n",
       "      <td>Курс лекций по веб-технологиям и разработке на...</td>\n",
       "      <td>2017-04-25 22:23:41+03:00</td>\n",
       "      <td>Курс посвящен разработке серверной части веб-п...</td>\n",
       "      <td>0.543355</td>\n",
       "      <td>2021-03-14 00:00:00.000000</td>\n",
       "      <td>fb6b4e47-e474-57c7-9f5f-f5d6d7d87db7</td>\n",
       "      <td>tproger</td>\n",
       "      <td>NaN</td>\n",
       "      <td>NaN</td>\n",
       "      <td>NaN</td>\n",
       "      <td>(Курс, лекций, по, веб, -, технологиям, и, раз...</td>\n",
       "    </tr>\n",
       "    <tr>\n",
       "      <th>https://tproger.ru/video/what-neural-network-is-and-how-it-works/?autoplay=1</th>\n",
       "      <td>Что такое нейронная сеть и как она работает — ...</td>\n",
       "      <td>2019-11-26 18:30:56+03:00</td>\n",
       "      <td>Оригинал видео на английском можно посмотреть ...</td>\n",
       "      <td>0.635783</td>\n",
       "      <td>2021-03-14 00:00:00.000000</td>\n",
       "      <td>d3d1ac03-e084-5b5a-af78-c8644673f7c4</td>\n",
       "      <td>tproger</td>\n",
       "      <td>NaN</td>\n",
       "      <td>NaN</td>\n",
       "      <td>NaN</td>\n",
       "      <td>(Что, такое, нейронная, сеть, и, как, она, раб...</td>\n",
       "    </tr>\n",
       "    <tr>\n",
       "      <th>https://tproger.ru/video/windows-10-development/</th>\n",
       "      <td>Введение в разработку универсальных приложений...</td>\n",
       "      <td>2016-02-18 22:09:05+03:00</td>\n",
       "      <td>В этом видеокурсе будут рассмотрены все тонкос...</td>\n",
       "      <td>0.530000</td>\n",
       "      <td>2021-03-14 00:00:00.000000</td>\n",
       "      <td>6c129750-2c6e-5383-80b1-4eebfc558af4</td>\n",
       "      <td>tproger</td>\n",
       "      <td>NaN</td>\n",
       "      <td>NaN</td>\n",
       "      <td>NaN</td>\n",
       "      <td>(Введение, в, разработку, универсальных, прило...</td>\n",
       "    </tr>\n",
       "  </tbody>\n",
       "</table>\n",
       "<p>228683 rows × 11 columns</p>\n",
       "</div>"
      ],
      "text/plain": [
       "                                                                                                title  \\\n",
       "https://habr.com/ru/company/2035_university/blo...         Университет 20.35: инструкция к применению   \n",
       "https://habr.com/ru/company/JetBrains-education...                Полезные материалы для разработчика   \n",
       "https://habr.com/ru/company/JetBrains-education...  Как провести лето с пользой: стажировки в JetB...   \n",
       "https://habr.com/ru/company/JetBrains-education...  Computer Science Center открыл приём заявок на...   \n",
       "https://habr.com/ru/company/JetBrains-education...      О стажировках для тех, кто еще не :) Эпизод 1   \n",
       "...                                                                                               ...   \n",
       "https://tproger.ru/video/web-development-for-be...                       Курс «Основы веб-разработки»   \n",
       "https://tproger.ru/video/web-service-developmen...              Курс «Разработка веб-сервиса на Java»   \n",
       "https://tproger.ru/video/web-technostream-djang...  Курс лекций по веб-технологиям и разработке на...   \n",
       "https://tproger.ru/video/what-neural-network-is...  Что такое нейронная сеть и как она работает — ...   \n",
       "https://tproger.ru/video/windows-10-development/    Введение в разработку универсальных приложений...   \n",
       "\n",
       "                                                                    post_time  \\\n",
       "https://habr.com/ru/company/2035_university/blo...        2021-04-02 12:24:00   \n",
       "https://habr.com/ru/company/JetBrains-education...        2021-03-19 09:02:00   \n",
       "https://habr.com/ru/company/JetBrains-education...        2021-03-22 12:16:00   \n",
       "https://habr.com/ru/company/JetBrains-education...        2021-03-24 13:09:00   \n",
       "https://habr.com/ru/company/JetBrains-education...        2021-04-01 18:57:00   \n",
       "...                                                                       ...   \n",
       "https://tproger.ru/video/web-development-for-be...  2017-05-02 22:53:24+03:00   \n",
       "https://tproger.ru/video/web-service-developmen...  2017-10-04 15:37:39+03:00   \n",
       "https://tproger.ru/video/web-technostream-djang...  2017-04-25 22:23:41+03:00   \n",
       "https://tproger.ru/video/what-neural-network-is...  2019-11-26 18:30:56+03:00   \n",
       "https://tproger.ru/video/windows-10-development/    2016-02-18 22:09:05+03:00   \n",
       "\n",
       "                                                                                           short_text  \\\n",
       "https://habr.com/ru/company/2035_university/blo...                                                NaN   \n",
       "https://habr.com/ru/company/JetBrains-education...                                                NaN   \n",
       "https://habr.com/ru/company/JetBrains-education...                                                NaN   \n",
       "https://habr.com/ru/company/JetBrains-education...                                                NaN   \n",
       "https://habr.com/ru/company/JetBrains-education...                                                NaN   \n",
       "...                                                                                               ...   \n",
       "https://tproger.ru/video/web-development-for-be...  Совместный курс Технотрек Mail.Ru Group и МФТИ...   \n",
       "https://tproger.ru/video/web-service-developmen...  Русскоязычный курс, посвященный изучению языка...   \n",
       "https://tproger.ru/video/web-technostream-djang...  Курс посвящен разработке серверной части веб-п...   \n",
       "https://tproger.ru/video/what-neural-network-is...  Оригинал видео на английском можно посмотреть ...   \n",
       "https://tproger.ru/video/windows-10-development/    В этом видеокурсе будут рассмотрены все тонкос...   \n",
       "\n",
       "                                                    views_num  \\\n",
       "https://habr.com/ru/company/2035_university/blo...   0.405759   \n",
       "https://habr.com/ru/company/JetBrains-education...   0.545704   \n",
       "https://habr.com/ru/company/JetBrains-education...   0.575289   \n",
       "https://habr.com/ru/company/JetBrains-education...   0.482559   \n",
       "https://habr.com/ru/company/JetBrains-education...   0.501080   \n",
       "...                                                       ...   \n",
       "https://tproger.ru/video/web-development-for-be...   0.546544   \n",
       "https://tproger.ru/video/web-service-developmen...   0.509727   \n",
       "https://tproger.ru/video/web-technostream-djang...   0.543355   \n",
       "https://tproger.ru/video/what-neural-network-is...   0.635783   \n",
       "https://tproger.ru/video/windows-10-development/     0.530000   \n",
       "\n",
       "                                                                   parse_time  \\\n",
       "https://habr.com/ru/company/2035_university/blo... 2021-04-03 12:50:49.824755   \n",
       "https://habr.com/ru/company/JetBrains-education... 2021-04-05 22:41:25.590225   \n",
       "https://habr.com/ru/company/JetBrains-education... 2021-04-05 22:38:39.566842   \n",
       "https://habr.com/ru/company/JetBrains-education... 2021-04-05 22:41:15.104612   \n",
       "https://habr.com/ru/company/JetBrains-education... 2021-04-05 22:41:31.372370   \n",
       "...                                                                       ...   \n",
       "https://tproger.ru/video/web-development-for-be... 2021-03-14 00:00:00.000000   \n",
       "https://tproger.ru/video/web-service-developmen... 2021-03-14 00:00:00.000000   \n",
       "https://tproger.ru/video/web-technostream-djang... 2021-03-14 00:00:00.000000   \n",
       "https://tproger.ru/video/what-neural-network-is... 2021-03-14 00:00:00.000000   \n",
       "https://tproger.ru/video/windows-10-development/   2021-03-14 00:00:00.000000   \n",
       "\n",
       "                                                                                filename  \\\n",
       "https://habr.com/ru/company/2035_university/blo...  a659ebb5-8f09-5258-b7ce-d49be6c73f73   \n",
       "https://habr.com/ru/company/JetBrains-education...  1b81698c-3101-5086-8326-d153f823a983   \n",
       "https://habr.com/ru/company/JetBrains-education...  8d215bfa-7d56-52df-b0c9-19d0daf7cdee   \n",
       "https://habr.com/ru/company/JetBrains-education...  81c0f89d-dbb8-591e-b940-aeb251efc139   \n",
       "https://habr.com/ru/company/JetBrains-education...  c80e97ca-da04-5b9a-9a95-6e6d487c6a55   \n",
       "...                                                                                  ...   \n",
       "https://tproger.ru/video/web-development-for-be...  5f54f5bb-5243-52c2-9fb1-30a1416cffd7   \n",
       "https://tproger.ru/video/web-service-developmen...  bf54f362-23fe-524e-b3fd-3abe7a97703f   \n",
       "https://tproger.ru/video/web-technostream-djang...  fb6b4e47-e474-57c7-9f5f-f5d6d7d87db7   \n",
       "https://tproger.ru/video/what-neural-network-is...  d3d1ac03-e084-5b5a-af78-c8644673f7c4   \n",
       "https://tproger.ru/video/windows-10-development/    6c129750-2c6e-5383-80b1-4eebfc558af4   \n",
       "\n",
       "                                                     source  likes_num  \\\n",
       "https://habr.com/ru/company/2035_university/blo...     habr        1.0   \n",
       "https://habr.com/ru/company/JetBrains-education...     habr        8.0   \n",
       "https://habr.com/ru/company/JetBrains-education...     habr       14.0   \n",
       "https://habr.com/ru/company/JetBrains-education...     habr        8.0   \n",
       "https://habr.com/ru/company/JetBrains-education...     habr        1.0   \n",
       "...                                                     ...        ...   \n",
       "https://tproger.ru/video/web-development-for-be...  tproger        NaN   \n",
       "https://tproger.ru/video/web-service-developmen...  tproger        NaN   \n",
       "https://tproger.ru/video/web-technostream-djang...  tproger        NaN   \n",
       "https://tproger.ru/video/what-neural-network-is...  tproger        NaN   \n",
       "https://tproger.ru/video/windows-10-development/    tproger        NaN   \n",
       "\n",
       "                                                    favs_num  comments_num  \\\n",
       "https://habr.com/ru/company/2035_university/blo...       6.0           3.0   \n",
       "https://habr.com/ru/company/JetBrains-education...     146.0           0.0   \n",
       "https://habr.com/ru/company/JetBrains-education...       7.0           4.0   \n",
       "https://habr.com/ru/company/JetBrains-education...      31.0           1.0   \n",
       "https://habr.com/ru/company/JetBrains-education...       9.0           0.0   \n",
       "...                                                      ...           ...   \n",
       "https://tproger.ru/video/web-development-for-be...       NaN           NaN   \n",
       "https://tproger.ru/video/web-service-developmen...       NaN           NaN   \n",
       "https://tproger.ru/video/web-technostream-djang...       NaN           NaN   \n",
       "https://tproger.ru/video/what-neural-network-is...       NaN           NaN   \n",
       "https://tproger.ru/video/windows-10-development/         NaN           NaN   \n",
       "\n",
       "                                                                                                  doc  \n",
       "https://habr.com/ru/company/2035_university/blo...  (Университет, 20.35, :, инструкция, к, примене...  \n",
       "https://habr.com/ru/company/JetBrains-education...           (Полезные, материалы, для, разработчика)  \n",
       "https://habr.com/ru/company/JetBrains-education...  (Как, провести, лето, с, пользой, :, стажировк...  \n",
       "https://habr.com/ru/company/JetBrains-education...  (Computer, Science, Center, открыл, приём, зая...  \n",
       "https://habr.com/ru/company/JetBrains-education...  (О, стажировках, для, тех, ,, кто, еще, не, :)...  \n",
       "...                                                                                               ...  \n",
       "https://tproger.ru/video/web-development-for-be...           (Курс, «, Основы, веб, -, разработки, »)  \n",
       "https://tproger.ru/video/web-service-developmen...  (Курс, «, Разработка, веб, -, сервиса, на, Jav...  \n",
       "https://tproger.ru/video/web-technostream-djang...  (Курс, лекций, по, веб, -, технологиям, и, раз...  \n",
       "https://tproger.ru/video/what-neural-network-is...  (Что, такое, нейронная, сеть, и, как, она, раб...  \n",
       "https://tproger.ru/video/windows-10-development/    (Введение, в, разработку, универсальных, прило...  \n",
       "\n",
       "[228683 rows x 11 columns]"
      ]
     },
     "execution_count": 14,
     "metadata": {},
     "output_type": "execute_result"
    }
   ],
   "source": [
    "df"
   ]
  },
  {
   "cell_type": "markdown",
   "metadata": {},
   "source": [
    "# 2. Векторизация текста и построение модели на PyTorch\n",
    "\n",
    "Начнем с базовой модели: сопоставим каждому заголовку векторное представление, обучим модель для оценки заголовков и проверим качество скользящим контролем."
   ]
  },
  {
   "cell_type": "code",
   "execution_count": 15,
   "metadata": {},
   "outputs": [],
   "source": [
    "# В качестве конечных данных нам нужны лишь сведения\n",
    "# о токенах заголовков и количестве просмотров статей.\n",
    "Xy = df[['doc', 'views_num']]\n",
    "\n",
    "# удаляем пропущенные значения, если таковые есть\n",
    "Xy = Xy.dropna(axis=0)"
   ]
  },
  {
   "cell_type": "code",
   "execution_count": 16,
   "metadata": {},
   "outputs": [],
   "source": [
    "X = Xy.doc.apply(lambda x: x.vector)\n",
    "X = np.stack(X.values)\n",
    "y = Xy.views_num.values"
   ]
  },
  {
   "cell_type": "code",
   "execution_count": 17,
   "metadata": {},
   "outputs": [],
   "source": [
    "X_train, X_test, y_train, y_test = train_test_split(X, y,\n",
    "                                                    test_size=0.2,\n",
    "                                                    random_state=42)"
   ]
  },
  {
   "cell_type": "code",
   "execution_count": 25,
   "metadata": {},
   "outputs": [],
   "source": [
    "X_train = torch.from_numpy(X_train).float().to(device)"
   ]
  },
  {
   "cell_type": "code",
   "execution_count": 27,
   "metadata": {},
   "outputs": [],
   "source": [
    "y_train = torch.from_numpy(y_train).float().to(device)"
   ]
  },
  {
   "cell_type": "code",
   "execution_count": 29,
   "metadata": {},
   "outputs": [
    {
     "data": {
      "text/plain": [
       "tensor([0.6151, 0.7249, 0.3381,  ..., 0.5632, 0.3411, 0.5415])"
      ]
     },
     "execution_count": 29,
     "metadata": {},
     "output_type": "execute_result"
    }
   ],
   "source": [
    "y_train"
   ]
  },
  {
   "cell_type": "markdown",
   "metadata": {},
   "source": [
    "# 4. Проверка дополнительных гипотез"
   ]
  },
  {
   "cell_type": "code",
   "execution_count": null,
   "metadata": {},
   "outputs": [],
   "source": [
    "# генерация дополнительных признаков\n",
    "# Xy.loc[:, ['title']] = Xy.title.apply(str)\n",
    "\n",
    "# Xy.loc[:, ['doc']] = Xy.title.progress_apply(nlp)\n",
    "\n",
    "# длина заголовка в символах\n",
    "# Xy.loc[:, ['len']] = Xy.title.apply(len)\n",
    "\n",
    "# количество токенов\n",
    "# Xy.loc[:, ['tokens_num']] = Xy.tokens.apply(lambda x: len(x))"
   ]
  }
 ],
 "metadata": {
  "kernelspec": {
   "display_name": "Python 3",
   "language": "python",
   "name": "python3"
  },
  "language_info": {
   "codemirror_mode": {
    "name": "ipython",
    "version": 3
   },
   "file_extension": ".py",
   "mimetype": "text/x-python",
   "name": "python",
   "nbconvert_exporter": "python",
   "pygments_lexer": "ipython3",
   "version": "3.8.5"
  }
 },
 "nbformat": 4,
 "nbformat_minor": 4
}
