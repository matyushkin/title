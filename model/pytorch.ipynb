{
 "cells": [
  {
   "cell_type": "markdown",
   "metadata": {},
   "source": [
    "# Модель оценки заголовка\n",
    "\n",
    "Введенные или сгенерированные заголовки нужно как-то оценивать. Так как главной целью обычно является увеличение количества просмотров, то в качестве критерия можно использовать число просмотров у ранее опубликованных статей.\n",
    "\n",
    "Таким образом, перед нами стоит задача регрессии: на входе заголовок, на выходе число (балл от 0 до 10 с точностью 0.1).\n",
    "\n",
    "В качестве библиотеки, реализующей модель русского языка, мы используем spaCy (в первую очередь из соображений скорости)."
   ]
  },
  {
   "cell_type": "markdown",
   "metadata": {},
   "source": [
    "## 1. Подготовка датасета\n",
    "\n",
    "В нашем распоряжении множество данных, полученных в результате парсинга. Объединим их в один большой датасет для построения модели оценки заголовков. Для его построения нам нужны те датасеты (сайты), для которых имеется информация о количестве просмотров статьи."
   ]
  },
  {
   "cell_type": "code",
   "execution_count": 34,
   "metadata": {},
   "outputs": [],
   "source": [
    "# standard libraries\n",
    "import pickle\n",
    "\n",
    "# data processing libraries\n",
    "import numpy as np\n",
    "import pandas as pd\n",
    "\n",
    "# Make numpy printouts easier to read.\n",
    "np.set_printoptions(precision=3, suppress=True)\n",
    "\n",
    "# data processing progress bar\n",
    "from tqdm.auto import tqdm\n",
    "tqdm.pandas()\n",
    "\n",
    "# visualization\n",
    "import matplotlib.pyplot as plt\n",
    "import seaborn as sns"
   ]
  },
  {
   "cell_type": "code",
   "execution_count": 3,
   "metadata": {},
   "outputs": [],
   "source": [
    "# обработка естественного языка\n",
    "import spacy\n",
    "spacy.prefer_gpu()\n",
    "nlp = spacy.load(\"ru_core_news_lg\")"
   ]
  },
  {
   "cell_type": "code",
   "execution_count": 36,
   "metadata": {},
   "outputs": [
    {
     "name": "stdout",
     "output_type": "stream",
     "text": [
      "2.4.1\n"
     ]
    }
   ],
   "source": [
    "# библиотеки для машинного и глубокого обучения\n",
    "from sklearn.model_selection import train_test_split\n",
    "from catboost import CatBoostRegressor\n",
    "\n",
    "import torch\n",
    "use_cuda = torch.cuda.is_available()\n",
    "device = torch.device(\"cuda\" if use_cuda else \"cpu\")\n",
    "\n",
    "import tensorflow as tf\n",
    "from tensorflow import keras\n",
    "from tensorflow.keras import layers\n",
    "from tensorflow.keras.layers.experimental import preprocessing\n",
    "print(tf.__version__)"
   ]
  },
  {
   "cell_type": "code",
   "execution_count": 5,
   "metadata": {},
   "outputs": [],
   "source": [
    "# пути к датасетам\n",
    "DATASETS_PATH = \"/home/leo/DATASETS\"\n",
    "TOKENIZED_TITLES_PATH = f\"{DATASETS_PATH}/tokenized_titles.pickle\""
   ]
  },
  {
   "cell_type": "code",
   "execution_count": 6,
   "metadata": {},
   "outputs": [],
   "source": [
    "# словарь с источником данных и их характеристиками\n",
    "with open('../sources.pickle', 'rb') as f:\n",
    "    sources = pickle.load(f)"
   ]
  },
  {
   "cell_type": "code",
   "execution_count": 7,
   "metadata": {},
   "outputs": [],
   "source": [
    "# Токенизация большого числа заголовков — затратная по времени операция.\n",
    "# Поэтому предварительно токенизированные заголовки хранятся в виде\n",
    "# сжатого датафрайма\n",
    "tokenized_titles = pd.read_pickle(TOKENIZED_TITLES_PATH, compression='gzip')"
   ]
  },
  {
   "cell_type": "code",
   "execution_count": 8,
   "metadata": {},
   "outputs": [],
   "source": [
    "# tokenized_titles.to_pickle(path=TOKENIZED_TITLES_PATH, compression='gzip')"
   ]
  },
  {
   "cell_type": "code",
   "execution_count": 9,
   "metadata": {},
   "outputs": [
    {
     "name": "stderr",
     "output_type": "stream",
     "text": [
      "/home/leo/.local/lib/python3.8/site-packages/pandas/core/arraylike.py:358: RuntimeWarning: divide by zero encountered in log\n",
      "  result = getattr(ufunc, method)(*inputs, **kwargs)\n"
     ]
    }
   ],
   "source": [
    "# соединяем датасеты в один общий датасет с именем df\n",
    "dfs = dict()\n",
    "\n",
    "for source in sources:\n",
    "    dfs[source] = pd.read_csv(f\"{DATASETS_PATH}/{source}.csv\",\n",
    "                              index_col=0,\n",
    "                              parse_dates=['post_time', 'parse_time'])\n",
    "    dfs[source]['source'] = source\n",
    "    \n",
    "df = pd.concat(dfs[key] for key in dfs)\n",
    "\n",
    "# удаляем дубликаты\n",
    "df = df.drop_duplicates()\n",
    "\n",
    "# преобразуем количество просмотров к текстовому значению\n",
    "df.views_num = df.views_num.apply(lambda x: int(''.join(filter(str.isdigit, str(x)))))\n",
    "\n",
    "# приводим число просмотров к нормированной логарифмической шкале\n",
    "df.views_num = np.log(df.views_num)/np.log(df.views_num.max())\n",
    "\n",
    "# удаляем записи без просмотров (обычно это закрытые и недоступные статьи)\n",
    "df = df.drop(df[df.views_num == np.NINF].index)"
   ]
  },
  {
   "cell_type": "code",
   "execution_count": 10,
   "metadata": {},
   "outputs": [],
   "source": [
    "# объединим датасет с токенизированные заголовки\n",
    "df = pd.concat([df, tokenized_titles], axis=1)"
   ]
  },
  {
   "cell_type": "markdown",
   "metadata": {},
   "source": [
    "# 2. Преобразование данных к векторному представлению"
   ]
  },
  {
   "cell_type": "code",
   "execution_count": 11,
   "metadata": {},
   "outputs": [],
   "source": [
    "# В качестве конечных данных нам нужны лишь сведения\n",
    "# о токенах заголовков и количестве просмотров статей.\n",
    "Xy = df[['doc', 'views_num']]\n",
    "\n",
    "# удаляем пропущенные значения, если таковые есть\n",
    "Xy = Xy.dropna(axis=0)"
   ]
  },
  {
   "cell_type": "markdown",
   "metadata": {},
   "source": [
    "# 3. Построение базовой модели\n",
    "\n",
    "Начнем с базовой модели: сопоставим каждому заголовку векторное представление, обучим модель для оценки заголовков и проверим качество скользящим контролем."
   ]
  },
  {
   "cell_type": "code",
   "execution_count": 12,
   "metadata": {},
   "outputs": [],
   "source": [
    "X = Xy.doc.apply(lambda x: x.vector)\n",
    "X = np.stack(X.values)\n",
    "y = Xy.views_num.values"
   ]
  },
  {
   "cell_type": "code",
   "execution_count": 13,
   "metadata": {},
   "outputs": [],
   "source": [
    "X_train, X_test, y_train, y_test = train_test_split(X, y,\n",
    "                                                    test_size=0.2,\n",
    "                                                    random_state=42)"
   ]
  },
  {
   "cell_type": "code",
   "execution_count": 26,
   "metadata": {},
   "outputs": [],
   "source": [
    "# Initialize CatBoostRegressor\n",
    "model = CatBoostRegressor(verbose=1000,\n",
    "                          task_type=\"GPU\",\n",
    "                          devices='0')"
   ]
  },
  {
   "cell_type": "code",
   "execution_count": 27,
   "metadata": {},
   "outputs": [
    {
     "name": "stdout",
     "output_type": "stream",
     "text": [
      "Learning rate set to 0.085254\n",
      "0:\tlearn: 0.1097669\ttotal: 21.2ms\tremaining: 21.1s\n"
     ]
    },
    {
     "name": "stderr",
     "output_type": "stream",
     "text": [
      "Warning: less than 75% gpu memory available for training. Free: 1032.1875 Total: 2002.625\n"
     ]
    },
    {
     "name": "stdout",
     "output_type": "stream",
     "text": [
      "999:\tlearn: 0.1037218\ttotal: 18.2s\tremaining: 0us\n"
     ]
    },
    {
     "data": {
      "text/plain": [
       "<catboost.core.CatBoostRegressor at 0x7f240beb6910>"
      ]
     },
     "execution_count": 27,
     "metadata": {},
     "output_type": "execute_result"
    }
   ],
   "source": [
    "# Fit model\n",
    "model.fit(X_train, y_train)"
   ]
  },
  {
   "cell_type": "code",
   "execution_count": 28,
   "metadata": {},
   "outputs": [],
   "source": [
    "# Get predictions\n",
    "preds = model.predict(X_test)"
   ]
  },
  {
   "cell_type": "markdown",
   "metadata": {},
   "source": [
    "https://www.tensorflow.org/tutorials/keras/regression"
   ]
  },
  {
   "cell_type": "code",
   "execution_count": 37,
   "metadata": {},
   "outputs": [],
   "source": [
    "normalizer = preprocessing.Normalization()"
   ]
  },
  {
   "cell_type": "code",
   "execution_count": 38,
   "metadata": {},
   "outputs": [
    {
     "name": "stdout",
     "output_type": "stream",
     "text": [
      "Model: \"sequential\"\n",
      "_________________________________________________________________\n",
      "Layer (type)                 Output Shape              Param #   \n",
      "=================================================================\n",
      "dense (Dense)                (None, 12)                1164      \n",
      "_________________________________________________________________\n",
      "dense_1 (Dense)              (None, 8)                 104       \n",
      "_________________________________________________________________\n",
      "dense_2 (Dense)              (None, 1)                 9         \n",
      "=================================================================\n",
      "Total params: 1,277\n",
      "Trainable params: 1,277\n",
      "Non-trainable params: 0\n",
      "_________________________________________________________________\n"
     ]
    }
   ],
   "source": [
    "from tensorflow.python.keras.models import Sequential\n",
    "from tensorflow.python.keras.layers import Dense\n",
    "from tensorflow.python.keras.wrappers.scikit_learn import KerasRegressor\n",
    "\n",
    "model = Sequential()\n",
    "model.add(Dense(12, input_dim=96, kernel_initializer='normal', activation='relu'))\n",
    "model.add(Dense(8, activation='relu'))\n",
    "model.add(Dense(1, activation='linear'))\n",
    "model.summary()"
   ]
  },
  {
   "cell_type": "code",
   "execution_count": 39,
   "metadata": {},
   "outputs": [],
   "source": [
    "model.compile(loss='mse', optimizer='adam', metrics=['mse','mae'])"
   ]
  },
  {
   "cell_type": "code",
   "execution_count": 40,
   "metadata": {},
   "outputs": [
    {
     "name": "stdout",
     "output_type": "stream",
     "text": [
      "Epoch 1/150\n",
      "3080/3080 [==============================] - 3s 810us/step - loss: 0.0213 - mse: 0.0213 - mae: 0.1089 - val_loss: 0.0112 - val_mse: 0.0112 - val_mae: 0.0859\n",
      "Epoch 2/150\n",
      "3080/3080 [==============================] - 3s 830us/step - loss: 0.0112 - mse: 0.0112 - mae: 0.0858 - val_loss: 0.0110 - val_mse: 0.0110 - val_mae: 0.0851\n",
      "Epoch 3/150\n",
      "3080/3080 [==============================] - 3s 824us/step - loss: 0.0109 - mse: 0.0109 - mae: 0.0848 - val_loss: 0.0109 - val_mse: 0.0109 - val_mae: 0.0851\n",
      "Epoch 4/150\n",
      "3080/3080 [==============================] - 2s 790us/step - loss: 0.0109 - mse: 0.0109 - mae: 0.0843 - val_loss: 0.0109 - val_mse: 0.0109 - val_mae: 0.0844\n",
      "Epoch 5/150\n",
      "3080/3080 [==============================] - 2s 769us/step - loss: 0.0109 - mse: 0.0109 - mae: 0.0845 - val_loss: 0.0109 - val_mse: 0.0109 - val_mae: 0.0847\n",
      "Epoch 6/150\n",
      "3080/3080 [==============================] - 2s 707us/step - loss: 0.0108 - mse: 0.0108 - mae: 0.0842 - val_loss: 0.0109 - val_mse: 0.0109 - val_mae: 0.0846\n",
      "Epoch 7/150\n",
      "3080/3080 [==============================] - 2s 707us/step - loss: 0.0108 - mse: 0.0108 - mae: 0.0843 - val_loss: 0.0111 - val_mse: 0.0111 - val_mae: 0.0844\n",
      "Epoch 8/150\n",
      "3080/3080 [==============================] - 2s 773us/step - loss: 0.0108 - mse: 0.0108 - mae: 0.0841 - val_loss: 0.0110 - val_mse: 0.0110 - val_mae: 0.0843\n",
      "Epoch 9/150\n",
      "3080/3080 [==============================] - 2s 695us/step - loss: 0.0108 - mse: 0.0108 - mae: 0.0840 - val_loss: 0.0109 - val_mse: 0.0109 - val_mae: 0.0843\n",
      "Epoch 10/150\n",
      "3080/3080 [==============================] - 2s 729us/step - loss: 0.0107 - mse: 0.0107 - mae: 0.0837 - val_loss: 0.0109 - val_mse: 0.0109 - val_mae: 0.0848\n",
      "Epoch 11/150\n",
      "3080/3080 [==============================] - 2s 750us/step - loss: 0.0107 - mse: 0.0107 - mae: 0.0837 - val_loss: 0.0109 - val_mse: 0.0109 - val_mae: 0.0842\n",
      "Epoch 12/150\n",
      "3080/3080 [==============================] - 2s 699us/step - loss: 0.0107 - mse: 0.0107 - mae: 0.0837 - val_loss: 0.0108 - val_mse: 0.0108 - val_mae: 0.0840\n",
      "Epoch 13/150\n",
      "3080/3080 [==============================] - 2s 771us/step - loss: 0.0107 - mse: 0.0107 - mae: 0.0833 - val_loss: 0.0108 - val_mse: 0.0108 - val_mae: 0.0841\n",
      "Epoch 14/150\n",
      "3080/3080 [==============================] - 2s 754us/step - loss: 0.0107 - mse: 0.0107 - mae: 0.0837 - val_loss: 0.0108 - val_mse: 0.0108 - val_mae: 0.0844\n",
      "Epoch 15/150\n",
      "3080/3080 [==============================] - 2s 805us/step - loss: 0.0107 - mse: 0.0107 - mae: 0.0833 - val_loss: 0.0108 - val_mse: 0.0108 - val_mae: 0.0842\n",
      "Epoch 16/150\n",
      "3080/3080 [==============================] - 2s 719us/step - loss: 0.0106 - mse: 0.0106 - mae: 0.0831 - val_loss: 0.0109 - val_mse: 0.0109 - val_mae: 0.0840\n",
      "Epoch 17/150\n",
      "3080/3080 [==============================] - 3s 914us/step - loss: 0.0107 - mse: 0.0107 - mae: 0.0835 - val_loss: 0.0109 - val_mse: 0.0109 - val_mae: 0.0848\n",
      "Epoch 18/150\n",
      "3080/3080 [==============================] - 2s 811us/step - loss: 0.0107 - mse: 0.0107 - mae: 0.0834 - val_loss: 0.0109 - val_mse: 0.0109 - val_mae: 0.0838\n",
      "Epoch 19/150\n",
      "3080/3080 [==============================] - 3s 865us/step - loss: 0.0106 - mse: 0.0106 - mae: 0.0832 - val_loss: 0.0109 - val_mse: 0.0109 - val_mae: 0.0840\n",
      "Epoch 20/150\n",
      "3080/3080 [==============================] - 3s 966us/step - loss: 0.0107 - mse: 0.0107 - mae: 0.0833 - val_loss: 0.0108 - val_mse: 0.0108 - val_mae: 0.0844\n",
      "Epoch 21/150\n",
      "3080/3080 [==============================] - 3s 882us/step - loss: 0.0107 - mse: 0.0107 - mae: 0.0834 - val_loss: 0.0108 - val_mse: 0.0108 - val_mae: 0.0839\n",
      "Epoch 22/150\n",
      "3080/3080 [==============================] - 3s 823us/step - loss: 0.0106 - mse: 0.0106 - mae: 0.0831 - val_loss: 0.0108 - val_mse: 0.0108 - val_mae: 0.0838\n",
      "Epoch 23/150\n",
      "3080/3080 [==============================] - 3s 819us/step - loss: 0.0106 - mse: 0.0106 - mae: 0.0830 - val_loss: 0.0108 - val_mse: 0.0108 - val_mae: 0.0840\n",
      "Epoch 24/150\n",
      "3080/3080 [==============================] - 2s 809us/step - loss: 0.0106 - mse: 0.0106 - mae: 0.0832 - val_loss: 0.0108 - val_mse: 0.0108 - val_mae: 0.0843\n",
      "Epoch 25/150\n",
      "3080/3080 [==============================] - 3s 823us/step - loss: 0.0105 - mse: 0.0105 - mae: 0.0827 - val_loss: 0.0108 - val_mse: 0.0108 - val_mae: 0.0837\n",
      "Epoch 26/150\n",
      "3080/3080 [==============================] - 3s 981us/step - loss: 0.0105 - mse: 0.0105 - mae: 0.0828 - val_loss: 0.0108 - val_mse: 0.0108 - val_mae: 0.0849\n",
      "Epoch 27/150\n",
      "3080/3080 [==============================] - 3s 932us/step - loss: 0.0105 - mse: 0.0105 - mae: 0.0826 - val_loss: 0.0108 - val_mse: 0.0108 - val_mae: 0.0841\n",
      "Epoch 28/150\n",
      "3080/3080 [==============================] - 3s 926us/step - loss: 0.0106 - mse: 0.0106 - mae: 0.0829 - val_loss: 0.0108 - val_mse: 0.0108 - val_mae: 0.0845\n",
      "Epoch 29/150\n",
      "3080/3080 [==============================] - 3s 943us/step - loss: 0.0106 - mse: 0.0106 - mae: 0.0830 - val_loss: 0.0108 - val_mse: 0.0108 - val_mae: 0.0848\n",
      "Epoch 30/150\n",
      "3080/3080 [==============================] - 3s 813us/step - loss: 0.0106 - mse: 0.0106 - mae: 0.0830 - val_loss: 0.0108 - val_mse: 0.0108 - val_mae: 0.0843\n",
      "Epoch 31/150\n",
      "3080/3080 [==============================] - 3s 844us/step - loss: 0.0106 - mse: 0.0106 - mae: 0.0829 - val_loss: 0.0108 - val_mse: 0.0108 - val_mae: 0.0842\n",
      "Epoch 32/150\n",
      "3080/3080 [==============================] - 2s 793us/step - loss: 0.0106 - mse: 0.0106 - mae: 0.0829 - val_loss: 0.0108 - val_mse: 0.0108 - val_mae: 0.0837\n",
      "Epoch 33/150\n",
      "3080/3080 [==============================] - 3s 821us/step - loss: 0.0106 - mse: 0.0106 - mae: 0.0833 - val_loss: 0.0108 - val_mse: 0.0108 - val_mae: 0.0836\n",
      "Epoch 34/150\n",
      "3080/3080 [==============================] - 3s 823us/step - loss: 0.0105 - mse: 0.0105 - mae: 0.0825 - val_loss: 0.0108 - val_mse: 0.0108 - val_mae: 0.0835\n",
      "Epoch 35/150\n",
      "3080/3080 [==============================] - 2s 778us/step - loss: 0.0105 - mse: 0.0105 - mae: 0.0827 - val_loss: 0.0108 - val_mse: 0.0108 - val_mae: 0.0837\n",
      "Epoch 36/150\n",
      "3080/3080 [==============================] - 3s 904us/step - loss: 0.0106 - mse: 0.0106 - mae: 0.0829 - val_loss: 0.0109 - val_mse: 0.0109 - val_mae: 0.0848\n",
      "Epoch 37/150\n",
      "3080/3080 [==============================] - 3s 844us/step - loss: 0.0106 - mse: 0.0106 - mae: 0.0832 - val_loss: 0.0108 - val_mse: 0.0108 - val_mae: 0.0839\n",
      "Epoch 38/150\n",
      "3080/3080 [==============================] - 3s 850us/step - loss: 0.0105 - mse: 0.0105 - mae: 0.0827 - val_loss: 0.0108 - val_mse: 0.0108 - val_mae: 0.0836\n",
      "Epoch 39/150\n",
      "3080/3080 [==============================] - 2s 800us/step - loss: 0.0105 - mse: 0.0105 - mae: 0.0825 - val_loss: 0.0107 - val_mse: 0.0107 - val_mae: 0.0838\n",
      "Epoch 40/150\n",
      "3080/3080 [==============================] - 2s 777us/step - loss: 0.0105 - mse: 0.0105 - mae: 0.0825 - val_loss: 0.0108 - val_mse: 0.0108 - val_mae: 0.0836\n",
      "Epoch 41/150\n",
      "3080/3080 [==============================] - 2s 776us/step - loss: 0.0105 - mse: 0.0105 - mae: 0.0825 - val_loss: 0.0107 - val_mse: 0.0107 - val_mae: 0.0837\n",
      "Epoch 42/150\n",
      "3080/3080 [==============================] - 2s 800us/step - loss: 0.0105 - mse: 0.0105 - mae: 0.0826 - val_loss: 0.0107 - val_mse: 0.0107 - val_mae: 0.0838\n",
      "Epoch 43/150\n",
      "3080/3080 [==============================] - 3s 890us/step - loss: 0.0104 - mse: 0.0104 - mae: 0.0823 - val_loss: 0.0108 - val_mse: 0.0108 - val_mae: 0.0837\n",
      "Epoch 44/150\n",
      "3080/3080 [==============================] - 3s 834us/step - loss: 0.0105 - mse: 0.0105 - mae: 0.0825 - val_loss: 0.0108 - val_mse: 0.0108 - val_mae: 0.0837\n",
      "Epoch 45/150\n",
      "3080/3080 [==============================] - 3s 830us/step - loss: 0.0105 - mse: 0.0105 - mae: 0.0825 - val_loss: 0.0107 - val_mse: 0.0107 - val_mae: 0.0836\n",
      "Epoch 46/150\n",
      "3080/3080 [==============================] - 3s 853us/step - loss: 0.0105 - mse: 0.0105 - mae: 0.0824 - val_loss: 0.0107 - val_mse: 0.0107 - val_mae: 0.0840\n",
      "Epoch 47/150\n",
      "3080/3080 [==============================] - 3s 935us/step - loss: 0.0105 - mse: 0.0105 - mae: 0.0826 - val_loss: 0.0107 - val_mse: 0.0107 - val_mae: 0.0839\n",
      "Epoch 48/150\n",
      "3080/3080 [==============================] - 3s 984us/step - loss: 0.0105 - mse: 0.0105 - mae: 0.0826 - val_loss: 0.0107 - val_mse: 0.0107 - val_mae: 0.0838\n",
      "Epoch 49/150\n",
      "3080/3080 [==============================] - 2s 807us/step - loss: 0.0105 - mse: 0.0105 - mae: 0.0826 - val_loss: 0.0109 - val_mse: 0.0109 - val_mae: 0.0835\n",
      "Epoch 50/150\n",
      "3080/3080 [==============================] - 2s 808us/step - loss: 0.0105 - mse: 0.0105 - mae: 0.0827 - val_loss: 0.0107 - val_mse: 0.0107 - val_mae: 0.0834\n",
      "Epoch 51/150\n",
      "3080/3080 [==============================] - 2s 800us/step - loss: 0.0105 - mse: 0.0105 - mae: 0.0827 - val_loss: 0.0108 - val_mse: 0.0108 - val_mae: 0.0837\n",
      "Epoch 52/150\n",
      "3080/3080 [==============================] - 2s 807us/step - loss: 0.0105 - mse: 0.0105 - mae: 0.0827 - val_loss: 0.0107 - val_mse: 0.0107 - val_mae: 0.0835\n",
      "Epoch 53/150\n",
      "3080/3080 [==============================] - 3s 826us/step - loss: 0.0105 - mse: 0.0105 - mae: 0.0823 - val_loss: 0.0108 - val_mse: 0.0108 - val_mae: 0.0835\n",
      "Epoch 54/150\n",
      "3080/3080 [==============================] - 3s 820us/step - loss: 0.0105 - mse: 0.0105 - mae: 0.0827 - val_loss: 0.0108 - val_mse: 0.0108 - val_mae: 0.0834\n",
      "Epoch 55/150\n",
      "3080/3080 [==============================] - 3s 847us/step - loss: 0.0105 - mse: 0.0105 - mae: 0.0827 - val_loss: 0.0108 - val_mse: 0.0108 - val_mae: 0.0837\n",
      "Epoch 56/150\n",
      "3080/3080 [==============================] - 3s 942us/step - loss: 0.0105 - mse: 0.0105 - mae: 0.0824 - val_loss: 0.0108 - val_mse: 0.0108 - val_mae: 0.0837\n",
      "Epoch 57/150\n",
      "3080/3080 [==============================] - 3s 965us/step - loss: 0.0105 - mse: 0.0105 - mae: 0.0827 - val_loss: 0.0108 - val_mse: 0.0108 - val_mae: 0.0834\n",
      "Epoch 58/150\n",
      "3080/3080 [==============================] - 3s 969us/step - loss: 0.0105 - mse: 0.0105 - mae: 0.0826 - val_loss: 0.0108 - val_mse: 0.0108 - val_mae: 0.0834\n",
      "Epoch 59/150\n",
      "3080/3080 [==============================] - 3s 840us/step - loss: 0.0106 - mse: 0.0106 - mae: 0.0828 - val_loss: 0.0107 - val_mse: 0.0107 - val_mae: 0.0838\n",
      "Epoch 60/150\n",
      "3080/3080 [==============================] - 2s 790us/step - loss: 0.0105 - mse: 0.0105 - mae: 0.0824 - val_loss: 0.0107 - val_mse: 0.0107 - val_mae: 0.0836\n",
      "Epoch 61/150\n",
      "3080/3080 [==============================] - 3s 814us/step - loss: 0.0105 - mse: 0.0105 - mae: 0.0826 - val_loss: 0.0107 - val_mse: 0.0107 - val_mae: 0.0841\n",
      "Epoch 62/150\n",
      "3080/3080 [==============================] - 2s 804us/step - loss: 0.0105 - mse: 0.0105 - mae: 0.0826 - val_loss: 0.0108 - val_mse: 0.0108 - val_mae: 0.0834\n",
      "Epoch 63/150\n",
      "3080/3080 [==============================] - 3s 852us/step - loss: 0.0105 - mse: 0.0105 - mae: 0.0825 - val_loss: 0.0107 - val_mse: 0.0107 - val_mae: 0.0839\n",
      "Epoch 64/150\n",
      "3080/3080 [==============================] - 3s 848us/step - loss: 0.0104 - mse: 0.0104 - mae: 0.0823 - val_loss: 0.0107 - val_mse: 0.0107 - val_mae: 0.0836\n",
      "Epoch 65/150\n",
      "3080/3080 [==============================] - 3s 849us/step - loss: 0.0105 - mse: 0.0105 - mae: 0.0826 - val_loss: 0.0108 - val_mse: 0.0108 - val_mae: 0.0841\n",
      "Epoch 66/150\n",
      "3080/3080 [==============================] - 3s 855us/step - loss: 0.0105 - mse: 0.0105 - mae: 0.0826 - val_loss: 0.0108 - val_mse: 0.0108 - val_mae: 0.0841\n",
      "Epoch 67/150\n",
      "3080/3080 [==============================] - 3s 845us/step - loss: 0.0105 - mse: 0.0105 - mae: 0.0824 - val_loss: 0.0108 - val_mse: 0.0108 - val_mae: 0.0837\n",
      "Epoch 68/150\n",
      "3080/3080 [==============================] - 3s 977us/step - loss: 0.0104 - mse: 0.0104 - mae: 0.0824 - val_loss: 0.0108 - val_mse: 0.0108 - val_mae: 0.0848\n",
      "Epoch 69/150\n",
      "3080/3080 [==============================] - 3s 877us/step - loss: 0.0105 - mse: 0.0105 - mae: 0.0825 - val_loss: 0.0108 - val_mse: 0.0108 - val_mae: 0.0844\n",
      "Epoch 70/150\n",
      "3080/3080 [==============================] - 3s 911us/step - loss: 0.0105 - mse: 0.0105 - mae: 0.0827 - val_loss: 0.0107 - val_mse: 0.0107 - val_mae: 0.0840\n",
      "Epoch 71/150\n",
      "3080/3080 [==============================] - 3s 819us/step - loss: 0.0104 - mse: 0.0104 - mae: 0.0823 - val_loss: 0.0107 - val_mse: 0.0107 - val_mae: 0.0836\n",
      "Epoch 72/150\n",
      "3080/3080 [==============================] - 3s 863us/step - loss: 0.0105 - mse: 0.0105 - mae: 0.0825 - val_loss: 0.0107 - val_mse: 0.0107 - val_mae: 0.0836\n",
      "Epoch 73/150\n",
      "3080/3080 [==============================] - 3s 919us/step - loss: 0.0105 - mse: 0.0105 - mae: 0.0824 - val_loss: 0.0107 - val_mse: 0.0107 - val_mae: 0.0840\n",
      "Epoch 74/150\n",
      "3080/3080 [==============================] - 3s 821us/step - loss: 0.0104 - mse: 0.0104 - mae: 0.0824 - val_loss: 0.0107 - val_mse: 0.0107 - val_mae: 0.0838\n",
      "Epoch 75/150\n",
      "3080/3080 [==============================] - 3s 822us/step - loss: 0.0105 - mse: 0.0105 - mae: 0.0826 - val_loss: 0.0107 - val_mse: 0.0107 - val_mae: 0.0840\n",
      "Epoch 76/150\n",
      "3080/3080 [==============================] - 3s 844us/step - loss: 0.0105 - mse: 0.0105 - mae: 0.0826 - val_loss: 0.0108 - val_mse: 0.0108 - val_mae: 0.0844\n",
      "Epoch 77/150\n",
      "3080/3080 [==============================] - 3s 862us/step - loss: 0.0105 - mse: 0.0105 - mae: 0.0824 - val_loss: 0.0107 - val_mse: 0.0107 - val_mae: 0.0836\n",
      "Epoch 78/150\n",
      "3080/3080 [==============================] - 3s 852us/step - loss: 0.0105 - mse: 0.0105 - mae: 0.0827 - val_loss: 0.0107 - val_mse: 0.0107 - val_mae: 0.0837\n",
      "Epoch 79/150\n",
      "3080/3080 [==============================] - 3s 846us/step - loss: 0.0105 - mse: 0.0105 - mae: 0.0826 - val_loss: 0.0107 - val_mse: 0.0107 - val_mae: 0.0837\n",
      "Epoch 80/150\n",
      "3080/3080 [==============================] - 3s 826us/step - loss: 0.0105 - mse: 0.0105 - mae: 0.0824 - val_loss: 0.0108 - val_mse: 0.0108 - val_mae: 0.0838\n",
      "Epoch 81/150\n",
      "3080/3080 [==============================] - 3s 819us/step - loss: 0.0105 - mse: 0.0105 - mae: 0.0827 - val_loss: 0.0107 - val_mse: 0.0107 - val_mae: 0.0837\n",
      "Epoch 82/150\n",
      "3080/3080 [==============================] - 3s 840us/step - loss: 0.0105 - mse: 0.0105 - mae: 0.0825 - val_loss: 0.0108 - val_mse: 0.0108 - val_mae: 0.0842\n",
      "Epoch 83/150\n",
      "3080/3080 [==============================] - 3s 843us/step - loss: 0.0104 - mse: 0.0104 - mae: 0.0823 - val_loss: 0.0107 - val_mse: 0.0107 - val_mae: 0.0835\n",
      "Epoch 84/150\n",
      "3080/3080 [==============================] - 3s 832us/step - loss: 0.0104 - mse: 0.0104 - mae: 0.0822 - val_loss: 0.0108 - val_mse: 0.0108 - val_mae: 0.0836\n",
      "Epoch 85/150\n",
      "3080/3080 [==============================] - 3s 904us/step - loss: 0.0105 - mse: 0.0105 - mae: 0.0826 - val_loss: 0.0107 - val_mse: 0.0107 - val_mae: 0.0835\n",
      "Epoch 86/150\n",
      "3080/3080 [==============================] - 3s 959us/step - loss: 0.0105 - mse: 0.0105 - mae: 0.0825 - val_loss: 0.0107 - val_mse: 0.0107 - val_mae: 0.0837\n",
      "Epoch 87/150\n",
      "3080/3080 [==============================] - 3s 832us/step - loss: 0.0105 - mse: 0.0105 - mae: 0.0824 - val_loss: 0.0107 - val_mse: 0.0107 - val_mae: 0.0838\n",
      "Epoch 88/150\n",
      "3080/3080 [==============================] - 3s 902us/step - loss: 0.0104 - mse: 0.0104 - mae: 0.0821 - val_loss: 0.0107 - val_mse: 0.0107 - val_mae: 0.0834\n",
      "Epoch 89/150\n",
      "3080/3080 [==============================] - 3s 856us/step - loss: 0.0104 - mse: 0.0104 - mae: 0.0823 - val_loss: 0.0108 - val_mse: 0.0108 - val_mae: 0.0833\n",
      "Epoch 90/150\n",
      "3080/3080 [==============================] - 3s 826us/step - loss: 0.0104 - mse: 0.0104 - mae: 0.0823 - val_loss: 0.0108 - val_mse: 0.0108 - val_mae: 0.0838\n",
      "Epoch 91/150\n",
      "3080/3080 [==============================] - 3s 902us/step - loss: 0.0104 - mse: 0.0104 - mae: 0.0821 - val_loss: 0.0108 - val_mse: 0.0108 - val_mae: 0.0837\n",
      "Epoch 92/150\n",
      "3080/3080 [==============================] - 3s 1ms/step - loss: 0.0104 - mse: 0.0104 - mae: 0.0822 - val_loss: 0.0108 - val_mse: 0.0108 - val_mae: 0.0836\n",
      "Epoch 93/150\n",
      "3080/3080 [==============================] - 3s 970us/step - loss: 0.0104 - mse: 0.0104 - mae: 0.0821 - val_loss: 0.0108 - val_mse: 0.0108 - val_mae: 0.0834\n",
      "Epoch 94/150\n",
      "3080/3080 [==============================] - 3s 921us/step - loss: 0.0105 - mse: 0.0105 - mae: 0.0823 - val_loss: 0.0107 - val_mse: 0.0107 - val_mae: 0.0837\n",
      "Epoch 95/150\n",
      "3080/3080 [==============================] - 3s 841us/step - loss: 0.0105 - mse: 0.0105 - mae: 0.0826 - val_loss: 0.0108 - val_mse: 0.0108 - val_mae: 0.0835\n",
      "Epoch 96/150\n",
      "3080/3080 [==============================] - 3s 853us/step - loss: 0.0105 - mse: 0.0105 - mae: 0.0825 - val_loss: 0.0108 - val_mse: 0.0108 - val_mae: 0.0840\n",
      "Epoch 97/150\n",
      "3080/3080 [==============================] - 3s 951us/step - loss: 0.0104 - mse: 0.0104 - mae: 0.0824 - val_loss: 0.0107 - val_mse: 0.0107 - val_mae: 0.0834\n",
      "Epoch 98/150\n",
      "3080/3080 [==============================] - 3s 879us/step - loss: 0.0105 - mse: 0.0105 - mae: 0.0825 - val_loss: 0.0107 - val_mse: 0.0107 - val_mae: 0.0835\n",
      "Epoch 99/150\n",
      "3080/3080 [==============================] - 3s 934us/step - loss: 0.0104 - mse: 0.0104 - mae: 0.0824 - val_loss: 0.0107 - val_mse: 0.0107 - val_mae: 0.0838\n",
      "Epoch 100/150\n",
      "3080/3080 [==============================] - 3s 1ms/step - loss: 0.0104 - mse: 0.0104 - mae: 0.0822 - val_loss: 0.0107 - val_mse: 0.0107 - val_mae: 0.0841\n",
      "Epoch 101/150\n",
      "3080/3080 [==============================] - 3s 824us/step - loss: 0.0105 - mse: 0.0105 - mae: 0.0825 - val_loss: 0.0108 - val_mse: 0.0108 - val_mae: 0.0848\n",
      "Epoch 102/150\n",
      "3080/3080 [==============================] - 3s 823us/step - loss: 0.0104 - mse: 0.0104 - mae: 0.0823 - val_loss: 0.0107 - val_mse: 0.0107 - val_mae: 0.0839\n",
      "Epoch 103/150\n",
      "3080/3080 [==============================] - 3s 835us/step - loss: 0.0105 - mse: 0.0105 - mae: 0.0826 - val_loss: 0.0108 - val_mse: 0.0108 - val_mae: 0.0835\n",
      "Epoch 104/150\n",
      "3080/3080 [==============================] - 3s 849us/step - loss: 0.0105 - mse: 0.0105 - mae: 0.0824 - val_loss: 0.0107 - val_mse: 0.0107 - val_mae: 0.0837\n",
      "Epoch 105/150\n",
      "3080/3080 [==============================] - 3s 937us/step - loss: 0.0104 - mse: 0.0104 - mae: 0.0822 - val_loss: 0.0108 - val_mse: 0.0108 - val_mae: 0.0833\n",
      "Epoch 106/150\n",
      "3080/3080 [==============================] - 3s 859us/step - loss: 0.0104 - mse: 0.0104 - mae: 0.0822 - val_loss: 0.0107 - val_mse: 0.0107 - val_mae: 0.0840\n",
      "Epoch 107/150\n",
      "3080/3080 [==============================] - 3s 867us/step - loss: 0.0104 - mse: 0.0104 - mae: 0.0822 - val_loss: 0.0108 - val_mse: 0.0108 - val_mae: 0.0833\n",
      "Epoch 108/150\n",
      "3080/3080 [==============================] - 3s 954us/step - loss: 0.0104 - mse: 0.0104 - mae: 0.0819 - val_loss: 0.0109 - val_mse: 0.0109 - val_mae: 0.0851\n",
      "Epoch 109/150\n",
      "3080/3080 [==============================] - 3s 914us/step - loss: 0.0105 - mse: 0.0105 - mae: 0.0824 - val_loss: 0.0107 - val_mse: 0.0107 - val_mae: 0.0837\n",
      "Epoch 110/150\n",
      "3080/3080 [==============================] - 3s 840us/step - loss: 0.0104 - mse: 0.0104 - mae: 0.0822 - val_loss: 0.0107 - val_mse: 0.0107 - val_mae: 0.0839\n",
      "Epoch 111/150\n",
      "3080/3080 [==============================] - 3s 847us/step - loss: 0.0105 - mse: 0.0105 - mae: 0.0825 - val_loss: 0.0107 - val_mse: 0.0107 - val_mae: 0.0838\n",
      "Epoch 112/150\n",
      "3080/3080 [==============================] - 3s 829us/step - loss: 0.0104 - mse: 0.0104 - mae: 0.0823 - val_loss: 0.0107 - val_mse: 0.0107 - val_mae: 0.0834\n",
      "Epoch 113/150\n",
      "3080/3080 [==============================] - 3s 904us/step - loss: 0.0105 - mse: 0.0105 - mae: 0.0824 - val_loss: 0.0107 - val_mse: 0.0107 - val_mae: 0.0835\n",
      "Epoch 114/150\n",
      "3080/3080 [==============================] - 2s 804us/step - loss: 0.0104 - mse: 0.0104 - mae: 0.0819 - val_loss: 0.0108 - val_mse: 0.0108 - val_mae: 0.0833\n",
      "Epoch 115/150\n",
      "3080/3080 [==============================] - 2s 797us/step - loss: 0.0104 - mse: 0.0104 - mae: 0.0821 - val_loss: 0.0107 - val_mse: 0.0107 - val_mae: 0.0838\n",
      "Epoch 116/150\n",
      "3080/3080 [==============================] - 3s 990us/step - loss: 0.0104 - mse: 0.0104 - mae: 0.0822 - val_loss: 0.0107 - val_mse: 0.0107 - val_mae: 0.0839\n",
      "Epoch 117/150\n",
      "3080/3080 [==============================] - 3s 830us/step - loss: 0.0104 - mse: 0.0104 - mae: 0.0824 - val_loss: 0.0108 - val_mse: 0.0108 - val_mae: 0.0835\n",
      "Epoch 118/150\n",
      "3080/3080 [==============================] - 2s 765us/step - loss: 0.0104 - mse: 0.0104 - mae: 0.0820 - val_loss: 0.0107 - val_mse: 0.0107 - val_mae: 0.0836\n",
      "Epoch 119/150\n",
      "3080/3080 [==============================] - 2s 749us/step - loss: 0.0104 - mse: 0.0104 - mae: 0.0820 - val_loss: 0.0108 - val_mse: 0.0108 - val_mae: 0.0835\n",
      "Epoch 120/150\n",
      "3080/3080 [==============================] - 2s 751us/step - loss: 0.0105 - mse: 0.0105 - mae: 0.0824 - val_loss: 0.0108 - val_mse: 0.0108 - val_mae: 0.0834\n",
      "Epoch 121/150\n",
      "3080/3080 [==============================] - 2s 766us/step - loss: 0.0105 - mse: 0.0105 - mae: 0.0825 - val_loss: 0.0107 - val_mse: 0.0107 - val_mae: 0.0839\n",
      "Epoch 122/150\n",
      "3080/3080 [==============================] - 3s 988us/step - loss: 0.0105 - mse: 0.0105 - mae: 0.0826 - val_loss: 0.0107 - val_mse: 0.0107 - val_mae: 0.0837\n",
      "Epoch 123/150\n",
      "3080/3080 [==============================] - 2s 784us/step - loss: 0.0104 - mse: 0.0104 - mae: 0.0820 - val_loss: 0.0107 - val_mse: 0.0107 - val_mae: 0.0836\n",
      "Epoch 124/150\n",
      "3080/3080 [==============================] - 2s 739us/step - loss: 0.0104 - mse: 0.0104 - mae: 0.0823 - val_loss: 0.0108 - val_mse: 0.0108 - val_mae: 0.0841\n",
      "Epoch 125/150\n",
      "3080/3080 [==============================] - 2s 761us/step - loss: 0.0105 - mse: 0.0105 - mae: 0.0823 - val_loss: 0.0108 - val_mse: 0.0108 - val_mae: 0.0847\n",
      "Epoch 126/150\n",
      "3080/3080 [==============================] - 2s 761us/step - loss: 0.0105 - mse: 0.0105 - mae: 0.0825 - val_loss: 0.0107 - val_mse: 0.0107 - val_mae: 0.0838\n",
      "Epoch 127/150\n",
      "3080/3080 [==============================] - 2s 776us/step - loss: 0.0104 - mse: 0.0104 - mae: 0.0823 - val_loss: 0.0108 - val_mse: 0.0108 - val_mae: 0.0834\n",
      "Epoch 128/150\n",
      "3080/3080 [==============================] - 2s 765us/step - loss: 0.0104 - mse: 0.0104 - mae: 0.0821 - val_loss: 0.0107 - val_mse: 0.0107 - val_mae: 0.0839\n",
      "Epoch 129/150\n",
      "3080/3080 [==============================] - 2s 750us/step - loss: 0.0104 - mse: 0.0104 - mae: 0.0823 - val_loss: 0.0108 - val_mse: 0.0108 - val_mae: 0.0835\n",
      "Epoch 130/150\n",
      "3080/3080 [==============================] - 2s 749us/step - loss: 0.0104 - mse: 0.0104 - mae: 0.0821 - val_loss: 0.0107 - val_mse: 0.0107 - val_mae: 0.0837\n",
      "Epoch 131/150\n",
      "3080/3080 [==============================] - 2s 807us/step - loss: 0.0104 - mse: 0.0104 - mae: 0.0823 - val_loss: 0.0108 - val_mse: 0.0108 - val_mae: 0.0847\n",
      "Epoch 132/150\n",
      "3080/3080 [==============================] - 3s 820us/step - loss: 0.0105 - mse: 0.0105 - mae: 0.0825 - val_loss: 0.0107 - val_mse: 0.0107 - val_mae: 0.0838\n",
      "Epoch 133/150\n",
      "3080/3080 [==============================] - 2s 782us/step - loss: 0.0104 - mse: 0.0104 - mae: 0.0821 - val_loss: 0.0108 - val_mse: 0.0108 - val_mae: 0.0833\n",
      "Epoch 134/150\n",
      "3080/3080 [==============================] - 2s 783us/step - loss: 0.0104 - mse: 0.0104 - mae: 0.0821 - val_loss: 0.0108 - val_mse: 0.0108 - val_mae: 0.0834\n",
      "Epoch 135/150\n",
      "3080/3080 [==============================] - 2s 799us/step - loss: 0.0104 - mse: 0.0104 - mae: 0.0820 - val_loss: 0.0107 - val_mse: 0.0107 - val_mae: 0.0835\n",
      "Epoch 136/150\n",
      "3080/3080 [==============================] - 2s 725us/step - loss: 0.0104 - mse: 0.0104 - mae: 0.0823 - val_loss: 0.0107 - val_mse: 0.0107 - val_mae: 0.0836\n",
      "Epoch 137/150\n",
      "3080/3080 [==============================] - 2s 793us/step - loss: 0.0104 - mse: 0.0104 - mae: 0.0823 - val_loss: 0.0108 - val_mse: 0.0108 - val_mae: 0.0841\n",
      "Epoch 138/150\n",
      "3080/3080 [==============================] - 2s 780us/step - loss: 0.0104 - mse: 0.0104 - mae: 0.0823 - val_loss: 0.0107 - val_mse: 0.0107 - val_mae: 0.0835\n",
      "Epoch 139/150\n",
      "3080/3080 [==============================] - 3s 852us/step - loss: 0.0103 - mse: 0.0103 - mae: 0.0816 - val_loss: 0.0107 - val_mse: 0.0107 - val_mae: 0.0836\n",
      "Epoch 140/150\n",
      "3080/3080 [==============================] - 3s 929us/step - loss: 0.0104 - mse: 0.0104 - mae: 0.0822 - val_loss: 0.0108 - val_mse: 0.0108 - val_mae: 0.0835\n",
      "Epoch 141/150\n",
      "3080/3080 [==============================] - 3s 904us/step - loss: 0.0104 - mse: 0.0104 - mae: 0.0821 - val_loss: 0.0108 - val_mse: 0.0108 - val_mae: 0.0842\n",
      "Epoch 142/150\n",
      "3080/3080 [==============================] - 3s 984us/step - loss: 0.0105 - mse: 0.0105 - mae: 0.0824 - val_loss: 0.0108 - val_mse: 0.0108 - val_mae: 0.0841\n",
      "Epoch 143/150\n",
      "3080/3080 [==============================] - 3s 923us/step - loss: 0.0104 - mse: 0.0104 - mae: 0.0821 - val_loss: 0.0108 - val_mse: 0.0108 - val_mae: 0.0843\n",
      "Epoch 144/150\n",
      "3080/3080 [==============================] - 3s 855us/step - loss: 0.0104 - mse: 0.0104 - mae: 0.0820 - val_loss: 0.0107 - val_mse: 0.0107 - val_mae: 0.0836\n",
      "Epoch 145/150\n",
      "3080/3080 [==============================] - 3s 864us/step - loss: 0.0104 - mse: 0.0104 - mae: 0.0823 - val_loss: 0.0107 - val_mse: 0.0107 - val_mae: 0.0837\n",
      "Epoch 146/150\n",
      "3080/3080 [==============================] - 3s 860us/step - loss: 0.0105 - mse: 0.0105 - mae: 0.0825 - val_loss: 0.0107 - val_mse: 0.0107 - val_mae: 0.0833\n",
      "Epoch 147/150\n",
      "3080/3080 [==============================] - 2s 805us/step - loss: 0.0104 - mse: 0.0104 - mae: 0.0822 - val_loss: 0.0107 - val_mse: 0.0107 - val_mae: 0.0835\n",
      "Epoch 148/150\n",
      "3080/3080 [==============================] - 2s 791us/step - loss: 0.0103 - mse: 0.0103 - mae: 0.0820 - val_loss: 0.0107 - val_mse: 0.0107 - val_mae: 0.0836\n",
      "Epoch 149/150\n",
      "3080/3080 [==============================] - 3s 815us/step - loss: 0.0104 - mse: 0.0104 - mae: 0.0821 - val_loss: 0.0108 - val_mse: 0.0108 - val_mae: 0.0840\n",
      "Epoch 150/150\n",
      "3080/3080 [==============================] - 2s 792us/step - loss: 0.0104 - mse: 0.0104 - mae: 0.0821 - val_loss: 0.0108 - val_mse: 0.0108 - val_mae: 0.0842\n"
     ]
    }
   ],
   "source": [
    "history = model.fit(X_train,\n",
    "                    y_train,\n",
    "                    epochs=150,\n",
    "                    batch_size=50,\n",
    "                    verbose=1,\n",
    "                    validation_split=0.2)"
   ]
  },
  {
   "cell_type": "code",
   "execution_count": 42,
   "metadata": {},
   "outputs": [
    {
     "ename": "AttributeError",
     "evalue": "module 'tensorflow' has no attribute 'Session'",
     "output_type": "error",
     "traceback": [
      "\u001b[0;31m---------------------------------------------------------------------------\u001b[0m",
      "\u001b[0;31mAttributeError\u001b[0m                            Traceback (most recent call last)",
      "\u001b[0;32m<ipython-input-42-dc88a5488631>\u001b[0m in \u001b[0;36m<module>\u001b[0;34m\u001b[0m\n\u001b[0;32m----> 1\u001b[0;31m \u001b[0;32mwith\u001b[0m \u001b[0mtf\u001b[0m\u001b[0;34m.\u001b[0m\u001b[0mSession\u001b[0m\u001b[0;34m(\u001b[0m\u001b[0;34m)\u001b[0m \u001b[0;32mas\u001b[0m \u001b[0msess\u001b[0m\u001b[0;34m:\u001b[0m\u001b[0;34m\u001b[0m\u001b[0;34m\u001b[0m\u001b[0m\n\u001b[0m\u001b[1;32m      2\u001b[0m     \u001b[0mdevices\u001b[0m \u001b[0;34m=\u001b[0m \u001b[0msess\u001b[0m\u001b[0;34m.\u001b[0m\u001b[0mlist_devices\u001b[0m\u001b[0;34m(\u001b[0m\u001b[0;34m)\u001b[0m\u001b[0;34m\u001b[0m\u001b[0;34m\u001b[0m\u001b[0m\n",
      "\u001b[0;31mAttributeError\u001b[0m: module 'tensorflow' has no attribute 'Session'"
     ]
    }
   ],
   "source": [
    "with tf.Session() as sess:\n",
    "    devices = sess.list_devices()"
   ]
  },
  {
   "cell_type": "code",
   "execution_count": 41,
   "metadata": {},
   "outputs": [
    {
     "name": "stdout",
     "output_type": "stream",
     "text": [
      "dict_keys(['loss', 'mse', 'mae', 'val_loss', 'val_mse', 'val_mae'])\n"
     ]
    },
    {
     "data": {
      "image/png": "[encoded data removed]",
      "text/plain": [
       "<Figure size 432x288 with 1 Axes>"
      ]
     },
     "metadata": {
      "needs_background": "light"
     },
     "output_type": "display_data"
    }
   ],
   "source": [
    "print(history.history.keys())\n",
    "# \"Loss\"\n",
    "plt.plot(history.history['loss'])\n",
    "plt.plot(history.history['val_loss'])\n",
    "plt.title('model loss')\n",
    "plt.ylabel('loss')\n",
    "plt.xlabel('epoch')\n",
    "plt.legend(['train', 'validation'], loc='upper left')\n",
    "plt.show()"
   ]
  },
  {
   "cell_type": "code",
   "execution_count": 47,
   "metadata": {},
   "outputs": [
    {
     "name": "stdout",
     "output_type": "stream",
     "text": [
      "Num GPUs Available:  0\n"
     ]
    }
   ],
   "source": [
    "import tensorflow as tf\n",
    "print(\"Num GPUs Available: \", len(tf.config.list_physical_devices('GPU')))"
   ]
  },
  {
   "cell_type": "markdown",
   "metadata": {},
   "source": [
    "https://datascienceplus.com/keras-regression-based-neural-networks/"
   ]
  },
  {
   "cell_type": "markdown",
   "metadata": {},
   "source": [
    "# 4. Проверка дополнительных гипотез"
   ]
  },
  {
   "cell_type": "code",
   "execution_count": 54,
   "metadata": {},
   "outputs": [],
   "source": [
    "# генерация дополнительных признаков\n",
    "# Xy.loc[:, ['title']] = Xy.title.apply(str)\n",
    "\n",
    "# Xy.loc[:, ['doc']] = Xy.title.progress_apply(nlp)\n",
    "\n",
    "# длина заголовка в символах\n",
    "# Xy.loc[:, ['len']] = Xy.title.apply(len)\n",
    "\n",
    "# количество токенов\n",
    "# Xy.loc[:, ['tokens_num']] = Xy.tokens.apply(lambda x: len(x))"
   ]
  },
  {
   "cell_type": "code",
   "execution_count": 10,
   "metadata": {},
   "outputs": [],
   "source": [
    "X_train = torch.from_numpy(X_train).float().to(device)"
   ]
  },
  {
   "cell_type": "code",
   "execution_count": 11,
   "metadata": {},
   "outputs": [],
   "source": [
    "y_train = torch.from_numpy(y_train.values).float().to(device)"
   ]
  }
 ],
 "metadata": {
  "kernelspec": {
   "display_name": "Python 3",
   "language": "python",
   "name": "python3"
  },
  "language_info": {
   "codemirror_mode": {
    "name": "ipython",
    "version": 3
   },
   "file_extension": ".py",
   "mimetype": "text/x-python",
   "name": "python",
   "nbconvert_exporter": "python",
   "pygments_lexer": "ipython3",
   "version": "3.8.5"
  }
 },
 "nbformat": 4,
 "nbformat_minor": 4
}
