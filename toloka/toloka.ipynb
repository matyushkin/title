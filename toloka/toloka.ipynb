{
 "cells": [
  {
   "cell_type": "markdown",
   "metadata": {},
   "source": [
    "# Описание задачи\n",
    "\n",
    "**Цель**: сделать инструмент подготовки данных для платформы Яндекс.Толока."
   ]
  },
  {
   "cell_type": "code",
   "execution_count": 1,
   "metadata": {},
   "outputs": [],
   "source": [
    "import pandas as pd\n",
    "\n",
    "# прогрессбар\n",
    "from tqdm.auto import tqdm\n",
    "tqdm.pandas()\n",
    "\n",
    "DATASETS_PATH = '../../DATASETS/title'"
   ]
  },
  {
   "cell_type": "markdown",
   "metadata": {},
   "source": [
    "Считаем датасет:"
   ]
  },
  {
   "cell_type": "code",
   "execution_count": 2,
   "metadata": {},
   "outputs": [],
   "source": [
    "def read_df():\n",
    "    df = pd.read_feather(f'{DATASETS_PATH}/total.feather')    \n",
    "    df = df.set_index('url')  # feather doesn't work with str indices\n",
    "    \n",
    "    # parse timing cols ad datetime\n",
    "    for col in ('post_time', 'parse_time'):\n",
    "        df[col] = pd.to_datetime(df[col])\n",
    "    \n",
    "    return df\n",
    "\n",
    "df = read_df()"
   ]
  },
  {
   "cell_type": "markdown",
   "metadata": {},
   "source": [
    "# Задача определения типа заголовка\n",
    "\n",
    "Нам нужно определять, что за название перед нами, какой у него тип: новость это, инструкция, дайджест, название курса или что-то еще.\n",
    "\n",
    "Напишем функцию, которая возвращает три файла: n заголовков для эталонной разметки (`gold`), m заголовков для обучения (`silver`), size-n-m для последующего теста или последующего обучения."
   ]
  },
  {
   "cell_type": "code",
   "execution_count": 3,
   "metadata": {},
   "outputs": [],
   "source": [
    "dft = df.copy()\n",
    "\n",
    "# заменяем неразрывные пробелы на обычные\n",
    "dft.title = dft.title.apply(lambda x: x.replace('\\xa0', ' '))\n",
    "\n",
    "d = {'gold': 1000,\n",
    "     'silver': 10000}\n",
    "dfs = dict.fromkeys(d.keys())\n",
    "\n",
    "for key in dfs:\n",
    "    dfs[key] = dft[['title']].sample(d[key], random_state=0)\n",
    "    dft.drop(dfs[key].index, inplace=True)\n",
    "    dfs[key].to_csv(f'{DATASETS_PATH}/{key}.csv')\n",
    "\n",
    "dft.reset_index(inplace=True)\n",
    "dft.to_feather(f'{DATASETS_PATH}/total_exluding_titles.feather')"
   ]
  },
  {
   "cell_type": "markdown",
   "metadata": {},
   "source": [
    "# Подготовка данных для spacy\n",
    "\n",
    "Предварительно размеченный набор данных используем для обучения модели. Чтобы сразу обучать модель вместе с NER-разметкой, составим config-файл:"
   ]
  },
  {
   "cell_type": "code",
   "execution_count": null,
   "metadata": {},
   "outputs": [],
   "source": []
  }
 ],
 "metadata": {
  "kernelspec": {
   "display_name": "Python 3",
   "language": "python",
   "name": "python3"
  },
  "language_info": {
   "codemirror_mode": {
    "name": "ipython",
    "version": 3
   },
   "file_extension": ".py",
   "mimetype": "text/x-python",
   "name": "python",
   "nbconvert_exporter": "python",
   "pygments_lexer": "ipython3",
   "version": "3.8.5"
  }
 },
 "nbformat": 4,
 "nbformat_minor": 4
}
