{
 "cells": [
  {
   "cell_type": "markdown",
   "metadata": {},
   "source": [
    "## 1. Read Dataframe with Titles and Views Numbers\n",
    "\n",
    "Now we have a lot of data obtained as a result of web scraping, combined into one large dataset. For reading we use `read_df()` functions and for occasional work with dataset and saving results – `write_df()`."
   ]
  },
  {
   "cell_type": "code",
   "execution_count": 2,
   "metadata": {},
   "outputs": [],
   "source": [
    "def write_df(df, filename = 'it_articles_ru'):\n",
    "    \"\"\"Write total dataframe with information about all sources\"\"\"\n",
    "    df = df.reset_index() # feather format doesn't work with str indices\n",
    "    \n",
    "    for col in ('post_time', 'parse_time'):\n",
    "        df[col] = pd.to_datetime(df[col])\n",
    "    \n",
    "    # for space economy let's convert types\n",
    "    df.views_num = df.views_num.astype('Int32')\n",
    "    for col in ('likes_num', 'favs_num', 'comments_num'):\n",
    "        df[col] = df[col].astype('Int16')\n",
    "    \n",
    "    # zstd compression is best for our str content\n",
    "    df.to_feather(f'{DATASETS_PATH}/META/{filename}.feather',\n",
    "                  compression='zstd')\n",
    "    \n",
    "    # convert time to simple iso format strings\n",
    "    df.post_time = df.post_time.apply(lambda x: x.isoformat().replace('+03:00', ''))\n",
    "    df.parse_time = df.parse_time.apply(lambda x: x.date().isoformat())\n",
    "    \n",
    "    print('Main datafame is saved.')\n",
    "    \n",
    "df = read_df()"
   ]
  },
  {
   "cell_type": "markdown",
   "metadata": {},
   "source": [
    "## 3. Target Variable Conversion: Views to Rating\n",
    "\n",
    "Let's create datasets with the minimum required set of columns, corresponding to the model. We will intentionally code both the title and the summary together, since this is exactly the information that the user sees.\n",
    "\n",
    "Now we will sort the articles by the number of views and set each position in the top 20% to 1, and for the rest – 0. So the closer the classification score to 1, the more likely the article will receive more views.\n",
    "\n",
    "It should be noted that we cannot take into consideration articles that were published in the last month, unless they immediately fall into `False` section. Usually, recently published articles have received only few views, but this does not mean that they are not interesting. Often, such articles have simply not been indexed yet.\n",
    "The same applies to the fact that an article published five years ago has a higher chance of being read more times than one that was published six months ago. To equalize the \"chances\" of such articles, we divide the timeline into several indipendent segments, where we sort items by the number of views. Hereinafter, the word \"time\" does not mean an ordinary date, but the difference between the time of publication of the article and the time of parsing."
   ]
  },
  {
   "cell_type": "code",
   "execution_count": 7,
   "metadata": {},
   "outputs": [],
   "source": [
    "def Xy_preprocessing(df, true_fraction = 0.5):\n",
    "    Xy = df[['post_time', 'parse_time', 'title', 'summary', 'views_num']]\n",
    "    Xy.reset_index(inplace=True)\n",
    "\n",
    "    # not interested in NA views_num, post_time and parse_time\n",
    "    Xy.dropna(subset=['views_num', 'parse_time', 'post_time'], inplace=True)\n",
    "\n",
    "    # drop dupicates of title + summary\n",
    "    Xy.drop_duplicates(subset=['title', 'summary'],\n",
    "                       keep='last', inplace=True)\n",
    "\n",
    "    Xy['delta'] = (Xy['parse_time']-Xy['post_time']).apply(lambda x: int(x.days))\n",
    "    Xy.drop(columns=['parse_time', 'post_time'], inplace=True)\n",
    "\n",
    "    # we don't save time of parsing, so delta can be \"-1 days\" but actually it's 0\n",
    "    Xy.loc[Xy.delta < 0, 'delta'] = 0\n",
    "\n",
    "    Xy.sort_values(by='delta', inplace=True)\n",
    "    Xy.reset_index(drop=True, inplace=True)\n",
    "\n",
    "    # let's divide the records into blocks that are multiples of 100\n",
    "    # start block_num is month items length\n",
    "    block_num = round(Xy.loc[Xy.delta < 30, :].shape[0]/100)*100\n",
    "\n",
    "    # others bloack are 2**n progression nums\n",
    "    # -1 used for not making \"old tail\" too small\n",
    "    bins_num = round(np.log2(Xy.shape[0]/block_num))-1\n",
    "\n",
    "    # slices_indexes for bins is cumulative sum for progression\n",
    "    # this approach makes it possible to consider more modern\n",
    "    # articles with a higher priority, and treat old ones more strictly.\n",
    "    bins = np.cumsum([2**n*block_num for n in range(bins_num)])\n",
    "    bins = np.insert(bins, 0, 0)\n",
    "    bins = np.append(bins, Xy.shape[0])\n",
    "\n",
    "    Xy['interval'] = pd.cut(Xy.index, bins,\n",
    "                            include_lowest=True)\n",
    "\n",
    "    Xy.sort_values(['interval', 'views_num'],\n",
    "                   ascending=[True, False],\n",
    "                   inplace=True)\n",
    "\n",
    "    Xy.reset_index(drop=True, inplace=True)\n",
    "\n",
    "    # true fraction is an adjustable value\n",
    "    arr = (bins + np.diff(bins, append=0)*true_fraction)\n",
    "    bins = np.ravel([bins, arr],'F')[:-1]\n",
    "\n",
    "    Xy['target'] = pd.cut(Xy.index, bins,\n",
    "                               include_lowest=True)\n",
    "\n",
    "    classes = {interval: 1 if i%2 == 0 else 0 for i, interval in enumerate(Xy.target.unique())}\n",
    "    Xy.replace({'target': classes}, inplace=True)\n",
    "    Xy.drop(columns = ['delta', 'interval'], inplace=True)\n",
    "    \n",
    "    return Xy"
   ]
  },
  {
   "cell_type": "code",
   "execution_count": 8,
   "metadata": {},
   "outputs": [],
   "source": [
    "Xy = Xy_preprocessing(df)\n",
    "#Xy.plot()"
   ]
  },
  {
   "cell_type": "code",
   "execution_count": 11,
   "metadata": {},
   "outputs": [],
   "source": [
    "Xy[['title', 'views_num', 'target']].to_csv('title_views.csv')"
   ]
  },
  {
   "cell_type": "code",
   "execution_count": 10,
   "metadata": {},
   "outputs": [
    {
     "data": {
      "text/plain": [
       "<AxesSubplot:>"
      ]
     },
     "execution_count": 10,
     "metadata": {},
     "output_type": "execute_result"
    },
    {
     "data": {
      "image/png": "[encoded data removed]",
      "text/plain": [
       "<Figure size 432x288 with 1 Axes>"
      ]
     },
     "metadata": {
      "needs_background": "light"
     },
     "output_type": "display_data"
    }
   ],
   "source": [
    "Xy.target.plot()"
   ]
  },
  {
   "cell_type": "code",
   "execution_count": 11,
   "metadata": {},
   "outputs": [],
   "source": [
    "Xy.to_feather(f'{DATASETS_PATH}/PREPROCESSING/Xy.feather',\n",
    "              compression='zstd')"
   ]
  },
  {
   "cell_type": "code",
   "execution_count": 12,
   "metadata": {},
   "outputs": [
    {
     "data": {
      "text/plain": [
       "<AxesSubplot:>"
      ]
     },
     "execution_count": 12,
     "metadata": {},
     "output_type": "execute_result"
    },
    {
     "data": {
      "image/png": "[encoded data removed]",
      "text/plain": [
       "<Figure size 432x288 with 1 Axes>"
      ]
     },
     "metadata": {
      "needs_background": "light"
     },
     "output_type": "display_data"
    }
   ],
   "source": []
  },
  {
   "cell_type": "code",
   "execution_count": 65,
   "metadata": {},
   "outputs": [],
   "source": [
    "Xy.sample(20000, random_state=0)[['url', 'title']].reset_index(drop=True).to_csv('NER_20k_sample.csv')"
   ]
  },
  {
   "cell_type": "code",
   "execution_count": 13,
   "metadata": {},
   "outputs": [],
   "source": [
    "num = round(Xy.shape[0]*0.2)"
   ]
  },
  {
   "cell_type": "code",
   "execution_count": 14,
   "metadata": {},
   "outputs": [],
   "source": [
    "Xy = Xy.sort_values(by='target', ascending=False)"
   ]
  },
  {
   "cell_type": "code",
   "execution_count": 15,
   "metadata": {},
   "outputs": [
    {
     "data": {
      "text/plain": [
       "<AxesSubplot:>"
      ]
     },
     "execution_count": 15,
     "metadata": {},
     "output_type": "execute_result"
    },
    {
     "data": {
      "image/png": "[encoded data removed]",
      "text/plain": [
       "<Figure size 432x288 with 1 Axes>"
      ]
     },
     "metadata": {
      "needs_background": "light"
     },
     "output_type": "display_data"
    }
   ],
   "source": [
    "Xy.reset_index().target.plot()"
   ]
  },
  {
   "cell_type": "code",
   "execution_count": 18,
   "metadata": {},
   "outputs": [],
   "source": [
    "Xy[['title', 'views_num', 'target']].reset_index(drop=True).to_csv('title_views.csv')"
   ]
  },
  {
   "cell_type": "code",
   "execution_count": 125,
   "metadata": {},
   "outputs": [],
   "source": [
    "df_1 = Xy.iloc[:num, :]"
   ]
  },
  {
   "cell_type": "code",
   "execution_count": 126,
   "metadata": {},
   "outputs": [],
   "source": [
    "df_0 = Xy.iloc[-num:, :]"
   ]
  },
  {
   "cell_type": "code",
   "execution_count": 127,
   "metadata": {},
   "outputs": [],
   "source": [
    "df_0 = df_0.drop(columns=['url', 'views_num', 'target']).reset_index(drop=True)\n",
    "df_1 = df_1.drop(columns=['url', 'views_num', 'target']).reset_index(drop=True)"
   ]
  },
  {
   "cell_type": "code",
   "execution_count": 128,
   "metadata": {},
   "outputs": [],
   "source": [
    "df_0['target'] = 0\n",
    "df_1['target'] = 1\n",
    "df01 = pd.concat([df_0, df_1])"
   ]
  },
  {
   "cell_type": "code",
   "execution_count": 130,
   "metadata": {},
   "outputs": [
    {
     "data": {
      "text/html": [
       "<div>\n",
       "<style scoped>\n",
       "    .dataframe tbody tr th:only-of-type {\n",
       "        vertical-align: middle;\n",
       "    }\n",
       "\n",
       "    .dataframe tbody tr th {\n",
       "        vertical-align: top;\n",
       "    }\n",
       "\n",
       "    .dataframe thead th {\n",
       "        text-align: right;\n",
       "    }\n",
       "</style>\n",
       "<table border=\"1\" class=\"dataframe\">\n",
       "  <thead>\n",
       "    <tr style=\"text-align: right;\">\n",
       "      <th></th>\n",
       "      <th>title</th>\n",
       "      <th>summary</th>\n",
       "      <th>target</th>\n",
       "    </tr>\n",
       "  </thead>\n",
       "  <tbody>\n",
       "    <tr>\n",
       "      <th>0</th>\n",
       "      <td>Пока Sape отдыхает…</td>\n",
       "      <td>Пока sape обновляла ПО и вводила новую систему...</td>\n",
       "      <td>0</td>\n",
       "    </tr>\n",
       "    <tr>\n",
       "      <th>1</th>\n",
       "      <td>В Википедии уже 300 000 статей. Всех поздравля...</td>\n",
       "      <td>Количество статей в Русской Википедии перевали...</td>\n",
       "      <td>0</td>\n",
       "    </tr>\n",
       "    <tr>\n",
       "      <th>2</th>\n",
       "      <td>Velorama.net</td>\n",
       "      <td>Была у меня идея и желание сделать сервис для ...</td>\n",
       "      <td>0</td>\n",
       "    </tr>\n",
       "    <tr>\n",
       "      <th>3</th>\n",
       "      <td>Нужен ли RSS народу?</td>\n",
       "      <td>Всем привет.\\nНаверняка если вам понравился ин...</td>\n",
       "      <td>0</td>\n",
       "    </tr>\n",
       "    <tr>\n",
       "      <th>4</th>\n",
       "      <td>Реферальная программа — нужен совет</td>\n",
       "      <td>Хотим реализовать реферальную программу для са...</td>\n",
       "      <td>0</td>\n",
       "    </tr>\n",
       "    <tr>\n",
       "      <th>...</th>\n",
       "      <td>...</td>\n",
       "      <td>...</td>\n",
       "      <td>...</td>\n",
       "    </tr>\n",
       "    <tr>\n",
       "      <th>61385</th>\n",
       "      <td>Как оптимизировать полосу пропускания в сетях ...</td>\n",
       "      <td>В блоге 45 Drives вышел достаточно интересный ...</td>\n",
       "      <td>1</td>\n",
       "    </tr>\n",
       "    <tr>\n",
       "      <th>61386</th>\n",
       "      <td>Моя работа на конкурс Mail.Ru</td>\n",
       "      <td>Сегодня в блоге Mail.ru были опубликованы резу...</td>\n",
       "      <td>1</td>\n",
       "    </tr>\n",
       "    <tr>\n",
       "      <th>61387</th>\n",
       "      <td>Обзор Sphero BB-8, робота из «Звёздных войн»</td>\n",
       "      <td>Наверное, с ноября прошлого года все уже успел...</td>\n",
       "      <td>1</td>\n",
       "    </tr>\n",
       "    <tr>\n",
       "      <th>61388</th>\n",
       "      <td>Старый код: почему он такой</td>\n",
       "      <td>Большинство из разработчиков рано или поздно с...</td>\n",
       "      <td>1</td>\n",
       "    </tr>\n",
       "    <tr>\n",
       "      <th>61389</th>\n",
       "      <td>Простые советы: как стать успешным фрилансером</td>\n",
       "      <td>Я работаю в области графического дизайна и зан...</td>\n",
       "      <td>1</td>\n",
       "    </tr>\n",
       "  </tbody>\n",
       "</table>\n",
       "<p>122780 rows × 3 columns</p>\n",
       "</div>"
      ],
      "text/plain": [
       "                                                   title  \\\n",
       "0                                    Пока Sape отдыхает…   \n",
       "1      В Википедии уже 300 000 статей. Всех поздравля...   \n",
       "2                                           Velorama.net   \n",
       "3                                   Нужен ли RSS народу?   \n",
       "4                    Реферальная программа — нужен совет   \n",
       "...                                                  ...   \n",
       "61385  Как оптимизировать полосу пропускания в сетях ...   \n",
       "61386                      Моя работа на конкурс Mail.Ru   \n",
       "61387       Обзор Sphero BB-8, робота из «Звёздных войн»   \n",
       "61388                        Старый код: почему он такой   \n",
       "61389     Простые советы: как стать успешным фрилансером   \n",
       "\n",
       "                                                 summary  target  \n",
       "0      Пока sape обновляла ПО и вводила новую систему...       0  \n",
       "1      Количество статей в Русской Википедии перевали...       0  \n",
       "2      Была у меня идея и желание сделать сервис для ...       0  \n",
       "3      Всем привет.\\nНаверняка если вам понравился ин...       0  \n",
       "4      Хотим реализовать реферальную программу для са...       0  \n",
       "...                                                  ...     ...  \n",
       "61385  В блоге 45 Drives вышел достаточно интересный ...       1  \n",
       "61386  Сегодня в блоге Mail.ru были опубликованы резу...       1  \n",
       "61387  Наверное, с ноября прошлого года все уже успел...       1  \n",
       "61388  Большинство из разработчиков рано или поздно с...       1  \n",
       "61389  Я работаю в области графического дизайна и зан...       1  \n",
       "\n",
       "[122780 rows x 3 columns]"
      ]
     },
     "execution_count": 130,
     "metadata": {},
     "output_type": "execute_result"
    }
   ],
   "source": [
    "df01"
   ]
  },
  {
   "cell_type": "code",
   "execution_count": 131,
   "metadata": {},
   "outputs": [],
   "source": [
    "df01 = df01.sample(frac=1)"
   ]
  },
  {
   "cell_type": "code",
   "execution_count": 132,
   "metadata": {},
   "outputs": [],
   "source": [
    "df01.reset_index(drop=True, inplace=True)"
   ]
  },
  {
   "cell_type": "code",
   "execution_count": 133,
   "metadata": {},
   "outputs": [],
   "source": [
    "df01.to_csv('textcat_train_data.csv')"
   ]
  },
  {
   "cell_type": "code",
   "execution_count": 134,
   "metadata": {},
   "outputs": [
    {
     "data": {
      "text/html": [
       "<div>\n",
       "<style scoped>\n",
       "    .dataframe tbody tr th:only-of-type {\n",
       "        vertical-align: middle;\n",
       "    }\n",
       "\n",
       "    .dataframe tbody tr th {\n",
       "        vertical-align: top;\n",
       "    }\n",
       "\n",
       "    .dataframe thead th {\n",
       "        text-align: right;\n",
       "    }\n",
       "</style>\n",
       "<table border=\"1\" class=\"dataframe\">\n",
       "  <thead>\n",
       "    <tr style=\"text-align: right;\">\n",
       "      <th></th>\n",
       "      <th>title</th>\n",
       "      <th>summary</th>\n",
       "      <th>target</th>\n",
       "    </tr>\n",
       "  </thead>\n",
       "  <tbody>\n",
       "    <tr>\n",
       "      <th>0</th>\n",
       "      <td>Немного подробностей про Class Based Views, ч.3</td>\n",
       "      <td>Приветствую вас вновь, дорогие читатели! Публи...</td>\n",
       "      <td>1</td>\n",
       "    </tr>\n",
       "    <tr>\n",
       "      <th>1</th>\n",
       "      <td>Шаблон интерфейса для «умного дома» на Ардуино</td>\n",
       "      <td>Здравствуйте. Целью написания данной статьи яв...</td>\n",
       "      <td>1</td>\n",
       "    </tr>\n",
       "    <tr>\n",
       "      <th>2</th>\n",
       "      <td>Жизнь после ICO: как сейчас дела у «Полибиуса»</td>\n",
       "      <td>5 июля закончилось ICO Polybius, сразу вошедше...</td>\n",
       "      <td>1</td>\n",
       "    </tr>\n",
       "    <tr>\n",
       "      <th>3</th>\n",
       "      <td>Роботы-пылесосы iClebo Arte и Neato XV-21 – ср...</td>\n",
       "      <td>Как любитель любого рода автоматизации и автом...</td>\n",
       "      <td>1</td>\n",
       "    </tr>\n",
       "    <tr>\n",
       "      <th>4</th>\n",
       "      <td>CSS в AN HTTPD</td>\n",
       "      <td>AN HTTPD показывает страницу ошибки в случае,\\...</td>\n",
       "      <td>0</td>\n",
       "    </tr>\n",
       "    <tr>\n",
       "      <th>...</th>\n",
       "      <td>...</td>\n",
       "      <td>...</td>\n",
       "      <td>...</td>\n",
       "    </tr>\n",
       "    <tr>\n",
       "      <th>122775</th>\n",
       "      <td>Флибуста заблокирована за «451 градус по Фарен...</td>\n",
       "      <td>– А вы когда-нибудь читаете книги, которые сжи...</td>\n",
       "      <td>1</td>\n",
       "    </tr>\n",
       "    <tr>\n",
       "      <th>122776</th>\n",
       "      <td>«Це невідворотна еволюція суспільства». Чому н...</td>\n",
       "      <td>Український айтішний офшор — до нескінченності...</td>\n",
       "      <td>1</td>\n",
       "    </tr>\n",
       "    <tr>\n",
       "      <th>122777</th>\n",
       "      <td>Анти-Сервисный центр Сервисфон</td>\n",
       "      <td>Хочу предупредить людей, дабы не наткнулись на...</td>\n",
       "      <td>0</td>\n",
       "    </tr>\n",
       "    <tr>\n",
       "      <th>122778</th>\n",
       "      <td>Персональные данные и закон</td>\n",
       "      <td>Возникла необходимость прочитать лекцию по «пе...</td>\n",
       "      <td>0</td>\n",
       "    </tr>\n",
       "    <tr>\n",
       "      <th>122779</th>\n",
       "      <td>Ошибки стартапов. Зачем нужен HR бренд</td>\n",
       "      <td>Конечно, вы должны отвечать на сообщения в 9 в...</td>\n",
       "      <td>0</td>\n",
       "    </tr>\n",
       "  </tbody>\n",
       "</table>\n",
       "<p>122780 rows × 3 columns</p>\n",
       "</div>"
      ],
      "text/plain": [
       "                                                    title  \\\n",
       "0         Немного подробностей про Class Based Views, ч.3   \n",
       "1          Шаблон интерфейса для «умного дома» на Ардуино   \n",
       "2          Жизнь после ICO: как сейчас дела у «Полибиуса»   \n",
       "3       Роботы-пылесосы iClebo Arte и Neato XV-21 – ср...   \n",
       "4                                          CSS в AN HTTPD   \n",
       "...                                                   ...   \n",
       "122775  Флибуста заблокирована за «451 градус по Фарен...   \n",
       "122776  «Це невідворотна еволюція суспільства». Чому н...   \n",
       "122777                     Анти-Сервисный центр Сервисфон   \n",
       "122778                        Персональные данные и закон   \n",
       "122779             Ошибки стартапов. Зачем нужен HR бренд   \n",
       "\n",
       "                                                  summary  target  \n",
       "0       Приветствую вас вновь, дорогие читатели! Публи...       1  \n",
       "1       Здравствуйте. Целью написания данной статьи яв...       1  \n",
       "2       5 июля закончилось ICO Polybius, сразу вошедше...       1  \n",
       "3       Как любитель любого рода автоматизации и автом...       1  \n",
       "4       AN HTTPD показывает страницу ошибки в случае,\\...       0  \n",
       "...                                                   ...     ...  \n",
       "122775  – А вы когда-нибудь читаете книги, которые сжи...       1  \n",
       "122776  Український айтішний офшор — до нескінченності...       1  \n",
       "122777  Хочу предупредить людей, дабы не наткнулись на...       0  \n",
       "122778  Возникла необходимость прочитать лекцию по «пе...       0  \n",
       "122779  Конечно, вы должны отвечать на сообщения в 9 в...       0  \n",
       "\n",
       "[122780 rows x 3 columns]"
      ]
     },
     "execution_count": 134,
     "metadata": {},
     "output_type": "execute_result"
    }
   ],
   "source": [
    "df01"
   ]
  },
  {
   "cell_type": "code",
   "execution_count": 123,
   "metadata": {},
   "outputs": [],
   "source": []
  },
  {
   "cell_type": "code",
   "execution_count": null,
   "metadata": {},
   "outputs": [],
   "source": []
  }
 ],
 "metadata": {
  "kernelspec": {
   "display_name": "Python 3",
   "language": "python",
   "name": "python3"
  },
  "language_info": {
   "codemirror_mode": {
    "name": "ipython",
    "version": 3
   },
   "file_extension": ".py",
   "mimetype": "text/x-python",
   "name": "python",
   "nbconvert_exporter": "python",
   "pygments_lexer": "ipython3",
   "version": "3.8.5"
  }
 },
 "nbformat": 4,
 "nbformat_minor": 4
}
