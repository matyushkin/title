{
 "cells": [
  {
   "cell_type": "markdown",
   "id": "3935d2a8-0e8a-4a3a-a2fd-a036eb6ae5ba",
   "metadata": {},
   "source": [
    "# Test models"
   ]
  },
  {
   "cell_type": "markdown",
   "id": "28f4c0ac-9a0b-46eb-ac55-50aa45497359",
   "metadata": {},
   "source": [
    "## Test scoring model"
   ]
  },
  {
   "cell_type": "code",
   "execution_count": 1,
   "id": "abc35e91-d567-493e-8fb0-bea0922021c4",
   "metadata": {},
   "outputs": [
    {
     "name": "stderr",
     "output_type": "stream",
     "text": [
      "<ipython-input-1-89aa33382ac8>:9: TqdmDeprecationWarning: This function will be removed in tqdm==5.0.0\n",
      "Please use `tqdm.notebook.tqdm` instead of `tqdm.tqdm_notebook`\n",
      "  tqdm_notebook().pandas()\n"
     ]
    },
    {
     "data": {
      "application/vnd.jupyter.widget-view+json": {
       "model_id": "ced4efd5d5da4ba68645cb3ffa2d9407",
       "version_major": 2,
       "version_minor": 0
      },
      "text/plain": [
       "HBox(children=(HTML(value=''), FloatProgress(value=1.0, bar_style='info', layout=Layout(width='20px'), max=1.0…"
      ]
     },
     "metadata": {},
     "output_type": "display_data"
    },
    {
     "name": "stdout",
     "output_type": "stream",
     "text": [
      "\n"
     ]
    }
   ],
   "source": [
    "import os\n",
    "os.environ['CUDA_LAUNCH_BLOCKING'] = \"1\"\n",
    "\n",
    "import pickle\n",
    "import numpy as np\n",
    "import pandas as pd\n",
    "\n",
    "from tqdm import tqdm, tqdm_notebook\n",
    "tqdm_notebook().pandas()\n",
    "\n",
    "from sklearn.model_selection import train_test_split\n",
    "from sklearn.metrics import precision_recall_fscore_support\n",
    "\n",
    "import torch\n",
    "from transformers import BertTokenizer\n",
    "from transformers import BertForSequenceClassification\n",
    "\n",
    "data_path='../../DATASETS/IT_TEXTS'\n",
    "\n",
    "Xy = pd.read_feather(f'{data_path}/PREPROCESSING/Xy.feather')\n",
    "Xy.fillna('', inplace=True)\n",
    "#X, y = Xy[['title', 'summary']], Xy['class']\n",
    "#del Xy\n",
    "#\n",
    "train, test = train_test_split(Xy, test_size=.2, random_state=0)"
   ]
  },
  {
   "cell_type": "code",
   "execution_count": 30,
   "id": "9014885c-3da4-4cb1-aa91-23612c96589c",
   "metadata": {},
   "outputs": [],
   "source": [
    "tokenizer = BertTokenizer.from_pretrained('DeepPavlov/rubert-base-cased')\n",
    "model = BertForSequenceClassification.from_pretrained(f'{data_path}/MODELS/checkpoint-80000')\n",
    "\n",
    "max_length = 96\n",
    "\n",
    "def classificate(x):\n",
    "    t, s = x.title, x.summary\n",
    "    tokens = tokenizer.encode_plus(t, s,\n",
    "                                   truncation=True,\n",
    "                                   padding=True,\n",
    "                                   max_length=max_length,\n",
    "                                   return_tensors=\"pt\")\n",
    "    classification_logits = model(**tokens)[0]\n",
    "    results = torch.softmax(classification_logits, dim=1).tolist()[0]\n",
    "    return results[1]"
   ]
  },
  {
   "cell_type": "code",
   "execution_count": 31,
   "id": "e0a247ad-82f1-45e1-9a5d-ede41ea50199",
   "metadata": {},
   "outputs": [
    {
     "data": {
      "application/vnd.jupyter.widget-view+json": {
       "model_id": "3003d980441a4daea5211ecba45cbe42",
       "version_major": 2,
       "version_minor": 0
      },
      "text/plain": [
       "HBox(children=(HTML(value=''), FloatProgress(value=0.0, max=1000.0), HTML(value='')))"
      ]
     },
     "metadata": {},
     "output_type": "display_data"
    },
    {
     "name": "stdout",
     "output_type": "stream",
     "text": [
      "\n"
     ]
    },
    {
     "name": "stderr",
     "output_type": "stream",
     "text": [
      "<ipython-input-31-2b1f06663c34>:2: SettingWithCopyWarning: \n",
      "A value is trying to be set on a copy of a slice from a DataFrame.\n",
      "Try using .loc[row_indexer,col_indexer] = value instead\n",
      "\n",
      "See the caveats in the documentation: https://pandas.pydata.org/pandas-docs/stable/user_guide/indexing.html#returning-a-view-versus-a-copy\n",
      "  _['score'] = _.progress_apply(classificate, axis=1)\n"
     ]
    }
   ],
   "source": [
    "_ = test[:1000]\n",
    "_['score'] = _.progress_apply(classificate, axis=1)"
   ]
  },
  {
   "cell_type": "code",
   "execution_count": 32,
   "id": "f21cb4f1-1682-4968-b636-02aba18b7f85",
   "metadata": {},
   "outputs": [
    {
     "name": "stderr",
     "output_type": "stream",
     "text": [
      "<ipython-input-32-dbc860c0d87d>:1: SettingWithCopyWarning: \n",
      "A value is trying to be set on a copy of a slice from a DataFrame.\n",
      "Try using .loc[row_indexer,col_indexer] = value instead\n",
      "\n",
      "See the caveats in the documentation: https://pandas.pydata.org/pandas-docs/stable/user_guide/indexing.html#returning-a-view-versus-a-copy\n",
      "  _['round_score'] = _['score'].apply(round)\n"
     ]
    }
   ],
   "source": [
    "_['round_score'] = _['score'].apply(round)"
   ]
  },
  {
   "cell_type": "code",
   "execution_count": 33,
   "id": "099e7c31-c20c-4eff-9657-f92aba6ecea0",
   "metadata": {},
   "outputs": [
    {
     "data": {
      "text/plain": [
       "(0.6571246164301748, 0.6435924943067397, 0.6495388324075044, None)"
      ]
     },
     "execution_count": 33,
     "metadata": {},
     "output_type": "execute_result"
    }
   ],
   "source": [
    "precision_recall_fscore_support(_['class'], _['round_score'], average='macro')"
   ]
  },
  {
   "cell_type": "markdown",
   "id": "eea2a890-c23e-440b-bdbe-4f5318cd1d23",
   "metadata": {},
   "source": [
    "checkpoint | F1\n",
    "---|---\n",
    "10000 | 0.674\n",
    "13000 | 0.691\n",
    "29000 | 0.682\n",
    "50000 | 0.675\n",
    "60000 | 0.675\n",
    "64000 | 0.668\n",
    "66000 | 0.672\n",
    "68000 | 0.667\n",
    "70000 | 0.693\n",
    "80000 | 0.649"
   ]
  },
  {
   "cell_type": "code",
   "execution_count": null,
   "id": "5a6c4702-4c7b-4f84-adfa-91d771e3edf1",
   "metadata": {},
   "outputs": [],
   "source": []
  }
 ],
 "metadata": {
  "kernelspec": {
   "display_name": "Python 3",
   "language": "python",
   "name": "python3"
  },
  "language_info": {
   "codemirror_mode": {
    "name": "ipython",
    "version": 3
   },
   "file_extension": ".py",
   "mimetype": "text/x-python",
   "name": "python",
   "nbconvert_exporter": "python",
   "pygments_lexer": "ipython3",
   "version": "3.9.1"
  }
 },
 "nbformat": 4,
 "nbformat_minor": 5
}
