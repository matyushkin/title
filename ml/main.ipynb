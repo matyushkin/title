{
 "cells": [
  {
   "cell_type": "markdown",
   "metadata": {},
   "source": [
    "# Текущий план\n",
    "- Посчитать теги с учетом тега \"VERSION\"\n",
    "- Сделать вывод всех необходимых строк для использования в HTML"
   ]
  },
  {
   "cell_type": "markdown",
   "metadata": {},
   "source": [
    "# Описание задачи\n",
    "\n",
    "**Цель**: сделать веб-приложение, помогающее авторам и редакторам IT-публикаций подбирать к ним удачные заголовки.\n",
    "\n",
    "**Задача-минимум**: создать сервис, который учит пользователя (автора, редактора) использовать разумные подходы для составления говорящего заголовка. По такому заголовку читатель понимает, какую пользу он получит от прочтения статьи.\n",
    "\n",
    "**Идея MVP**. Проблему можно сформулировать в виде задачи распознавания именованных сущностей (англ. [Named Entity Recognition](https://en.wikipedia.org/wiki/Named-entity_recognition), NER). Распознанные именованные сущности можно далее вмесе с токенизированным текстом использовать для выставления условного балла от 0 до 10, позволяющего автору быстро оценить результат.\n",
    "\n",
    "**Задача-минимум**: веб-страница, на которой пользователь вводит строку заголовка, а в ответ получает:\n",
    "1) оценка заголовка,\n",
    "2) найденные полезные индикаторы\n",
    "3) подсказки, что далее делать с заголовком.\n",
    "\n",
    "**Задача-максимум** (пока не решаем): генерация вариантов более качественных заголовков по тексту публикации или сочетанию чернового заголовка и краткого содержания.\n"
   ]
  },
  {
   "cell_type": "markdown",
   "metadata": {},
   "source": [
    "# Инструментарий\n",
    "- Python 3\n",
    "- NLP-библиотека [spaCy 3.0](https://spacy.io/). Мы выбрали `spacy` так как это стабильная библиотека, ориентированная на конечное использование в коммерческих приложениях. Однако 3-я версия не очень хорошо зарекомендовала для себя для классификации большого набора данных, а transformers оказалась слишком долгой для обучения и медленной для задачи веб-сервиса. Поэтому мы использовали быстрый CatBoost.\n",
    "- ML-библиотека CatBoost (использовалась для оценки возможности построения ML-модели, на деле не применяется).\n",
    "\n",
    "Для разметки эталонного набора именованных сущностей использовалось [Label Studio](https://labelstud.io/). Вручную было размечено 3000 заголовков, далее эти результаты использовались для полуавтоматической разметки. Для разметки данных мы использовали стандартный формат [CoNLL format](https://www.signll.org/conll/) ([StackOverflow discussion](https://stackoverflow.com/questions/27416164/what-is-conll-data-format))."
   ]
  },
  {
   "cell_type": "code",
   "execution_count": 3,
   "metadata": {},
   "outputs": [],
   "source": [
    "from subprocess import PIPE, run\n",
    "from itertools import combinations\n",
    "import json\n",
    "\n",
    "# библиотеки обработки данных\n",
    "import numpy as np\n",
    "import pandas as pd\n",
    "from scipy import stats\n",
    "\n",
    "# прогрессбар\n",
    "from tqdm.auto import tqdm\n",
    "tqdm.pandas()\n",
    "\n",
    "# natural language processing\n",
    "import spacy\n",
    "from spacy import displacy\n",
    "\n",
    "# ml models\n",
    "from sklearn.model_selection import train_test_split\n",
    "from sklearn.pipeline import make_pipeline\n",
    "from sklearn.preprocessing import StandardScaler, minmax_scale, quantile_transform\n",
    "from sklearn.ensemble import RandomForestRegressor\n",
    "from sklearn.metrics import mean_squared_error as MSE\n",
    "\n",
    "from catboost import Pool, CatBoostRegressor\n",
    "\n",
    "# визуализация\n",
    "import matplotlib.pyplot as plt\n",
    "import seaborn as sns\n",
    "\n",
    "# фильтрация некритичных предупреждений pandas b jupyter\n",
    "import warnings\n",
    "from pandas.core.common import SettingWithCopyWarning\n",
    "warnings.simplefilter(action=\"ignore\",\n",
    "                      category=SettingWithCopyWarning)\n",
    "\n",
    "DATASETS_PATH = '../../DATASETS/title'\n",
    "\n",
    "%matplotlib inline"
   ]
  },
  {
   "cell_type": "markdown",
   "metadata": {},
   "source": [
    "# 1. Подготовка текстового корпуса\n",
    "\n",
    "## 1.1. Изучим датасет, содержащий заголовки и число просмотров\n",
    "\n",
    "С помощью веб-парсинга мы собрали большое количество данных в один общий датасет. "
   ]
  },
  {
   "cell_type": "code",
   "execution_count": 3,
   "metadata": {},
   "outputs": [
    {
     "data": {
      "text/html": [
       "<div>\n",
       "<style scoped>\n",
       "    .dataframe tbody tr th:only-of-type {\n",
       "        vertical-align: middle;\n",
       "    }\n",
       "\n",
       "    .dataframe tbody tr th {\n",
       "        vertical-align: top;\n",
       "    }\n",
       "\n",
       "    .dataframe thead th {\n",
       "        text-align: right;\n",
       "    }\n",
       "</style>\n",
       "<table border=\"1\" class=\"dataframe\">\n",
       "  <thead>\n",
       "    <tr style=\"text-align: right;\">\n",
       "      <th></th>\n",
       "      <th>title</th>\n",
       "      <th>summary</th>\n",
       "      <th>views_num</th>\n",
       "      <th>post_time</th>\n",
       "      <th>parse_time</th>\n",
       "      <th>likes_num</th>\n",
       "      <th>favs_num</th>\n",
       "      <th>comments_num</th>\n",
       "      <th>source</th>\n",
       "      <th>fulltext_saved</th>\n",
       "    </tr>\n",
       "    <tr>\n",
       "      <th>url</th>\n",
       "      <th></th>\n",
       "      <th></th>\n",
       "      <th></th>\n",
       "      <th></th>\n",
       "      <th></th>\n",
       "      <th></th>\n",
       "      <th></th>\n",
       "      <th></th>\n",
       "      <th></th>\n",
       "      <th></th>\n",
       "    </tr>\n",
       "  </thead>\n",
       "  <tbody>\n",
       "    <tr>\n",
       "      <th>https://tproger.ru/articles/7-prakticheskih-zadanij-s-sobesedovanija-na-poziciju-junior-java-developer/</th>\n",
       "      <td>7 практических заданий с собеседования на пози...</td>\n",
       "      <td>Для начинающего разработчика очень важно не то...</td>\n",
       "      <td>8642</td>\n",
       "      <td>2021-03-01 09:05:11</td>\n",
       "      <td>2021-04-19</td>\n",
       "      <td>13</td>\n",
       "      <td>10</td>\n",
       "      <td>10</td>\n",
       "      <td>tproger</td>\n",
       "      <td>True</td>\n",
       "    </tr>\n",
       "    <tr>\n",
       "      <th>https://tproger.ru/quiz/test-chto-mozhet-jeta-nejroset/</th>\n",
       "      <td>Тест: что реально, а что создала нейросеть?</td>\n",
       "      <td>Сегодня нейронные сети используются в сельском...</td>\n",
       "      <td>4967</td>\n",
       "      <td>2021-02-26 19:39:50</td>\n",
       "      <td>2021-04-19</td>\n",
       "      <td>2</td>\n",
       "      <td>1</td>\n",
       "      <td>0</td>\n",
       "      <td>tproger</td>\n",
       "      <td>True</td>\n",
       "    </tr>\n",
       "    <tr>\n",
       "      <th>https://tproger.ru/articles/kak-najti-dejstvitelno-horoshij-kurs-po-razrabotke-8-shagov-na-puti-k-pravilnomu-vyboru/</th>\n",
       "      <td>Как найти действительно хороший курс по разраб...</td>\n",
       "      <td>Сразу хочется пошутить и предложить разработат...</td>\n",
       "      <td>1291</td>\n",
       "      <td>2021-02-26 17:29:00</td>\n",
       "      <td>2021-04-19</td>\n",
       "      <td>1</td>\n",
       "      <td>4</td>\n",
       "      <td>1</td>\n",
       "      <td>tproger</td>\n",
       "      <td>True</td>\n",
       "    </tr>\n",
       "    <tr>\n",
       "      <th>https://tproger.ru/articles/blackbox-skanery-v-processe-ocenki-bezopasnosti-prilozhenija/</th>\n",
       "      <td>Blackbox-сканеры в процессе оценки безопасност...</td>\n",
       "      <td>Профиль задач quality engineer (QE) достаточно...</td>\n",
       "      <td>233</td>\n",
       "      <td>2021-02-26 15:16:46</td>\n",
       "      <td>2021-04-19</td>\n",
       "      <td>0</td>\n",
       "      <td>1</td>\n",
       "      <td>0</td>\n",
       "      <td>tproger</td>\n",
       "      <td>True</td>\n",
       "    </tr>\n",
       "    <tr>\n",
       "      <th>https://tproger.ru/articles/instrumenty-upravlenija-komandoj-razrabotki-na-udalenke-kak-ne-meshat-rabotat/</th>\n",
       "      <td>Инструменты управления командой разработки на ...</td>\n",
       "      <td>В КРОК геораспределенная структура офисов разр...</td>\n",
       "      <td>589</td>\n",
       "      <td>2021-02-25 18:56:54</td>\n",
       "      <td>2021-04-19</td>\n",
       "      <td>3</td>\n",
       "      <td>3</td>\n",
       "      <td>0</td>\n",
       "      <td>tproger</td>\n",
       "      <td>True</td>\n",
       "    </tr>\n",
       "  </tbody>\n",
       "</table>\n",
       "</div>"
      ],
      "text/plain": [
       "                                                                                                title  \\\n",
       "url                                                                                                     \n",
       "https://tproger.ru/articles/7-prakticheskih-zad...  7 практических заданий с собеседования на пози...   \n",
       "https://tproger.ru/quiz/test-chto-mozhet-jeta-n...        Тест: что реально, а что создала нейросеть?   \n",
       "https://tproger.ru/articles/kak-najti-dejstvite...  Как найти действительно хороший курс по разраб...   \n",
       "https://tproger.ru/articles/blackbox-skanery-v-...  Blackbox-сканеры в процессе оценки безопасност...   \n",
       "https://tproger.ru/articles/instrumenty-upravle...  Инструменты управления командой разработки на ...   \n",
       "\n",
       "                                                                                              summary  \\\n",
       "url                                                                                                     \n",
       "https://tproger.ru/articles/7-prakticheskih-zad...  Для начинающего разработчика очень важно не то...   \n",
       "https://tproger.ru/quiz/test-chto-mozhet-jeta-n...  Сегодня нейронные сети используются в сельском...   \n",
       "https://tproger.ru/articles/kak-najti-dejstvite...  Сразу хочется пошутить и предложить разработат...   \n",
       "https://tproger.ru/articles/blackbox-skanery-v-...  Профиль задач quality engineer (QE) достаточно...   \n",
       "https://tproger.ru/articles/instrumenty-upravle...  В КРОК геораспределенная структура офисов разр...   \n",
       "\n",
       "                                                    views_num  \\\n",
       "url                                                             \n",
       "https://tproger.ru/articles/7-prakticheskih-zad...       8642   \n",
       "https://tproger.ru/quiz/test-chto-mozhet-jeta-n...       4967   \n",
       "https://tproger.ru/articles/kak-najti-dejstvite...       1291   \n",
       "https://tproger.ru/articles/blackbox-skanery-v-...        233   \n",
       "https://tproger.ru/articles/instrumenty-upravle...        589   \n",
       "\n",
       "                                                             post_time  \\\n",
       "url                                                                      \n",
       "https://tproger.ru/articles/7-prakticheskih-zad... 2021-03-01 09:05:11   \n",
       "https://tproger.ru/quiz/test-chto-mozhet-jeta-n... 2021-02-26 19:39:50   \n",
       "https://tproger.ru/articles/kak-najti-dejstvite... 2021-02-26 17:29:00   \n",
       "https://tproger.ru/articles/blackbox-skanery-v-... 2021-02-26 15:16:46   \n",
       "https://tproger.ru/articles/instrumenty-upravle... 2021-02-25 18:56:54   \n",
       "\n",
       "                                                   parse_time  likes_num  \\\n",
       "url                                                                        \n",
       "https://tproger.ru/articles/7-prakticheskih-zad... 2021-04-19         13   \n",
       "https://tproger.ru/quiz/test-chto-mozhet-jeta-n... 2021-04-19          2   \n",
       "https://tproger.ru/articles/kak-najti-dejstvite... 2021-04-19          1   \n",
       "https://tproger.ru/articles/blackbox-skanery-v-... 2021-04-19          0   \n",
       "https://tproger.ru/articles/instrumenty-upravle... 2021-04-19          3   \n",
       "\n",
       "                                                    favs_num  comments_num  \\\n",
       "url                                                                          \n",
       "https://tproger.ru/articles/7-prakticheskih-zad...        10            10   \n",
       "https://tproger.ru/quiz/test-chto-mozhet-jeta-n...         1             0   \n",
       "https://tproger.ru/articles/kak-najti-dejstvite...         4             1   \n",
       "https://tproger.ru/articles/blackbox-skanery-v-...         1             0   \n",
       "https://tproger.ru/articles/instrumenty-upravle...         3             0   \n",
       "\n",
       "                                                     source  fulltext_saved  \n",
       "url                                                                          \n",
       "https://tproger.ru/articles/7-prakticheskih-zad...  tproger            True  \n",
       "https://tproger.ru/quiz/test-chto-mozhet-jeta-n...  tproger            True  \n",
       "https://tproger.ru/articles/kak-najti-dejstvite...  tproger            True  \n",
       "https://tproger.ru/articles/blackbox-skanery-v-...  tproger            True  \n",
       "https://tproger.ru/articles/instrumenty-upravle...  tproger            True  "
      ]
     },
     "execution_count": 3,
     "metadata": {},
     "output_type": "execute_result"
    }
   ],
   "source": [
    "def read_df():\n",
    "    df = pd.read_feather(f'{DATASETS_PATH}/total.feather')    \n",
    "    df = df.set_index('url')  # feather doesn't work with str indices\n",
    "    \n",
    "    # parse timing cols ad datetime\n",
    "    for col in ('post_time', 'parse_time'):\n",
    "        df[col] = pd.to_datetime(df[col])\n",
    "    \n",
    "    return df\n",
    "\n",
    "df = read_df()\n",
    "df.head()"
   ]
  },
  {
   "cell_type": "code",
   "execution_count": 4,
   "metadata": {},
   "outputs": [
    {
     "name": "stdout",
     "output_type": "stream",
     "text": [
      "<class 'pandas.core.frame.DataFrame'>\n",
      "Index: 323265 entries, https://tproger.ru/articles/7-prakticheskih-zadanij-s-sobesedovanija-na-poziciju-junior-java-developer/ to https://dev.by/news/besarab-chto-chitat\n",
      "Data columns (total 10 columns):\n",
      " #   Column          Non-Null Count   Dtype         \n",
      "---  ------          --------------   -----         \n",
      " 0   title           323265 non-null  object        \n",
      " 1   summary         322943 non-null  object        \n",
      " 2   views_num       308037 non-null  Int32         \n",
      " 3   post_time       322643 non-null  datetime64[ns]\n",
      " 4   parse_time      322756 non-null  datetime64[ns]\n",
      " 5   likes_num       217990 non-null  Int16         \n",
      " 6   favs_num        217990 non-null  Int16         \n",
      " 7   comments_num    316750 non-null  Int16         \n",
      " 8   source          323265 non-null  object        \n",
      " 9   fulltext_saved  323265 non-null  bool          \n",
      "dtypes: Int16(3), Int32(1), bool(1), datetime64[ns](2), object(3)\n",
      "memory usage: 19.4+ MB\n"
     ]
    }
   ],
   "source": [
    "df.info()"
   ]
  },
  {
   "cell_type": "markdown",
   "metadata": {},
   "source": [
    "Посмотрим на распределение статей по источникам:"
   ]
  },
  {
   "cell_type": "code",
   "execution_count": 5,
   "metadata": {},
   "outputs": [
    {
     "data": {
      "text/plain": [
       "habr            214949\n",
       "vc               46635\n",
       "xakep            36752\n",
       "devby            14717\n",
       "dou               5680\n",
       "proglib           1750\n",
       "tproger           1293\n",
       "tinkoff            656\n",
       "thecode            509\n",
       "digitalocean       324\n",
       "Name: source, dtype: int64"
      ]
     },
     "execution_count": 5,
     "metadata": {},
     "output_type": "execute_result"
    }
   ],
   "source": [
    "df.source.value_counts()"
   ]
  },
  {
   "cell_type": "markdown",
   "metadata": {},
   "source": [
    "## 1.2. ML-коррекция заниженного количества просмотров\n",
    "\n",
    "Количество просмотров на сайтах иногда значительно отстает от ожидаемого или не всегда рассчитывается правильно.\n",
    "\n",
    "Например, для новых статей или статей, изменивших статус публичности. Особенно это заметно, когда количество просмотров меньше количества лайков и закладок. Чтобы исправить такие значения, построим простую регрессионную модель на данных, которым мы можем доверять. Далее экстраполируем результат на «подозрительные» данные."
   ]
  },
  {
   "cell_type": "code",
   "execution_count": 6,
   "metadata": {},
   "outputs": [],
   "source": [
    "df['timedelta'] = (df.parse_time - df.post_time).apply(lambda x: x.total_seconds())*1e-6\n",
    "df_tmp = df[['likes_num', 'favs_num', 'comments_num', 'views_num', 'source', 'timedelta']].dropna()\n",
    "\n",
    "# for categorical data (source feature)\n",
    "df_tmp = pd.get_dummies(df_tmp)\n",
    "df_tmp['suspicious'] = [False]*df_tmp.shape[0]\n",
    "for col in ('likes', 'favs', 'comments'):\n",
    "    df_tmp['suspicious'] += df_tmp[f'{col}_num'] > 0.1*df_tmp['views_num']\n",
    "\n",
    "df_tmp_susp = df_tmp[df_tmp['suspicious'] == True]\n",
    "df_tmp = df_tmp[df_tmp['suspicious'] == False]\n",
    "\n",
    "df_tmp = df_tmp.drop(columns=['suspicious'])\n",
    "df_tmp_susp = df_tmp_susp.drop(columns=['suspicious'])\n",
    "\n",
    "y = df_tmp['views_num']\n",
    "X = df_tmp.drop(columns=['views_num'])\n",
    "reg = make_pipeline(StandardScaler(),\n",
    "                    RandomForestRegressor(n_jobs=20))\n",
    "reg.fit(X, y)\n",
    "df_tmp_susp['views_num'] = reg.predict(df_tmp_susp.drop(columns=['views_num']))\n",
    "df_tmp_susp['views_num'] = df_tmp_susp['views_num'].apply(round)\n",
    "df_tmp = pd.concat([df_tmp, df_tmp_susp])\n",
    "\n",
    "df.update(df_tmp)"
   ]
  },
  {
   "cell_type": "markdown",
   "metadata": {},
   "source": [
    "Теперь мы можем исключить данные, которые не содержат числа просмотров:"
   ]
  },
  {
   "cell_type": "code",
   "execution_count": 7,
   "metadata": {},
   "outputs": [],
   "source": [
    "df = df.dropna(subset=['views_num'])"
   ]
  },
  {
   "cell_type": "markdown",
   "metadata": {},
   "source": [
    "Далее мы не будем учитывать сайт, на котором размещена публикация, поэтому нормируем число просмотров для статей определенного источника на максимальное для каждого из них."
   ]
  },
  {
   "cell_type": "code",
   "execution_count": 8,
   "metadata": {},
   "outputs": [],
   "source": [
    "for s in df.source.unique():\n",
    "    cond = (df.source == s)\n",
    "    m = df.loc[cond].views_num.max()\n",
    "    df.loc[cond, 'views_num'] /= m"
   ]
  },
  {
   "cell_type": "markdown",
   "metadata": {},
   "source": [
    "## 1.3. Отбор признаков для работы\n",
    "\n",
    "**Число просмотров** — наша целевая переменная.\n",
    "\n",
    "**Время от публикации до парсинга**. Важной характеристикой публикации является то, когда она была опубликована. Тематики статей меняются, растет число людей с доступом в интернет. Со временем статьи с актуальными темами продолжают получать дочитывания, а наиболее новые статьи еще не набрали своего. В результате мы имеем следующее распределение просмотров относительно шкалы времени:"
   ]
  },
  {
   "cell_type": "code",
   "execution_count": 9,
   "metadata": {},
   "outputs": [
    {
     "data": {
      "text/plain": [
       "Text(0, 0.5, 'Число просмотров.')"
      ]
     },
     "execution_count": 9,
     "metadata": {},
     "output_type": "execute_result"
    },
    {
     "data": {
      "image/png": "[encoded data removed]",
      "text/plain": [
       "<Figure size 432x288 with 1 Axes>"
      ]
     },
     "metadata": {
      "needs_background": "light"
     },
     "output_type": "display_data"
    }
   ],
   "source": [
    "plt.scatter(-df.timedelta,\n",
    "            df.views_num,\n",
    "            s = 5,\n",
    "            marker='.')\n",
    "plt.xlabel('Время, усл. ед.')\n",
    "plt.ylabel('Число просмотров.')"
   ]
  },
  {
   "cell_type": "markdown",
   "metadata": {},
   "source": [
    "Для новых публикаций мы будем указывать нулевую отметку времени.\n",
    "\n",
    "В результате мы используем сами тексты заголовков, число просмотров и интервал времени, за который число просмотров было набрано:"
   ]
  },
  {
   "cell_type": "code",
   "execution_count": 14,
   "metadata": {},
   "outputs": [],
   "source": [
    "Xy = df[['timedelta', 'title', 'views_num']].reset_index(drop=True)\n",
    "Xy.views_num = Xy.views_num.fillna(0)"
   ]
  },
  {
   "cell_type": "markdown",
   "metadata": {},
   "source": [
    "## 1.4. Предобработка числовых данных"
   ]
  },
  {
   "cell_type": "markdown",
   "metadata": {},
   "source": [
    "С помощью z-оценки выкинем явные выбросы (оказалось, что это примерно 5 тыс. статей)."
   ]
  },
  {
   "cell_type": "code",
   "execution_count": 15,
   "metadata": {},
   "outputs": [
    {
     "name": "stdout",
     "output_type": "stream",
     "text": [
      "(306402, 3)\n"
     ]
    },
    {
     "data": {
      "image/png": "[encoded data removed]",
      "text/plain": [
       "<Figure size 432x288 with 1 Axes>"
      ]
     },
     "metadata": {
      "needs_background": "light"
     },
     "output_type": "display_data"
    }
   ],
   "source": [
    "Xy['z_score'] = stats.zscore(Xy['views_num'])\n",
    "Xy = Xy.loc[Xy['z_score'].abs()<=3]\n",
    "Xy = Xy.drop(columns=['z_score'])\n",
    "Xy.reset_index(drop=True, inplace=True)\n",
    "print(Xy.shape)\n",
    "\n",
    "plt.scatter(-Xy.timedelta,\n",
    "            Xy.views_num,\n",
    "            s = 0.01,\n",
    "            marker='.')\n",
    "plt.xlabel('Время, усл. ед.')\n",
    "plt.ylabel('Число просмотров.')\n",
    "plt.show()"
   ]
  },
  {
   "cell_type": "markdown",
   "metadata": {},
   "source": [
    "Гистограмма распределния числа просмотров: "
   ]
  },
  {
   "cell_type": "code",
   "execution_count": 16,
   "metadata": {},
   "outputs": [
    {
     "data": {
      "image/png": "[encoded data removed]",
      "text/plain": [
       "<Figure size 432x288 with 1 Axes>"
      ]
     },
     "metadata": {
      "needs_background": "light"
     },
     "output_type": "display_data"
    }
   ],
   "source": [
    "plt.hist(Xy.views_num, bins=50)\n",
    "plt.show()"
   ]
  },
  {
   "cell_type": "markdown",
   "metadata": {},
   "source": [
    "Кривая имеет предсказуемый характер, поэтому мы можем воспользоваться  преобразованием [Quantile Transform](https://scikit-learn.org/stable/modules/generated/sklearn.preprocessing.quantile_transform.html#sklearn.preprocessing.quantile_transform), чтобы трансформировать распределение к нормальному виду."
   ]
  },
  {
   "cell_type": "code",
   "execution_count": 17,
   "metadata": {},
   "outputs": [
    {
     "data": {
      "image/png": "[encoded data removed]",
      "text/plain": [
       "<Figure size 432x288 with 1 Axes>"
      ]
     },
     "metadata": {
      "needs_background": "light"
     },
     "output_type": "display_data"
    }
   ],
   "source": [
    "y = Xy.views_num.to_numpy().reshape(-1, 1)\n",
    "Xy['y'] = quantile_transform(y, output_distribution='normal')\n",
    "plt.hist(Xy['y'], bins=200)\n",
    "plt.show()"
   ]
  },
  {
   "cell_type": "markdown",
   "metadata": {},
   "source": [
    "Для переменной времени применим обычную нормировку по интервалу, чтобы данные лежали в диапазоне `[0, 1]`:"
   ]
  },
  {
   "cell_type": "code",
   "execution_count": 18,
   "metadata": {},
   "outputs": [
    {
     "data": {
      "image/png": "[encoded data removed]",
      "text/plain": [
       "<Figure size 432x288 with 1 Axes>"
      ]
     },
     "metadata": {
      "needs_background": "light"
     },
     "output_type": "display_data"
    }
   ],
   "source": [
    "Xy.timedelta = minmax_scale(Xy.timedelta)\n",
    "plt.hist(Xy.timedelta, bins=500)\n",
    "plt.show()"
   ]
  },
  {
   "cell_type": "markdown",
   "metadata": {},
   "source": [
    "# 2. Обучение модели распознавания именованных сущностей (модель NER)\n",
    "\n",
    "В качестве базовой модели `spacy` мы используем `ru_core_news_lg`. В ней уже имеются сущности `PER` (персоналий), организаций (`ORG`), географических локаций (`LOC`). Кроме имеющихся именованных сущностей мы добавили в разметку следующие категории и подкатегории:\n",
    "\n",
    "1. **Объект** `OBJ`. *О чём* эта статья.  Если заголовок состоит только из таких сущностей, значит перед нами что-то вроде статьи из словаря — объяснение сущности самого объекта. Примеры: \"LESS: программируемый язык стилей\", \"Composer — менеджер зависимостей для PHP\".\n",
    "2. **Аудитория** `AUD`. Для кого написан этот текст. Примеры индикаторов аудитории: \"для новичков, на Windows, профи, любой аккаунт, до 30 лет, русская версия\" Аудитория выражается и просто через \"я\" — мы сравниваем себя с другими людьми через наш общий или различный опыт. Наиболее читаемые статьи обращаются к аудитории новичков, но это не значит, что их читают только новички. \"Пайка для начинающих\", \"Hello World-проект на Flask\", \"Основы IP-телефонии\", \"Какой язык программирования стоит выучить пер\n",
    "вым?\".\n",
    "3. **Польза**. Какую проблему показывает или решает публикация. В чём ее профит?\n",
    "Польза может выражаться самыми разными способами:\n",
    "      + **Маркеры типа текста** `TYPE`: инструкция (\"как установить\", \"Шаблон базовой настройки маршрутизатора Cisco\"), определение (\"что такое... и с чем едят\"), новость (Новое в Java 8\"), личный опыт, сравнение объектов (\"X или Y\", \"Python vs R\") и т. д. По маркеру типа текста мы понимаем, с чем имеем дело.\n",
    "     + **Указание числа используемых источников или рассматриваемых объектов** `NUM`: \"10 лучших\", \"ТОП-3\".\n",
    "     + **Усилия и время, которые потратит читатель на саму статью или процесс** `EFFORT`: \"За 15 минут, за один вечер, за один год, краткое руководство, в 11 строчек кода\". Вполне возможно, что у человека достаточно времени, и он хочет детально во всём разобраться: \"Подробно о..., всё про...\". Главное, что вся нужная информация нашлась в одном месте.\n",
    "    + **Маркеры последовательного подхода, нового типа изложения** `STRUCT`. В интернете не хватает структурированной информации, люди любят когда рассказывают \"по порядку, детально, без воды\".\n",
    "    + **Предостережение об опасности или возможной ошибке** `DANGER`: \"Проблема в ... и ее их решение\", \"Взлом... от которого не спасёт\", \" \"X – ловушка для неопытных. Осторожно\".\n",
    "    + **Маркировка акта длинного повествования** `PART`. Указание части в заголовке подсказывает: перед нами часть большого текста. Хорошо работает следующий формат: \"Общее название группы технологий. Часть N. Название технологии.\"  Примеры: \"jQuery для начинающих. Часть 3. AJAX\". \"Bash-скрипты, часть 2: циклы\". \"Пишем игры на C++, Часть 1/3 — Написание мини-фреймворка\", \"Сети для самых маленьких. Часть шестая. Динамическая маршрутизация\".\n",
    "    + **Преимущество получаемое читателем**: бесплатно, своими руками, в домашних условиях\n",
    "4. **Источник движения** — в хороших статьях заложена история путешествия, они приводят читателя из пункта А в пункт Б. Саму историю расскажет статья, но полезно прочертить вектор с помощью глагола, или если придется к месту — искренней эмоции.\n",
    "    + **Побуждение к действию или само действие** `TODO`. Что мы будем делать в этой статье. \"Пишем программу...\", \"настройка, обзор, запуск, ремонт\". Примеры: \"Извлекаем золото из старой электроники\", \"Запуск старых игр на Windows\".\n",
    "    + **Эмоция** `EMO`. С эмоциями не стоит перебарщивать, но иногда сильная эмоция или выражение отношения — то, что нужно. \"Xудшее, что могло с нами случиться.\" \"Почему научиться программировать так чертовски тяжело?\". Помните: читатель не дурак, эмоции в заголовке работают только, если они неподдельные.\n",
    "\n",
    "Однако нужно помнить, что каким бы ни был заголовок, главное – сам текст и внимательное отношение к читателю."
   ]
  },
  {
   "cell_type": "code",
   "execution_count": 19,
   "metadata": {},
   "outputs": [],
   "source": [
    "def out(command):\n",
    "    '''Выводит данные '''\n",
    "    result = run(command, stdout=PIPE,\n",
    "                 stderr=PIPE, universal_newlines=True,\n",
    "                 shell=True)\n",
    "    return result.stdout\n",
    "\n",
    "\n",
    "try:\n",
    "    nlp = spacy.load(\"./nlp_model/model-best\")\n",
    "except OSError:\n",
    "    # если модель ещё не обучалась\n",
    "    # используем в качестве старта предобученную\n",
    "    import ru_core_news_lg\n",
    "    nlp = ru_core_news_lg.load()\n",
    "    print(out(\"spacy init fill-config ./nlp_model/base_config.cfg ./nlp_model/config.cfg\"))\n",
    "    print(out(\"spacy convert .nlp_model/train_data/title_ner.conll ./nlp_model/train_data/\"))\n",
    "    # это всего лишь прямой вызов из командной строки\n",
    "    !spacy train config.cfg --output ./nlp_model --paths.train ./nlp_model/train_data/title_ner.spacy --paths.dev ./nlp_model/train_data/title_ner.spacy"
   ]
  },
  {
   "cell_type": "markdown",
   "metadata": {},
   "source": [
    "На нескольких примерах проверим корректность поиска именованных сущностей:"
   ]
  },
  {
   "cell_type": "code",
   "execution_count": 182,
   "metadata": {},
   "outputs": [
    {
     "data": {
      "text/html": [
       "<span class=\"tex2jax_ignore\"><div class=\"entities\" style=\"line-height: 2.5; direction: ltr\">\n",
       "<mark class=\"entity\" style=\"background: #ddd; padding: 0.45em 0.6em; margin: 0 0.25em; line-height: 1; border-radius: 0.35em;\">\n",
       "    ТОП-3\n",
       "    <span style=\"font-size: 0.8em; font-weight: bold; line-height: 1; border-radius: 0.35em; vertical-align: middle; margin-left: 0.5rem\">NUM</span>\n",
       "</mark>\n",
       " \n",
       "<mark class=\"entity\" style=\"background: #ddd; padding: 0.45em 0.6em; margin: 0 0.25em; line-height: 1; border-radius: 0.35em;\">\n",
       "    книги о\n",
       "    <span style=\"font-size: 0.8em; font-weight: bold; line-height: 1; border-radius: 0.35em; vertical-align: middle; margin-left: 0.5rem\">TYPE</span>\n",
       "</mark>\n",
       " \n",
       "<mark class=\"entity\" style=\"background: #ddd; padding: 0.45em 0.6em; margin: 0 0.25em; line-height: 1; border-radius: 0.35em;\">\n",
       "    языке программирования\n",
       "    <span style=\"font-size: 0.8em; font-weight: bold; line-height: 1; border-radius: 0.35em; vertical-align: middle; margin-left: 0.5rem\">TECH</span>\n",
       "</mark>\n",
       " \n",
       "<mark class=\"entity\" style=\"background: linear-gradient(90deg, #aa9cfc, #fc9ce7); padding: 0.45em 0.6em; margin: 0 0.25em; line-height: 1; border-radius: 0.35em;\">\n",
       "    Python\n",
       "    <span style=\"font-size: 0.8em; font-weight: bold; line-height: 1; border-radius: 0.35em; vertical-align: middle; margin-left: 0.5rem\">LANG</span>\n",
       "</mark>\n",
       "</div></span>"
      ],
      "text/plain": [
       "<IPython.core.display.HTML object>"
      ]
     },
     "metadata": {},
     "output_type": "display_data"
    },
    {
     "data": {
      "text/html": [
       "<span class=\"tex2jax_ignore\"><div class=\"entities\" style=\"line-height: 2.5; direction: ltr\">\n",
       "<mark class=\"entity\" style=\"background: #ddd; padding: 0.45em 0.6em; margin: 0 0.25em; line-height: 1; border-radius: 0.35em;\">\n",
       "    Всё, что вы хотели знать\n",
       "    <span style=\"font-size: 0.8em; font-weight: bold; line-height: 1; border-radius: 0.35em; vertical-align: middle; margin-left: 0.5rem\">TYPE</span>\n",
       "</mark>\n",
       " о \n",
       "<mark class=\"entity\" style=\"background: linear-gradient(90deg, #aa9cfc, #fc9ce7); padding: 0.45em 0.6em; margin: 0 0.25em; line-height: 1; border-radius: 0.35em;\">\n",
       "    JavaScript\n",
       "    <span style=\"font-size: 0.8em; font-weight: bold; line-height: 1; border-radius: 0.35em; vertical-align: middle; margin-left: 0.5rem\">LANG</span>\n",
       "</mark>\n",
       ", но боялись спросить.</div></span>"
      ],
      "text/plain": [
       "<IPython.core.display.HTML object>"
      ]
     },
     "metadata": {},
     "output_type": "display_data"
    },
    {
     "data": {
      "text/html": [
       "<span class=\"tex2jax_ignore\"><div class=\"entities\" style=\"line-height: 2.5; direction: ltr\">\n",
       "<mark class=\"entity\" style=\"background: #ddd; padding: 0.45em 0.6em; margin: 0 0.25em; line-height: 1; border-radius: 0.35em;\">\n",
       "    Новые возможности\n",
       "    <span style=\"font-size: 0.8em; font-weight: bold; line-height: 1; border-radius: 0.35em; vertical-align: middle; margin-left: 0.5rem\">ADV</span>\n",
       "</mark>\n",
       " \n",
       "<mark class=\"entity\" style=\"background: #ddd; padding: 0.45em 0.6em; margin: 0 0.25em; line-height: 1; border-radius: 0.35em;\">\n",
       "    Ubuntu\n",
       "    <span style=\"font-size: 0.8em; font-weight: bold; line-height: 1; border-radius: 0.35em; vertical-align: middle; margin-left: 0.5rem\">OS</span>\n",
       "</mark>\n",
       " \n",
       "<mark class=\"entity\" style=\"background: #ddd; padding: 0.45em 0.6em; margin: 0 0.25em; line-height: 1; border-radius: 0.35em;\">\n",
       "    20.04\n",
       "    <span style=\"font-size: 0.8em; font-weight: bold; line-height: 1; border-radius: 0.35em; vertical-align: middle; margin-left: 0.5rem\">VERSION</span>\n",
       "</mark>\n",
       ".</div></span>"
      ],
      "text/plain": [
       "<IPython.core.display.HTML object>"
      ]
     },
     "metadata": {},
     "output_type": "display_data"
    }
   ],
   "source": [
    "# в файле tags.json хранятся данные \n",
    "with open(f'nlp_model/tags.json') as f:\n",
    "    tags = json.load(f)\n",
    "\n",
    "# определим, какие сущности мы зарезервировали\n",
    "tag_names = list(tags.keys())\n",
    "\n",
    "examples = ['ТОП-3 книги о языке программирования Python',\n",
    "            'Всё, что вы хотели знать о JavaScript, но боялись спросить.',\n",
    "            'Новые возможности Ubuntu 20.04.']\n",
    "\n",
    "colors = {\"LANG\": \"linear-gradient(90deg, #aa9cfc, #fc9ce7)\"}\n",
    "options = {\"ents\": tag_names, \"colors\": colors}\n",
    "\n",
    "for example in examples:\n",
    "    doc = nlp(example)\n",
    "    displacy.render(doc, style=\"ent\",\n",
    "                    options=options,\n",
    "                    jupyter=True)"
   ]
  },
  {
   "cell_type": "markdown",
   "metadata": {},
   "source": [
    "Теперь применим NER-модель к текстовой составляющей — признаку `title`. Определим, какие сущности (`ents`) встречаются и какова их доля (`fraction`) от общей длины заголовка:"
   ]
  },
  {
   "cell_type": "code",
   "execution_count": 207,
   "metadata": {},
   "outputs": [],
   "source": [
    "def str_to_ents(s):\n",
    "    seq = nlp(s).ents\n",
    "    labels, indices = [], []\n",
    "    for ent in seq:\n",
    "        if ent.label_ in tag_names:\n",
    "            labels.append(ent.label_)\n",
    "            indices.append([ent.start_char, ent.end_char])\n",
    "    try:\n",
    "        fraction = len(''.join(str(ent) for ent in seq))/len(s)            \n",
    "    except ZeroDivisionError:\n",
    "        fraction = 0.0\n",
    "    return labels, fraction, indices\n",
    "\n",
    "\n",
    "try:\n",
    "    # распознавание сущностей для большого массива\n",
    "    # это трудоемкая операция, поэтому мы сохраняем результат\n",
    "    # и загружаем его, если уже был проведен расчет\n",
    "    Xy = pd.read_csv(f'{DATASETS_PATH}/Xy_ents.csv',\n",
    "                     index_col=0)\n",
    "    Xy.ents = Xy.ents.apply(eval)\n",
    "except FileNotFoundError:\n",
    "    Xy['ents'] = Xy.title.progress_apply(str_to_ents)\n",
    "    Xy['ents_fraction'] = Xy['ents'].apply(lambda x: x[1])\n",
    "    Xy['ents'] = Xy['ents'].apply(lambda x: x[0])\n",
    "    Xy.to_csv(f'{DATASETS_PATH}/Xy_ents.csv')"
   ]
  },
  {
   "cell_type": "markdown",
   "metadata": {},
   "source": [
    "Преобразуем полученные данные об именованных сущностях к числовому представлению."
   ]
  },
  {
   "cell_type": "code",
   "execution_count": 204,
   "metadata": {},
   "outputs": [
    {
     "data": {
      "application/vnd.jupyter.widget-view+json": {
       "model_id": "8c2f75b9bf484587bd5dd7e56e3f10b9",
       "version_major": 2,
       "version_minor": 0
      },
      "text/plain": [
       "HBox(children=(FloatProgress(value=0.0, max=306402.0), HTML(value='')))"
      ]
     },
     "metadata": {},
     "output_type": "display_data"
    },
    {
     "name": "stdout",
     "output_type": "stream",
     "text": [
      "\n"
     ]
    },
    {
     "data": {
      "text/html": [
       "<div>\n",
       "<style scoped>\n",
       "    .dataframe tbody tr th:only-of-type {\n",
       "        vertical-align: middle;\n",
       "    }\n",
       "\n",
       "    .dataframe tbody tr th {\n",
       "        vertical-align: top;\n",
       "    }\n",
       "\n",
       "    .dataframe thead th {\n",
       "        text-align: right;\n",
       "    }\n",
       "</style>\n",
       "<table border=\"1\" class=\"dataframe\">\n",
       "  <thead>\n",
       "    <tr style=\"text-align: right;\">\n",
       "      <th></th>\n",
       "      <th>timedelta</th>\n",
       "      <th>title</th>\n",
       "      <th>views_num</th>\n",
       "      <th>y</th>\n",
       "      <th>ents</th>\n",
       "      <th>ents_fraction</th>\n",
       "      <th>PER</th>\n",
       "      <th>ORG</th>\n",
       "      <th>LOC</th>\n",
       "      <th>OBJ</th>\n",
       "      <th>...</th>\n",
       "      <th>MATH</th>\n",
       "      <th>GAME</th>\n",
       "      <th>NEWS</th>\n",
       "      <th>CONF</th>\n",
       "      <th>ACTUAL</th>\n",
       "      <th>COND</th>\n",
       "      <th>APP</th>\n",
       "      <th>VERSION</th>\n",
       "      <th>LIB</th>\n",
       "      <th>FRAME</th>\n",
       "    </tr>\n",
       "  </thead>\n",
       "  <tbody>\n",
       "    <tr>\n",
       "      <th>0</th>\n",
       "      <td>0.006861</td>\n",
       "      <td>Blackbox-сканеры в процессе оценки безопасност...</td>\n",
       "      <td>0.023319</td>\n",
       "      <td>1.959235</td>\n",
       "      <td>[DANGER]</td>\n",
       "      <td>0.517241</td>\n",
       "      <td>0</td>\n",
       "      <td>0</td>\n",
       "      <td>0</td>\n",
       "      <td>0</td>\n",
       "      <td>...</td>\n",
       "      <td>0</td>\n",
       "      <td>0</td>\n",
       "      <td>0</td>\n",
       "      <td>0</td>\n",
       "      <td>0</td>\n",
       "      <td>0</td>\n",
       "      <td>0</td>\n",
       "      <td>0</td>\n",
       "      <td>0</td>\n",
       "      <td>0</td>\n",
       "    </tr>\n",
       "    <tr>\n",
       "      <th>1</th>\n",
       "      <td>0.006972</td>\n",
       "      <td>Инструменты управления командой разработки на ...</td>\n",
       "      <td>0.058947</td>\n",
       "      <td>2.606826</td>\n",
       "      <td>[OBJ, OBJ, PUNCT, TYPE]</td>\n",
       "      <td>0.935897</td>\n",
       "      <td>0</td>\n",
       "      <td>0</td>\n",
       "      <td>0</td>\n",
       "      <td>2</td>\n",
       "      <td>...</td>\n",
       "      <td>0</td>\n",
       "      <td>0</td>\n",
       "      <td>0</td>\n",
       "      <td>0</td>\n",
       "      <td>0</td>\n",
       "      <td>0</td>\n",
       "      <td>0</td>\n",
       "      <td>0</td>\n",
       "      <td>0</td>\n",
       "      <td>0</td>\n",
       "    </tr>\n",
       "    <tr>\n",
       "      <th>2</th>\n",
       "      <td>0.006989</td>\n",
       "      <td>Стоит поиграть: обзор игры 7 Billion Humans</td>\n",
       "      <td>0.081565</td>\n",
       "      <td>2.938459</td>\n",
       "      <td>[TYPE, PUNCT, TYPE, OS]</td>\n",
       "      <td>0.604651</td>\n",
       "      <td>0</td>\n",
       "      <td>0</td>\n",
       "      <td>0</td>\n",
       "      <td>0</td>\n",
       "      <td>...</td>\n",
       "      <td>0</td>\n",
       "      <td>0</td>\n",
       "      <td>0</td>\n",
       "      <td>0</td>\n",
       "      <td>0</td>\n",
       "      <td>0</td>\n",
       "      <td>0</td>\n",
       "      <td>0</td>\n",
       "      <td>0</td>\n",
       "      <td>0</td>\n",
       "    </tr>\n",
       "    <tr>\n",
       "      <th>3</th>\n",
       "      <td>0.007087</td>\n",
       "      <td>Как снизить расходы на разработку программного...</td>\n",
       "      <td>0.078663</td>\n",
       "      <td>2.899126</td>\n",
       "      <td>[DANGER, DANGER, PUNCT]</td>\n",
       "      <td>0.932203</td>\n",
       "      <td>0</td>\n",
       "      <td>0</td>\n",
       "      <td>0</td>\n",
       "      <td>0</td>\n",
       "      <td>...</td>\n",
       "      <td>0</td>\n",
       "      <td>0</td>\n",
       "      <td>0</td>\n",
       "      <td>0</td>\n",
       "      <td>0</td>\n",
       "      <td>0</td>\n",
       "      <td>0</td>\n",
       "      <td>0</td>\n",
       "      <td>0</td>\n",
       "      <td>0</td>\n",
       "    </tr>\n",
       "    <tr>\n",
       "      <th>4</th>\n",
       "      <td>0.007103</td>\n",
       "      <td>Моя история в IT: от любви к математике до меж...</td>\n",
       "      <td>0.071457</td>\n",
       "      <td>2.783585</td>\n",
       "      <td>[TYPE, PUNCT, TYPE, VERSION, TYPE]</td>\n",
       "      <td>0.829787</td>\n",
       "      <td>0</td>\n",
       "      <td>0</td>\n",
       "      <td>0</td>\n",
       "      <td>0</td>\n",
       "      <td>...</td>\n",
       "      <td>0</td>\n",
       "      <td>0</td>\n",
       "      <td>0</td>\n",
       "      <td>0</td>\n",
       "      <td>0</td>\n",
       "      <td>0</td>\n",
       "      <td>0</td>\n",
       "      <td>1</td>\n",
       "      <td>0</td>\n",
       "      <td>0</td>\n",
       "    </tr>\n",
       "  </tbody>\n",
       "</table>\n",
       "<p>5 rows × 37 columns</p>\n",
       "</div>"
      ],
      "text/plain": [
       "   timedelta                                              title  views_num  \\\n",
       "0   0.006861  Blackbox-сканеры в процессе оценки безопасност...   0.023319   \n",
       "1   0.006972  Инструменты управления командой разработки на ...   0.058947   \n",
       "2   0.006989        Стоит поиграть: обзор игры 7 Billion Humans   0.081565   \n",
       "3   0.007087  Как снизить расходы на разработку программного...   0.078663   \n",
       "4   0.007103  Моя история в IT: от любви к математике до меж...   0.071457   \n",
       "\n",
       "          y                                ents  ents_fraction  PER  ORG  LOC  \\\n",
       "0  1.959235                            [DANGER]       0.517241    0    0    0   \n",
       "1  2.606826             [OBJ, OBJ, PUNCT, TYPE]       0.935897    0    0    0   \n",
       "2  2.938459             [TYPE, PUNCT, TYPE, OS]       0.604651    0    0    0   \n",
       "3  2.899126             [DANGER, DANGER, PUNCT]       0.932203    0    0    0   \n",
       "4  2.783585  [TYPE, PUNCT, TYPE, VERSION, TYPE]       0.829787    0    0    0   \n",
       "\n",
       "   OBJ  ...  MATH  GAME  NEWS  CONF  ACTUAL  COND  APP  VERSION  LIB  FRAME  \n",
       "0    0  ...     0     0     0     0       0     0    0        0    0      0  \n",
       "1    2  ...     0     0     0     0       0     0    0        0    0      0  \n",
       "2    0  ...     0     0     0     0       0     0    0        0    0      0  \n",
       "3    0  ...     0     0     0     0       0     0    0        0    0      0  \n",
       "4    0  ...     0     0     0     0       0     0    0        1    0      0  \n",
       "\n",
       "[5 rows x 37 columns]"
      ]
     },
     "execution_count": 204,
     "metadata": {},
     "output_type": "execute_result"
    }
   ],
   "source": [
    "def ents_to_array(ents_list):\n",
    "    '''Преобразует список именованных сущностей\n",
    "    для одного заголовка в массив чисел,\n",
    "    где индекс соответствует номеру сущности,\n",
    "    а число - количеству появлений в заголовке'''\n",
    "    line = [0]*len(tag_names)\n",
    "    for t in ents_list:\n",
    "        try:\n",
    "            i = tag_names.index(t)\n",
    "            line[i] += 1\n",
    "        except ValueError:\n",
    "            pass\n",
    "    return np.array(line, dtype=np.uint8)\n",
    "\n",
    "ents_array = Xy.ents.progress_apply(ents_to_array)\n",
    "data = np.array(ents_array.to_list())\n",
    "tmp = pd.DataFrame(data, columns=tag_names)\n",
    "Xy = pd.concat([Xy, tmp], axis = 1)\n",
    "Xy.head()"
   ]
  },
  {
   "cell_type": "markdown",
   "metadata": {},
   "source": [
    "Посмотрим на корреляцию признаков и числа просмотров `views_num` (без нелинейных преобразований `y`):"
   ]
  },
  {
   "cell_type": "code",
   "execution_count": 205,
   "metadata": {},
   "outputs": [
    {
     "data": {
      "text/plain": [
       "views_num        1.000000\n",
       "TYPE             0.067021\n",
       "AUD              0.059252\n",
       "NUM              0.058857\n",
       "TECH             0.033479\n",
       "ADV              0.028049\n",
       "OS               0.027734\n",
       "TODO             0.027263\n",
       "ents_fraction    0.025298\n",
       "APP              0.024423\n",
       "EFFORT           0.022167\n",
       "COND             0.020695\n",
       "DEVICE           0.020341\n",
       "EMO              0.015683\n",
       "MATH             0.014419\n",
       "OBJ              0.014397\n",
       "STRUCT           0.014030\n",
       "PART             0.013372\n",
       "LANG             0.012273\n",
       "LIB              0.009814\n",
       "FRAME            0.009645\n",
       "VERSION          0.006660\n",
       "ACTUAL           0.005219\n",
       "ORG              0.004831\n",
       "GAME             0.001097\n",
       "PER             -0.002634\n",
       "NEWS            -0.004132\n",
       "SITE            -0.004590\n",
       "ANNOUNCE        -0.004949\n",
       "CONF            -0.009781\n",
       "DANGER          -0.010112\n",
       "LOC             -0.013116\n",
       "PROGRAM         -0.018553\n",
       "timedelta       -0.144619\n",
       "Name: views_num, dtype: float64"
      ]
     },
     "execution_count": 205,
     "metadata": {},
     "output_type": "execute_result"
    }
   ],
   "source": [
    "correlations = Xy.drop(columns=['y']).corr()\n",
    "correlations['views_num'].sort_values(ascending=False)"
   ]
  },
  {
   "cell_type": "markdown",
   "metadata": {},
   "source": [
    "Относительно тегов мы можем предположить, что указание типа (`TYPE`),  используемой технологии (`TECH`), целевой аудитории `AUD` и совершаемого действия (`TODO`) обычно приводят к увеличению числа просмотров.\n",
    "\n",
    "Указание опасности (`DANGER`), организации, персоны, локации (`ORG`, `PER`, `LOC`), конкретной программы (`PROGRAM`), конференции (`CONF`),видимо, в большей мере относятся к новостям, которые быстро теряют актуальности. Поэтому такие атрибуты связаны с уменьшением количества просмотров."
   ]
  },
  {
   "cell_type": "code",
   "execution_count": 186,
   "metadata": {},
   "outputs": [],
   "source": [
    "X = Xy.drop(columns=['title', 'views_num', 'ents', 'y'])\n",
    "y = Xy.y"
   ]
  },
  {
   "cell_type": "markdown",
   "metadata": {},
   "source": [
    "Сами корреляции коэффициенты корреляции в абсолютном значении невелики. Поэтому большее внимание надо отдавать языковой модели. Предварительно попробуем поискать композитные фичи, используя пары и тройки столбцов с тегами."
   ]
  },
  {
   "cell_type": "code",
   "execution_count": 187,
   "metadata": {},
   "outputs": [],
   "source": [
    "X_ents = X.drop(columns=['timedelta', 'ents_fraction'])\n",
    "from itertools import combinations\n",
    "\n",
    "cc2 = list(combinations(X_ents.columns,2))\n",
    "X_ents2 = pd.concat([X_ents[c[0]].add(X_ents[c[1]]) for c in cc2],\n",
    "          axis=1, keys=cc2)\n",
    "\n",
    "cc3 = list(combinations(X_ents.columns,3))\n",
    "X_ents3 = pd.concat([X_ents[c[0]].add(X_ents[c[1]]).add(X_ents[c[2]]) for c in cc3],\n",
    "          axis=1, keys=cc3)\n",
    "\n",
    "X_ents2.columns = X_ents2.columns.map('_'.join)\n",
    "X_ents3.columns = X_ents3.columns.map('_'.join)\n",
    "X_ents = pd.concat([X, X_ents2, X_ents3, Xy['views_num']], axis=1)"
   ]
  },
  {
   "cell_type": "code",
   "execution_count": 188,
   "metadata": {},
   "outputs": [],
   "source": [
    "d = dict()\n",
    "X_ents = X_ents.fillna(0)\n",
    "X_ents['BOOL'] = X.ents_fraction.apply(lambda x: x == 0)\n",
    "for col in X_ents.drop(columns=['views_num', 'timedelta', 'ents_fraction']).columns:\n",
    "    d[col] = stats.pearsonr(X_ents['views_num'], X_ents[col])[0]"
   ]
  },
  {
   "cell_type": "code",
   "execution_count": 189,
   "metadata": {},
   "outputs": [],
   "source": [
    "ner_list, value_list = [], []\n",
    "\n",
    "for key in d:\n",
    "    ner_list.append(set(key.split('_')))\n",
    "    value_list.append(d[key])"
   ]
  },
  {
   "cell_type": "code",
   "execution_count": 190,
   "metadata": {},
   "outputs": [],
   "source": [
    "df_ner_cor = pd.DataFrame.from_dict({'NER': ner_list, 'VALUE': value_list})\n",
    "df_ner_cor.to_csv(f'nlp_model/df_ner_corr.csv')"
   ]
  },
  {
   "cell_type": "code",
   "execution_count": 191,
   "metadata": {},
   "outputs": [
    {
     "data": {
      "text/html": [
       "<div>\n",
       "<style scoped>\n",
       "    .dataframe tbody tr th:only-of-type {\n",
       "        vertical-align: middle;\n",
       "    }\n",
       "\n",
       "    .dataframe tbody tr th {\n",
       "        vertical-align: top;\n",
       "    }\n",
       "\n",
       "    .dataframe thead th {\n",
       "        text-align: right;\n",
       "    }\n",
       "</style>\n",
       "<table border=\"1\" class=\"dataframe\">\n",
       "  <thead>\n",
       "    <tr style=\"text-align: right;\">\n",
       "      <th></th>\n",
       "      <th>NER</th>\n",
       "      <th>VALUE</th>\n",
       "    </tr>\n",
       "  </thead>\n",
       "  <tbody>\n",
       "    <tr>\n",
       "      <th>2066</th>\n",
       "      <td>{NUM, AUD, TYPE}</td>\n",
       "      <td>0.096743</td>\n",
       "    </tr>\n",
       "    <tr>\n",
       "      <th>2071</th>\n",
       "      <td>{TODO, AUD, TYPE}</td>\n",
       "      <td>0.091366</td>\n",
       "    </tr>\n",
       "    <tr>\n",
       "      <th>2073</th>\n",
       "      <td>{ADV, AUD, TYPE}</td>\n",
       "      <td>0.090488</td>\n",
       "    </tr>\n",
       "    <tr>\n",
       "      <th>2076</th>\n",
       "      <td>{OS, AUD, TYPE}</td>\n",
       "      <td>0.090362</td>\n",
       "    </tr>\n",
       "    <tr>\n",
       "      <th>2075</th>\n",
       "      <td>{TECH, AUD, TYPE}</td>\n",
       "      <td>0.090052</td>\n",
       "    </tr>\n",
       "    <tr>\n",
       "      <th>...</th>\n",
       "      <td>...</td>\n",
       "      <td>...</td>\n",
       "    </tr>\n",
       "    <tr>\n",
       "      <th>1491</th>\n",
       "      <td>{LOC, PROGRAM, DANGER}</td>\n",
       "      <td>-0.022632</td>\n",
       "    </tr>\n",
       "    <tr>\n",
       "      <th>1629</th>\n",
       "      <td>{LOC, PROGRAM, NEWS}</td>\n",
       "      <td>-0.022713</td>\n",
       "    </tr>\n",
       "    <tr>\n",
       "      <th>1626</th>\n",
       "      <td>{LOC, PROGRAM, ANNOUNCE}</td>\n",
       "      <td>-0.022861</td>\n",
       "    </tr>\n",
       "    <tr>\n",
       "      <th>1630</th>\n",
       "      <td>{LOC, PROGRAM, CONF}</td>\n",
       "      <td>-0.023704</td>\n",
       "    </tr>\n",
       "    <tr>\n",
       "      <th>4991</th>\n",
       "      <td>{BOOL}</td>\n",
       "      <td>-0.029062</td>\n",
       "    </tr>\n",
       "  </tbody>\n",
       "</table>\n",
       "<p>4992 rows × 2 columns</p>\n",
       "</div>"
      ],
      "text/plain": [
       "                           NER     VALUE\n",
       "2066          {NUM, AUD, TYPE}  0.096743\n",
       "2071         {TODO, AUD, TYPE}  0.091366\n",
       "2073          {ADV, AUD, TYPE}  0.090488\n",
       "2076           {OS, AUD, TYPE}  0.090362\n",
       "2075         {TECH, AUD, TYPE}  0.090052\n",
       "...                        ...       ...\n",
       "1491    {LOC, PROGRAM, DANGER} -0.022632\n",
       "1629      {LOC, PROGRAM, NEWS} -0.022713\n",
       "1626  {LOC, PROGRAM, ANNOUNCE} -0.022861\n",
       "1630      {LOC, PROGRAM, CONF} -0.023704\n",
       "4991                    {BOOL} -0.029062\n",
       "\n",
       "[4992 rows x 2 columns]"
      ]
     },
     "execution_count": 191,
     "metadata": {},
     "output_type": "execute_result"
    }
   ],
   "source": [
    "df_ner_cor.sort_values(by='VALUE', ascending=False)"
   ]
  },
  {
   "cell_type": "markdown",
   "metadata": {},
   "source": [
    "Метке `BOOL` соответствует полное отсутствие каких-либо сущностей. Таким образом, хотя бы минимальное соответствие, даже худшим по корреляциям из меток, лучше, чем ничего."
   ]
  },
  {
   "cell_type": "markdown",
   "metadata": {},
   "source": [
    "# 3. Обучение регрессионной модели"
   ]
  },
  {
   "cell_type": "markdown",
   "metadata": {},
   "source": [
    "Мы привели текстовые данные к числовому представлению и теперь можем заняться задачей регрессии."
   ]
  },
  {
   "cell_type": "code",
   "execution_count": null,
   "metadata": {},
   "outputs": [],
   "source": [
    "X = X.fillna(0)\n",
    "X_train, X_test, y_train, y_test = train_test_split(X_ents.drop(columns=['views_num']), y,\n",
    "                                                    random_state=0)"
   ]
  },
  {
   "cell_type": "markdown",
   "metadata": {},
   "source": [
    "При обучении используем структуру `Pool`:"
   ]
  },
  {
   "cell_type": "code",
   "execution_count": null,
   "metadata": {},
   "outputs": [],
   "source": [
    "catboost_params = {\n",
    "    'iterations': 10000,\n",
    "    'learning_rate': 0.01,\n",
    "    'eval_metric': 'RMSE',\n",
    "    'early_stopping_rounds': 100,\n",
    "    'use_best_model': True\n",
    "}\n",
    "\n",
    "def fit_model(X_train, y_train, X_test, y_test, catboost_params):\n",
    "    train_pool = Pool(data = X_train,\n",
    "                      label = y_train)\n",
    "\n",
    "    validation_pool = Pool(data = X_test,\n",
    "                           label = y_test)\n",
    "\n",
    "    model = CatBoostRegressor(**catboost_params)\n",
    "\n",
    "    return model.fit(train_pool,\n",
    "                     eval_set=validation_pool,\n",
    "                     verbose=100)\n",
    "\n",
    "\n",
    "model = fit_model(X_train, y_train,\n",
    "                  X_test, y_test,\n",
    "                  catboost_params)"
   ]
  },
  {
   "cell_type": "code",
   "execution_count": null,
   "metadata": {},
   "outputs": [],
   "source": [
    "print(MSE(model.predict(X_test), y_test))\n",
    "plt.scatter(model.predict(X_test), y_test, s=0.01)\n",
    "plt.show()"
   ]
  },
  {
   "cell_type": "markdown",
   "metadata": {},
   "source": [
    "Вполне ожидаемо (и прискорбно), но регресионная модель обучается довольно слабо: на число просмотров оказывают влияния множество иных факторов, а не только сами сущности.\n",
    "\n",
    "Использование трансформерной модели или других моделей, работающих с сутью текста, повысило бы качество, но усложнило бы коррекцию заголовка пользователем: балл оценки в таком случае сложно интерпретируется, возможны только действия \"наугад\". Однако такое решение можно использовать в будущем для генеративного подхода поиска заголовка.\n",
    "\n",
    "Поэтому мы воспользуемся подходом программного определения правил, исходя из лучших сочетаний сущностей."
   ]
  },
  {
   "cell_type": "markdown",
   "metadata": {},
   "source": [
    "# 4. Упрощенная корреляционная модель\n",
    "\n",
    "Напишем функцию, которая принимает на вход строку, а на выходе возвращает рекомендации для коррекции заголовка.\n",
    "\n",
    "Рассмотрим возможные варианты:\n",
    "1. **Строка заголовка пустая**. Отображаем подсказку, что заголовок нужно ввести.\n",
    "2. **Строка заголовка непустая, но мы не распознали сущности**. Выставляем 0 баллов. Мягко предлагаем переформулировать заголовок, подумать над темой или отправить нам заголовок, чтобы мы доразметили набор данных.\n",
    "3. **Найдена 1 сущность**. В каждом случае, когда распознана сущность, выставляем балл и предлагаем возможное улучшение. Для этого смотрим, в каких случаях была\n",
    "4. **Найдены 2 сущности**. \n",
    "5. **Найдены 3 сущности**. \n",
    "6. **Найдено более 3 сущностей**. "
   ]
  },
  {
   "cell_type": "code",
   "execution_count": 247,
   "metadata": {},
   "outputs": [
    {
     "data": {
      "text/plain": [
       "{'rating': 5.300000000000001,\n",
       " 'ents': ['NUM', 'EMO', 'OBJ'],\n",
       " 'definitons_in': ['Указание числа используемых источников или рассматриваемых объектов',\n",
       "  'Эмоция.  С эмоциями не стоит перебарщивать, но иногда сильная эмоция или выражение отношения — то, что нужно.',\n",
       "  'Неспецифичный объект, встречающийся в заголовках IT-статей'],\n",
       " 'examples_in': [['10 лучших', 'ТОП-3'],\n",
       "  ['чертовски тяжело', 'худшее, что могло случиться с'],\n",
       "  ['мобильная связь', 'электронное мисьмо']],\n",
       " 'comment': 'Хороший заголовок для IT-статьи.',\n",
       " 'suggestion_start': 'Чтобы его улучшить, укажите ',\n",
       " 'suggestions': ['TYPE', 'AUD', 'TECH', 'ADV'],\n",
       " 'accusatives': ['тип текста',\n",
       "  'аудиторию',\n",
       "  'технические детали',\n",
       "  'преимущества, которые получит пользователь получит от прочтения'],\n",
       " 'definitions_out': ['Маркер типа текста. По такому маркеру читатели понимают, с каким текстом имеют дело.',\n",
       "  'Аудитория. Для кого предназначена публикация',\n",
       "  'Технический термин из мира IT',\n",
       "  'Преимущество, получаемое читателем'],\n",
       " 'examples_out': [['инструкция',\n",
       "   'как установить...',\n",
       "   'что такое...',\n",
       "   'X vs Y'],\n",
       "  ['для новичков', 'для профи', 'до 30 лет', 'русская версия'],\n",
       "  ['HTTP/2.0', 'десериализация', 'изоляция транзакций'],\n",
       "  ['бесплатно', 'своими руками', 'в домашних условиях']],\n",
       " 'indices': [[0, 2], [3, 9], [10, 33]]}"
      ]
     },
     "execution_count": 247,
     "metadata": {},
     "output_type": "execute_result"
    }
   ],
   "source": [
    "import importlib\n",
    "import nlp_model.corr_model\n",
    "from nlp_model.corr_model import text_to_suggestion\n",
    "importlib.reload(nlp_model.corr_model)\n",
    "text_to_suggestion('10 лучших языков программирования')"
   ]
  }
 ],
 "metadata": {
  "kernelspec": {
   "display_name": "Python 3",
   "language": "python",
   "name": "python3"
  },
  "language_info": {
   "codemirror_mode": {
    "name": "ipython",
    "version": 3
   },
   "file_extension": ".py",
   "mimetype": "text/x-python",
   "name": "python",
   "nbconvert_exporter": "python",
   "pygments_lexer": "ipython3",
   "version": "3.8.5"
  }
 },
 "nbformat": 4,
 "nbformat_minor": 4
}
