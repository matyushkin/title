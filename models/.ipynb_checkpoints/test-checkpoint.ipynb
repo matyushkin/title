{
 "cells": [
  {
   "cell_type": "markdown",
   "id": "3935d2a8-0e8a-4a3a-a2fd-a036eb6ae5ba",
   "metadata": {},
   "source": [
    "# Test models"
   ]
  },
  {
   "cell_type": "markdown",
   "id": "28f4c0ac-9a0b-46eb-ac55-50aa45497359",
   "metadata": {},
   "source": [
    "## Test scoring model"
   ]
  },
  {
   "cell_type": "code",
   "execution_count": 9,
   "id": "abc35e91-d567-493e-8fb0-bea0922021c4",
   "metadata": {},
   "outputs": [],
   "source": [
    "import os\n",
    "os.environ['CUDA_LAUNCH_BLOCKING'] = \"1\"\n",
    "\n",
    "import pickle\n",
    "import numpy as np\n",
    "import pandas as pd\n",
    "\n",
    "from sklearn.model_selection import train_test_split\n",
    "from sklearn.metrics import precision_recall_fscore_support\n",
    "\n",
    "import torch\n",
    "from transformers import BertTokenizer\n",
    "from transformers import BertForSequenceClassification\n",
    "\n",
    "data_path='../../DATASETS/IT_TEXTS'\n",
    "\n",
    "Xy = pd.read_feather(f'{data_path}/PREPROCESSING/Xy.feather')\n",
    "Xy.fillna('', inplace=True)\n",
    "#X, y = Xy[['title', 'summary']], Xy['class']\n",
    "#del Xy\n",
    "#\n",
    "train, test = train_test_split(Xy, test_size=.2, random_state=0)"
   ]
  },
  {
   "cell_type": "code",
   "execution_count": 10,
   "id": "9014885c-3da4-4cb1-aa91-23612c96589c",
   "metadata": {},
   "outputs": [],
   "source": [
    "tokenizer = BertTokenizer.from_pretrained('DeepPavlov/rubert-base-cased')\n",
    "model = BertForSequenceClassification.from_pretrained(f'{data_path}/MODELS/checkpoint-44000')"
   ]
  },
  {
   "cell_type": "code",
   "execution_count": 11,
   "id": "42aa68ab-b9fb-4619-a23a-55ef7cac6f5d",
   "metadata": {},
   "outputs": [],
   "source": [
    "def classificate(x):\n",
    "    t, s = x.title, x.summary\n",
    "    tokens = tokenizer.encode_plus(t, s, return_tensors=\"pt\")\n",
    "    classification_logits = model(**tokens)[0]\n",
    "    results = torch.softmax(classification_logits, dim=1).tolist()[0]\n",
    "    return results[1]"
   ]
  },
  {
   "cell_type": "code",
   "execution_count": 12,
   "id": "17c17198-8ae5-450e-b7b5-491483c83207",
   "metadata": {},
   "outputs": [],
   "source": [
    "from tqdm.notebook import tqdm"
   ]
  },
  {
   "cell_type": "code",
   "execution_count": null,
   "id": "e0a247ad-82f1-45e1-9a5d-ede41ea50199",
   "metadata": {},
   "outputs": [
    {
     "data": {
      "application/vnd.jupyter.widget-view+json": {
       "model_id": "031349563d434b06bd29ff43c50d32d5",
       "version_major": 2,
       "version_minor": 0
      },
      "text/plain": [
       "HBox(children=(HTML(value=''), FloatProgress(value=0.0, max=61390.0), HTML(value='')))"
      ]
     },
     "metadata": {},
     "output_type": "display_data"
    }
   ],
   "source": [
    "_ = test[:]\n",
    "_['score'] = _.progress_apply(classificate, axis=1)"
   ]
  },
  {
   "cell_type": "code",
   "execution_count": 30,
   "id": "f21cb4f1-1682-4968-b636-02aba18b7f85",
   "metadata": {},
   "outputs": [
    {
     "name": "stderr",
     "output_type": "stream",
     "text": [
      "<ipython-input-30-2d2f8f22b326>:1: SettingWithCopyWarning: \n",
      "A value is trying to be set on a copy of a slice from a DataFrame.\n",
      "Try using .loc[row_indexer,col_indexer] = value instead\n",
      "\n",
      "See the caveats in the documentation: https://pandas.pydata.org/pandas-docs/stable/user_guide/indexing.html#returning-a-view-versus-a-copy\n",
      "  _['score'] = _['score'].apply(round)\n"
     ]
    }
   ],
   "source": [
    "_['score'] = _['score'].apply(round)"
   ]
  },
  {
   "cell_type": "code",
   "execution_count": 29,
   "id": "df002d61-2e56-4df8-908e-70bf4a02fece",
   "metadata": {},
   "outputs": [],
   "source": []
  },
  {
   "cell_type": "code",
   "execution_count": 35,
   "id": "099e7c31-c20c-4eff-9657-f92aba6ecea0",
   "metadata": {},
   "outputs": [
    {
     "data": {
      "text/plain": [
       "(0.623342175066313, 0.5988660524450744, 0.607843137254902, None)"
      ]
     },
     "execution_count": 35,
     "metadata": {},
     "output_type": "execute_result"
    }
   ],
   "source": [
    "precision_recall_fscore_support(_['class'], _['score'], average='macro')"
   ]
  },
  {
   "cell_type": "code",
   "execution_count": null,
   "id": "ae6eadf9-a59c-47cf-bcae-2192dc143e59",
   "metadata": {},
   "outputs": [],
   "source": []
  }
 ],
 "metadata": {
  "kernelspec": {
   "display_name": "Python 3",
   "language": "python",
   "name": "python3"
  },
  "language_info": {
   "codemirror_mode": {
    "name": "ipython",
    "version": 3
   },
   "file_extension": ".py",
   "mimetype": "text/x-python",
   "name": "python",
   "nbconvert_exporter": "python",
   "pygments_lexer": "ipython3",
   "version": "3.9.1"
  }
 },
 "nbformat": 4,
 "nbformat_minor": 5
}
